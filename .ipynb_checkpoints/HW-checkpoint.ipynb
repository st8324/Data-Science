{
 "cells": [
  {
   "cell_type": "code",
   "execution_count": 1,
   "metadata": {
    "collapsed": true
   },
   "outputs": [],
   "source": [
    "import pandas as pd #pandas "
   ]
  },
  {
   "cell_type": "code",
   "execution_count": 2,
   "metadata": {
    "collapsed": true
   },
   "outputs": [],
   "source": [
    "import numpy as np #다차원의 숫자 배열을 파이썬에서 효율적으로 처리하기 위한 모듈"
   ]
  },
  {
   "cell_type": "code",
   "execution_count": 3,
   "metadata": {
    "collapsed": true
   },
   "outputs": [],
   "source": [
    "import matplotlib.pyplot as plt"
   ]
  },
  {
   "cell_type": "code",
   "execution_count": 4,
   "metadata": {
    "collapsed": true
   },
   "outputs": [],
   "source": [
    "s = pd.Series([1,3,5,np.nan,6,8]) #pansdas 자료구조 Series 생성, 1차원 : index를 사용하여 참조"
   ]
  },
  {
   "cell_type": "code",
   "execution_count": 5,
   "metadata": {
    "collapsed": false
   },
   "outputs": [
    {
     "data": {
      "text/plain": [
       "0     1\n",
       "1     3\n",
       "2     5\n",
       "3   NaN\n",
       "4     6\n",
       "5     8\n",
       "dtype: float64"
      ]
     },
     "execution_count": 5,
     "metadata": {},
     "output_type": "execute_result"
    }
   ],
   "source": [
    "s"
   ]
  },
  {
   "cell_type": "code",
   "execution_count": 6,
   "metadata": {
    "collapsed": true
   },
   "outputs": [],
   "source": [
    "dates = pd.date_range('20130101', periods=6) #pandas 자료구조 DataFrame 생성, 2013-01-01을 기준으로 6개, 2차원:index,colunms"
   ]
  },
  {
   "cell_type": "code",
   "execution_count": 7,
   "metadata": {
    "collapsed": false
   },
   "outputs": [
    {
     "data": {
      "text/plain": [
       "DatetimeIndex(['2013-01-01', '2013-01-02', '2013-01-03', '2013-01-04',\n",
       "               '2013-01-05', '2013-01-06'],\n",
       "              dtype='datetime64[ns]', freq='D', tz=None)"
      ]
     },
     "execution_count": 7,
     "metadata": {},
     "output_type": "execute_result"
    }
   ],
   "source": [
    "dates"
   ]
  },
  {
   "cell_type": "code",
   "execution_count": 8,
   "metadata": {
    "collapsed": true
   },
   "outputs": [],
   "source": [
    "df = pd.DataFrame(np.random.randn(6,4), index=dates, columns=list('ABCD')) \n",
    "#임의의 값을 가지는 6x4 DataFrame 생성, index는 dates, columns는 ABCD"
   ]
  },
  {
   "cell_type": "code",
   "execution_count": 9,
   "metadata": {
    "collapsed": false
   },
   "outputs": [
    {
     "data": {
      "text/html": [
       "<div>\n",
       "<table border=\"1\" class=\"dataframe\">\n",
       "  <thead>\n",
       "    <tr style=\"text-align: right;\">\n",
       "      <th></th>\n",
       "      <th>A</th>\n",
       "      <th>B</th>\n",
       "      <th>C</th>\n",
       "      <th>D</th>\n",
       "    </tr>\n",
       "  </thead>\n",
       "  <tbody>\n",
       "    <tr>\n",
       "      <th>2013-01-01</th>\n",
       "      <td>0.299028</td>\n",
       "      <td>-1.181714</td>\n",
       "      <td>-2.441782</td>\n",
       "      <td>-0.567676</td>\n",
       "    </tr>\n",
       "    <tr>\n",
       "      <th>2013-01-02</th>\n",
       "      <td>0.508745</td>\n",
       "      <td>0.143457</td>\n",
       "      <td>-0.322349</td>\n",
       "      <td>-1.797698</td>\n",
       "    </tr>\n",
       "    <tr>\n",
       "      <th>2013-01-03</th>\n",
       "      <td>0.082382</td>\n",
       "      <td>-0.104139</td>\n",
       "      <td>-0.020805</td>\n",
       "      <td>-0.799455</td>\n",
       "    </tr>\n",
       "    <tr>\n",
       "      <th>2013-01-04</th>\n",
       "      <td>-0.825304</td>\n",
       "      <td>-0.552276</td>\n",
       "      <td>-0.625291</td>\n",
       "      <td>0.117057</td>\n",
       "    </tr>\n",
       "    <tr>\n",
       "      <th>2013-01-05</th>\n",
       "      <td>0.565328</td>\n",
       "      <td>0.791494</td>\n",
       "      <td>-0.036873</td>\n",
       "      <td>-0.117764</td>\n",
       "    </tr>\n",
       "    <tr>\n",
       "      <th>2013-01-06</th>\n",
       "      <td>-0.408575</td>\n",
       "      <td>-0.710675</td>\n",
       "      <td>0.529753</td>\n",
       "      <td>-1.272782</td>\n",
       "    </tr>\n",
       "  </tbody>\n",
       "</table>\n",
       "</div>"
      ],
      "text/plain": [
       "                   A         B         C         D\n",
       "2013-01-01  0.299028 -1.181714 -2.441782 -0.567676\n",
       "2013-01-02  0.508745  0.143457 -0.322349 -1.797698\n",
       "2013-01-03  0.082382 -0.104139 -0.020805 -0.799455\n",
       "2013-01-04 -0.825304 -0.552276 -0.625291  0.117057\n",
       "2013-01-05  0.565328  0.791494 -0.036873 -0.117764\n",
       "2013-01-06 -0.408575 -0.710675  0.529753 -1.272782"
      ]
     },
     "execution_count": 9,
     "metadata": {},
     "output_type": "execute_result"
    }
   ],
   "source": [
    "df"
   ]
  },
  {
   "cell_type": "code",
   "execution_count": 10,
   "metadata": {
    "collapsed": true
   },
   "outputs": [],
   "source": [
    "df2 = pd.DataFrame({ 'A' : 1.,\n",
    "                    'B' : pd.Timestamp('20130102'),\n",
    "                    'C' : pd.Series(1,index=list(range(4)),dtype='float32'),#Series를 DataFrame에 넣기\n",
    "                    'D' : np.array([3] * 4,dtype='int32'), #4개짜리 배열에 3의 값을 입력\n",
    "                    'E' : pd.Categorical([\"test\",\"train\",\"test\",\"train\"]),\n",
    "                    'F' : 'foo' })"
   ]
  },
  {
   "cell_type": "code",
   "execution_count": 11,
   "metadata": {
    "collapsed": false
   },
   "outputs": [
    {
     "data": {
      "text/html": [
       "<div>\n",
       "<table border=\"1\" class=\"dataframe\">\n",
       "  <thead>\n",
       "    <tr style=\"text-align: right;\">\n",
       "      <th></th>\n",
       "      <th>A</th>\n",
       "      <th>B</th>\n",
       "      <th>C</th>\n",
       "      <th>D</th>\n",
       "      <th>E</th>\n",
       "      <th>F</th>\n",
       "    </tr>\n",
       "  </thead>\n",
       "  <tbody>\n",
       "    <tr>\n",
       "      <th>0</th>\n",
       "      <td>1</td>\n",
       "      <td>2013-01-02</td>\n",
       "      <td>1</td>\n",
       "      <td>3</td>\n",
       "      <td>test</td>\n",
       "      <td>foo</td>\n",
       "    </tr>\n",
       "    <tr>\n",
       "      <th>1</th>\n",
       "      <td>1</td>\n",
       "      <td>2013-01-02</td>\n",
       "      <td>1</td>\n",
       "      <td>3</td>\n",
       "      <td>train</td>\n",
       "      <td>foo</td>\n",
       "    </tr>\n",
       "    <tr>\n",
       "      <th>2</th>\n",
       "      <td>1</td>\n",
       "      <td>2013-01-02</td>\n",
       "      <td>1</td>\n",
       "      <td>3</td>\n",
       "      <td>test</td>\n",
       "      <td>foo</td>\n",
       "    </tr>\n",
       "    <tr>\n",
       "      <th>3</th>\n",
       "      <td>1</td>\n",
       "      <td>2013-01-02</td>\n",
       "      <td>1</td>\n",
       "      <td>3</td>\n",
       "      <td>train</td>\n",
       "      <td>foo</td>\n",
       "    </tr>\n",
       "  </tbody>\n",
       "</table>\n",
       "</div>"
      ],
      "text/plain": [
       "   A          B  C  D      E    F\n",
       "0  1 2013-01-02  1  3   test  foo\n",
       "1  1 2013-01-02  1  3  train  foo\n",
       "2  1 2013-01-02  1  3   test  foo\n",
       "3  1 2013-01-02  1  3  train  foo"
      ]
     },
     "execution_count": 11,
     "metadata": {},
     "output_type": "execute_result"
    }
   ],
   "source": [
    "df2"
   ]
  },
  {
   "cell_type": "code",
   "execution_count": 12,
   "metadata": {
    "collapsed": false
   },
   "outputs": [
    {
     "data": {
      "text/plain": [
       "A           float64\n",
       "B    datetime64[ns]\n",
       "C           float32\n",
       "D             int32\n",
       "E          category\n",
       "F            object\n",
       "dtype: object"
      ]
     },
     "execution_count": 12,
     "metadata": {},
     "output_type": "execute_result"
    }
   ],
   "source": [
    "df2.dtypes #각 columns의 데이터 타입을 출력"
   ]
  },
  {
   "cell_type": "code",
   "execution_count": 15,
   "metadata": {
    "collapsed": false
   },
   "outputs": [
    {
     "data": {
      "text/html": [
       "<div>\n",
       "<table border=\"1\" class=\"dataframe\">\n",
       "  <thead>\n",
       "    <tr style=\"text-align: right;\">\n",
       "      <th></th>\n",
       "      <th>A</th>\n",
       "      <th>B</th>\n",
       "      <th>C</th>\n",
       "      <th>D</th>\n",
       "    </tr>\n",
       "  </thead>\n",
       "  <tbody>\n",
       "    <tr>\n",
       "      <th>2013-01-01</th>\n",
       "      <td>0.299028</td>\n",
       "      <td>-1.181714</td>\n",
       "      <td>-2.441782</td>\n",
       "      <td>-0.567676</td>\n",
       "    </tr>\n",
       "    <tr>\n",
       "      <th>2013-01-02</th>\n",
       "      <td>0.508745</td>\n",
       "      <td>0.143457</td>\n",
       "      <td>-0.322349</td>\n",
       "      <td>-1.797698</td>\n",
       "    </tr>\n",
       "    <tr>\n",
       "      <th>2013-01-03</th>\n",
       "      <td>0.082382</td>\n",
       "      <td>-0.104139</td>\n",
       "      <td>-0.020805</td>\n",
       "      <td>-0.799455</td>\n",
       "    </tr>\n",
       "    <tr>\n",
       "      <th>2013-01-04</th>\n",
       "      <td>-0.825304</td>\n",
       "      <td>-0.552276</td>\n",
       "      <td>-0.625291</td>\n",
       "      <td>0.117057</td>\n",
       "    </tr>\n",
       "    <tr>\n",
       "      <th>2013-01-05</th>\n",
       "      <td>0.565328</td>\n",
       "      <td>0.791494</td>\n",
       "      <td>-0.036873</td>\n",
       "      <td>-0.117764</td>\n",
       "    </tr>\n",
       "  </tbody>\n",
       "</table>\n",
       "</div>"
      ],
      "text/plain": [
       "                   A         B         C         D\n",
       "2013-01-01  0.299028 -1.181714 -2.441782 -0.567676\n",
       "2013-01-02  0.508745  0.143457 -0.322349 -1.797698\n",
       "2013-01-03  0.082382 -0.104139 -0.020805 -0.799455\n",
       "2013-01-04 -0.825304 -0.552276 -0.625291  0.117057\n",
       "2013-01-05  0.565328  0.791494 -0.036873 -0.117764"
      ]
     },
     "execution_count": 15,
     "metadata": {},
     "output_type": "execute_result"
    }
   ],
   "source": [
    "df.head() #마지막 행을 제외한 나머지 행을 출력"
   ]
  },
  {
   "cell_type": "code",
   "execution_count": 16,
   "metadata": {
    "collapsed": false
   },
   "outputs": [
    {
     "data": {
      "text/html": [
       "<div>\n",
       "<table border=\"1\" class=\"dataframe\">\n",
       "  <thead>\n",
       "    <tr style=\"text-align: right;\">\n",
       "      <th></th>\n",
       "      <th>A</th>\n",
       "      <th>B</th>\n",
       "      <th>C</th>\n",
       "      <th>D</th>\n",
       "    </tr>\n",
       "  </thead>\n",
       "  <tbody>\n",
       "    <tr>\n",
       "      <th>2013-01-01</th>\n",
       "      <td>0.299028</td>\n",
       "      <td>-1.181714</td>\n",
       "      <td>-2.441782</td>\n",
       "      <td>-0.567676</td>\n",
       "    </tr>\n",
       "    <tr>\n",
       "      <th>2013-01-02</th>\n",
       "      <td>0.508745</td>\n",
       "      <td>0.143457</td>\n",
       "      <td>-0.322349</td>\n",
       "      <td>-1.797698</td>\n",
       "    </tr>\n",
       "  </tbody>\n",
       "</table>\n",
       "</div>"
      ],
      "text/plain": [
       "                   A         B         C         D\n",
       "2013-01-01  0.299028 -1.181714 -2.441782 -0.567676\n",
       "2013-01-02  0.508745  0.143457 -0.322349 -1.797698"
      ]
     },
     "execution_count": 16,
     "metadata": {},
     "output_type": "execute_result"
    }
   ],
   "source": [
    "df.head(2) #위에서 부터 2개의 행을 출력"
   ]
  },
  {
   "cell_type": "code",
   "execution_count": 17,
   "metadata": {
    "collapsed": false
   },
   "outputs": [
    {
     "data": {
      "text/html": [
       "<div>\n",
       "<table border=\"1\" class=\"dataframe\">\n",
       "  <thead>\n",
       "    <tr style=\"text-align: right;\">\n",
       "      <th></th>\n",
       "      <th>A</th>\n",
       "      <th>B</th>\n",
       "      <th>C</th>\n",
       "      <th>D</th>\n",
       "    </tr>\n",
       "  </thead>\n",
       "  <tbody>\n",
       "    <tr>\n",
       "      <th>2013-01-04</th>\n",
       "      <td>-0.825304</td>\n",
       "      <td>-0.552276</td>\n",
       "      <td>-0.625291</td>\n",
       "      <td>0.117057</td>\n",
       "    </tr>\n",
       "    <tr>\n",
       "      <th>2013-01-05</th>\n",
       "      <td>0.565328</td>\n",
       "      <td>0.791494</td>\n",
       "      <td>-0.036873</td>\n",
       "      <td>-0.117764</td>\n",
       "    </tr>\n",
       "    <tr>\n",
       "      <th>2013-01-06</th>\n",
       "      <td>-0.408575</td>\n",
       "      <td>-0.710675</td>\n",
       "      <td>0.529753</td>\n",
       "      <td>-1.272782</td>\n",
       "    </tr>\n",
       "  </tbody>\n",
       "</table>\n",
       "</div>"
      ],
      "text/plain": [
       "                   A         B         C         D\n",
       "2013-01-04 -0.825304 -0.552276 -0.625291  0.117057\n",
       "2013-01-05  0.565328  0.791494 -0.036873 -0.117764\n",
       "2013-01-06 -0.408575 -0.710675  0.529753 -1.272782"
      ]
     },
     "execution_count": 17,
     "metadata": {},
     "output_type": "execute_result"
    }
   ],
   "source": [
    "df.tail(3) #아래에서 3개의 행을 출력"
   ]
  },
  {
   "cell_type": "code",
   "execution_count": 18,
   "metadata": {
    "collapsed": false
   },
   "outputs": [
    {
     "data": {
      "text/plain": [
       "DatetimeIndex(['2013-01-01', '2013-01-02', '2013-01-03', '2013-01-04',\n",
       "               '2013-01-05', '2013-01-06'],\n",
       "              dtype='datetime64[ns]', freq='D', tz=None)"
      ]
     },
     "execution_count": 18,
     "metadata": {},
     "output_type": "execute_result"
    }
   ],
   "source": [
    "df.index #Data Frame의 index를 출력"
   ]
  },
  {
   "cell_type": "code",
   "execution_count": 19,
   "metadata": {
    "collapsed": false
   },
   "outputs": [
    {
     "data": {
      "text/plain": [
       "Index([u'A', u'B', u'C', u'D'], dtype='object')"
      ]
     },
     "execution_count": 19,
     "metadata": {},
     "output_type": "execute_result"
    }
   ],
   "source": [
    "df.columns #Data Frame의 각 열의 이름을 출력"
   ]
  },
  {
   "cell_type": "code",
   "execution_count": 20,
   "metadata": {
    "collapsed": false
   },
   "outputs": [
    {
     "data": {
      "text/plain": [
       "array([[ 0.2990283 , -1.1817137 , -2.44178228, -0.567676  ],\n",
       "       [ 0.50874517,  0.14345657, -0.32234881, -1.79769772],\n",
       "       [ 0.08238172, -0.10413925, -0.02080484, -0.79945457],\n",
       "       [-0.82530413, -0.55227626, -0.62529098,  0.11705654],\n",
       "       [ 0.56532823,  0.79149366, -0.03687313, -0.11776367],\n",
       "       [-0.40857488, -0.7106752 ,  0.52975296, -1.272782  ]])"
      ]
     },
     "execution_count": 20,
     "metadata": {},
     "output_type": "execute_result"
    }
   ],
   "source": [
    "df.values #Data Frame의 각 값을 출력"
   ]
  },
  {
   "cell_type": "code",
   "execution_count": 21,
   "metadata": {
    "collapsed": false
   },
   "outputs": [
    {
     "data": {
      "text/html": [
       "<div>\n",
       "<table border=\"1\" class=\"dataframe\">\n",
       "  <thead>\n",
       "    <tr style=\"text-align: right;\">\n",
       "      <th></th>\n",
       "      <th>A</th>\n",
       "      <th>B</th>\n",
       "      <th>C</th>\n",
       "      <th>D</th>\n",
       "    </tr>\n",
       "  </thead>\n",
       "  <tbody>\n",
       "    <tr>\n",
       "      <th>count</th>\n",
       "      <td>6.000000</td>\n",
       "      <td>6.000000</td>\n",
       "      <td>6.000000</td>\n",
       "      <td>6.000000</td>\n",
       "    </tr>\n",
       "    <tr>\n",
       "      <th>mean</th>\n",
       "      <td>0.036934</td>\n",
       "      <td>-0.268976</td>\n",
       "      <td>-0.486225</td>\n",
       "      <td>-0.739720</td>\n",
       "    </tr>\n",
       "    <tr>\n",
       "      <th>std</th>\n",
       "      <td>0.550363</td>\n",
       "      <td>0.697182</td>\n",
       "      <td>1.031615</td>\n",
       "      <td>0.715197</td>\n",
       "    </tr>\n",
       "    <tr>\n",
       "      <th>min</th>\n",
       "      <td>-0.825304</td>\n",
       "      <td>-1.181714</td>\n",
       "      <td>-2.441782</td>\n",
       "      <td>-1.797698</td>\n",
       "    </tr>\n",
       "    <tr>\n",
       "      <th>25%</th>\n",
       "      <td>-0.285836</td>\n",
       "      <td>-0.671075</td>\n",
       "      <td>-0.549555</td>\n",
       "      <td>-1.154450</td>\n",
       "    </tr>\n",
       "    <tr>\n",
       "      <th>50%</th>\n",
       "      <td>0.190705</td>\n",
       "      <td>-0.328208</td>\n",
       "      <td>-0.179611</td>\n",
       "      <td>-0.683565</td>\n",
       "    </tr>\n",
       "    <tr>\n",
       "      <th>75%</th>\n",
       "      <td>0.456316</td>\n",
       "      <td>0.081558</td>\n",
       "      <td>-0.024822</td>\n",
       "      <td>-0.230242</td>\n",
       "    </tr>\n",
       "    <tr>\n",
       "      <th>max</th>\n",
       "      <td>0.565328</td>\n",
       "      <td>0.791494</td>\n",
       "      <td>0.529753</td>\n",
       "      <td>0.117057</td>\n",
       "    </tr>\n",
       "  </tbody>\n",
       "</table>\n",
       "</div>"
      ],
      "text/plain": [
       "              A         B         C         D\n",
       "count  6.000000  6.000000  6.000000  6.000000\n",
       "mean   0.036934 -0.268976 -0.486225 -0.739720\n",
       "std    0.550363  0.697182  1.031615  0.715197\n",
       "min   -0.825304 -1.181714 -2.441782 -1.797698\n",
       "25%   -0.285836 -0.671075 -0.549555 -1.154450\n",
       "50%    0.190705 -0.328208 -0.179611 -0.683565\n",
       "75%    0.456316  0.081558 -0.024822 -0.230242\n",
       "max    0.565328  0.791494  0.529753  0.117057"
      ]
     },
     "execution_count": 21,
     "metadata": {},
     "output_type": "execute_result"
    }
   ],
   "source": [
    "df.describe() #Data Frame의 한 열의 갯수, 평균, 최소, 최대등을 표시"
   ]
  },
  {
   "cell_type": "code",
   "execution_count": 22,
   "metadata": {
    "collapsed": false
   },
   "outputs": [
    {
     "data": {
      "text/html": [
       "<div>\n",
       "<table border=\"1\" class=\"dataframe\">\n",
       "  <thead>\n",
       "    <tr style=\"text-align: right;\">\n",
       "      <th></th>\n",
       "      <th>2013-01-01 00:00:00</th>\n",
       "      <th>2013-01-02 00:00:00</th>\n",
       "      <th>2013-01-03 00:00:00</th>\n",
       "      <th>2013-01-04 00:00:00</th>\n",
       "      <th>2013-01-05 00:00:00</th>\n",
       "      <th>2013-01-06 00:00:00</th>\n",
       "    </tr>\n",
       "  </thead>\n",
       "  <tbody>\n",
       "    <tr>\n",
       "      <th>A</th>\n",
       "      <td>0.299028</td>\n",
       "      <td>0.508745</td>\n",
       "      <td>0.082382</td>\n",
       "      <td>-0.825304</td>\n",
       "      <td>0.565328</td>\n",
       "      <td>-0.408575</td>\n",
       "    </tr>\n",
       "    <tr>\n",
       "      <th>B</th>\n",
       "      <td>-1.181714</td>\n",
       "      <td>0.143457</td>\n",
       "      <td>-0.104139</td>\n",
       "      <td>-0.552276</td>\n",
       "      <td>0.791494</td>\n",
       "      <td>-0.710675</td>\n",
       "    </tr>\n",
       "    <tr>\n",
       "      <th>C</th>\n",
       "      <td>-2.441782</td>\n",
       "      <td>-0.322349</td>\n",
       "      <td>-0.020805</td>\n",
       "      <td>-0.625291</td>\n",
       "      <td>-0.036873</td>\n",
       "      <td>0.529753</td>\n",
       "    </tr>\n",
       "    <tr>\n",
       "      <th>D</th>\n",
       "      <td>-0.567676</td>\n",
       "      <td>-1.797698</td>\n",
       "      <td>-0.799455</td>\n",
       "      <td>0.117057</td>\n",
       "      <td>-0.117764</td>\n",
       "      <td>-1.272782</td>\n",
       "    </tr>\n",
       "  </tbody>\n",
       "</table>\n",
       "</div>"
      ],
      "text/plain": [
       "   2013-01-01  2013-01-02  2013-01-03  2013-01-04  2013-01-05  2013-01-06\n",
       "A    0.299028    0.508745    0.082382   -0.825304    0.565328   -0.408575\n",
       "B   -1.181714    0.143457   -0.104139   -0.552276    0.791494   -0.710675\n",
       "C   -2.441782   -0.322349   -0.020805   -0.625291   -0.036873    0.529753\n",
       "D   -0.567676   -1.797698   -0.799455    0.117057   -0.117764   -1.272782"
      ]
     },
     "execution_count": 22,
     "metadata": {},
     "output_type": "execute_result"
    }
   ],
   "source": [
    "df.T #열과 행을 바꿔서 출력"
   ]
  },
  {
   "cell_type": "code",
   "execution_count": 26,
   "metadata": {
    "collapsed": false
   },
   "outputs": [
    {
     "data": {
      "text/html": [
       "<div>\n",
       "<table border=\"1\" class=\"dataframe\">\n",
       "  <thead>\n",
       "    <tr style=\"text-align: right;\">\n",
       "      <th></th>\n",
       "      <th>D</th>\n",
       "      <th>C</th>\n",
       "      <th>B</th>\n",
       "      <th>A</th>\n",
       "    </tr>\n",
       "  </thead>\n",
       "  <tbody>\n",
       "    <tr>\n",
       "      <th>2013-01-01</th>\n",
       "      <td>-0.567676</td>\n",
       "      <td>-2.441782</td>\n",
       "      <td>-1.181714</td>\n",
       "      <td>0.299028</td>\n",
       "    </tr>\n",
       "    <tr>\n",
       "      <th>2013-01-02</th>\n",
       "      <td>-1.797698</td>\n",
       "      <td>-0.322349</td>\n",
       "      <td>0.143457</td>\n",
       "      <td>0.508745</td>\n",
       "    </tr>\n",
       "    <tr>\n",
       "      <th>2013-01-03</th>\n",
       "      <td>-0.799455</td>\n",
       "      <td>-0.020805</td>\n",
       "      <td>-0.104139</td>\n",
       "      <td>0.082382</td>\n",
       "    </tr>\n",
       "    <tr>\n",
       "      <th>2013-01-04</th>\n",
       "      <td>0.117057</td>\n",
       "      <td>-0.625291</td>\n",
       "      <td>-0.552276</td>\n",
       "      <td>-0.825304</td>\n",
       "    </tr>\n",
       "    <tr>\n",
       "      <th>2013-01-05</th>\n",
       "      <td>-0.117764</td>\n",
       "      <td>-0.036873</td>\n",
       "      <td>0.791494</td>\n",
       "      <td>0.565328</td>\n",
       "    </tr>\n",
       "    <tr>\n",
       "      <th>2013-01-06</th>\n",
       "      <td>-1.272782</td>\n",
       "      <td>0.529753</td>\n",
       "      <td>-0.710675</td>\n",
       "      <td>-0.408575</td>\n",
       "    </tr>\n",
       "  </tbody>\n",
       "</table>\n",
       "</div>"
      ],
      "text/plain": [
       "                   D         C         B         A\n",
       "2013-01-01 -0.567676 -2.441782 -1.181714  0.299028\n",
       "2013-01-02 -1.797698 -0.322349  0.143457  0.508745\n",
       "2013-01-03 -0.799455 -0.020805 -0.104139  0.082382\n",
       "2013-01-04  0.117057 -0.625291 -0.552276 -0.825304\n",
       "2013-01-05 -0.117764 -0.036873  0.791494  0.565328\n",
       "2013-01-06 -1.272782  0.529753 -0.710675 -0.408575"
      ]
     },
     "execution_count": 26,
     "metadata": {},
     "output_type": "execute_result"
    }
   ],
   "source": [
    "df.sort_index(axis=1, ascending=False) #열이름을 기준으로 역순으로 정렬"
   ]
  },
  {
   "cell_type": "code",
   "execution_count": 27,
   "metadata": {
    "collapsed": false
   },
   "outputs": [
    {
     "data": {
      "text/html": [
       "<div>\n",
       "<table border=\"1\" class=\"dataframe\">\n",
       "  <thead>\n",
       "    <tr style=\"text-align: right;\">\n",
       "      <th></th>\n",
       "      <th>A</th>\n",
       "      <th>B</th>\n",
       "      <th>C</th>\n",
       "      <th>D</th>\n",
       "    </tr>\n",
       "  </thead>\n",
       "  <tbody>\n",
       "    <tr>\n",
       "      <th>2013-01-01</th>\n",
       "      <td>0.299028</td>\n",
       "      <td>-1.181714</td>\n",
       "      <td>-2.441782</td>\n",
       "      <td>-0.567676</td>\n",
       "    </tr>\n",
       "    <tr>\n",
       "      <th>2013-01-06</th>\n",
       "      <td>-0.408575</td>\n",
       "      <td>-0.710675</td>\n",
       "      <td>0.529753</td>\n",
       "      <td>-1.272782</td>\n",
       "    </tr>\n",
       "    <tr>\n",
       "      <th>2013-01-04</th>\n",
       "      <td>-0.825304</td>\n",
       "      <td>-0.552276</td>\n",
       "      <td>-0.625291</td>\n",
       "      <td>0.117057</td>\n",
       "    </tr>\n",
       "    <tr>\n",
       "      <th>2013-01-03</th>\n",
       "      <td>0.082382</td>\n",
       "      <td>-0.104139</td>\n",
       "      <td>-0.020805</td>\n",
       "      <td>-0.799455</td>\n",
       "    </tr>\n",
       "    <tr>\n",
       "      <th>2013-01-02</th>\n",
       "      <td>0.508745</td>\n",
       "      <td>0.143457</td>\n",
       "      <td>-0.322349</td>\n",
       "      <td>-1.797698</td>\n",
       "    </tr>\n",
       "    <tr>\n",
       "      <th>2013-01-05</th>\n",
       "      <td>0.565328</td>\n",
       "      <td>0.791494</td>\n",
       "      <td>-0.036873</td>\n",
       "      <td>-0.117764</td>\n",
       "    </tr>\n",
       "  </tbody>\n",
       "</table>\n",
       "</div>"
      ],
      "text/plain": [
       "                   A         B         C         D\n",
       "2013-01-01  0.299028 -1.181714 -2.441782 -0.567676\n",
       "2013-01-06 -0.408575 -0.710675  0.529753 -1.272782\n",
       "2013-01-04 -0.825304 -0.552276 -0.625291  0.117057\n",
       "2013-01-03  0.082382 -0.104139 -0.020805 -0.799455\n",
       "2013-01-02  0.508745  0.143457 -0.322349 -1.797698\n",
       "2013-01-05  0.565328  0.791494 -0.036873 -0.117764"
      ]
     },
     "execution_count": 27,
     "metadata": {},
     "output_type": "execute_result"
    }
   ],
   "source": [
    "df.sort(columns='B') #B열의 값을 기준으로 행을 정렬"
   ]
  },
  {
   "cell_type": "code",
   "execution_count": 28,
   "metadata": {
    "collapsed": false
   },
   "outputs": [
    {
     "data": {
      "text/plain": [
       "2013-01-01    0.299028\n",
       "2013-01-02    0.508745\n",
       "2013-01-03    0.082382\n",
       "2013-01-04   -0.825304\n",
       "2013-01-05    0.565328\n",
       "2013-01-06   -0.408575\n",
       "Freq: D, Name: A, dtype: float64"
      ]
     },
     "execution_count": 28,
     "metadata": {},
     "output_type": "execute_result"
    }
   ],
   "source": [
    "df['A'] #A열의 값만 출력"
   ]
  },
  {
   "cell_type": "code",
   "execution_count": 29,
   "metadata": {
    "collapsed": false
   },
   "outputs": [
    {
     "data": {
      "text/html": [
       "<div>\n",
       "<table border=\"1\" class=\"dataframe\">\n",
       "  <thead>\n",
       "    <tr style=\"text-align: right;\">\n",
       "      <th></th>\n",
       "      <th>A</th>\n",
       "      <th>B</th>\n",
       "      <th>C</th>\n",
       "      <th>D</th>\n",
       "    </tr>\n",
       "  </thead>\n",
       "  <tbody>\n",
       "    <tr>\n",
       "      <th>2013-01-01</th>\n",
       "      <td>0.299028</td>\n",
       "      <td>-1.181714</td>\n",
       "      <td>-2.441782</td>\n",
       "      <td>-0.567676</td>\n",
       "    </tr>\n",
       "    <tr>\n",
       "      <th>2013-01-02</th>\n",
       "      <td>0.508745</td>\n",
       "      <td>0.143457</td>\n",
       "      <td>-0.322349</td>\n",
       "      <td>-1.797698</td>\n",
       "    </tr>\n",
       "    <tr>\n",
       "      <th>2013-01-03</th>\n",
       "      <td>0.082382</td>\n",
       "      <td>-0.104139</td>\n",
       "      <td>-0.020805</td>\n",
       "      <td>-0.799455</td>\n",
       "    </tr>\n",
       "  </tbody>\n",
       "</table>\n",
       "</div>"
      ],
      "text/plain": [
       "                   A         B         C         D\n",
       "2013-01-01  0.299028 -1.181714 -2.441782 -0.567676\n",
       "2013-01-02  0.508745  0.143457 -0.322349 -1.797698\n",
       "2013-01-03  0.082382 -0.104139 -0.020805 -0.799455"
      ]
     },
     "execution_count": 29,
     "metadata": {},
     "output_type": "execute_result"
    }
   ],
   "source": [
    "df[0:3] #1행에서 3행까지 출력"
   ]
  },
  {
   "cell_type": "code",
   "execution_count": 30,
   "metadata": {
    "collapsed": false
   },
   "outputs": [
    {
     "data": {
      "text/html": [
       "<div>\n",
       "<table border=\"1\" class=\"dataframe\">\n",
       "  <thead>\n",
       "    <tr style=\"text-align: right;\">\n",
       "      <th></th>\n",
       "      <th>A</th>\n",
       "      <th>B</th>\n",
       "      <th>C</th>\n",
       "      <th>D</th>\n",
       "    </tr>\n",
       "  </thead>\n",
       "  <tbody>\n",
       "    <tr>\n",
       "      <th>2013-01-02</th>\n",
       "      <td>0.508745</td>\n",
       "      <td>0.143457</td>\n",
       "      <td>-0.322349</td>\n",
       "      <td>-1.797698</td>\n",
       "    </tr>\n",
       "    <tr>\n",
       "      <th>2013-01-03</th>\n",
       "      <td>0.082382</td>\n",
       "      <td>-0.104139</td>\n",
       "      <td>-0.020805</td>\n",
       "      <td>-0.799455</td>\n",
       "    </tr>\n",
       "    <tr>\n",
       "      <th>2013-01-04</th>\n",
       "      <td>-0.825304</td>\n",
       "      <td>-0.552276</td>\n",
       "      <td>-0.625291</td>\n",
       "      <td>0.117057</td>\n",
       "    </tr>\n",
       "  </tbody>\n",
       "</table>\n",
       "</div>"
      ],
      "text/plain": [
       "                   A         B         C         D\n",
       "2013-01-02  0.508745  0.143457 -0.322349 -1.797698\n",
       "2013-01-03  0.082382 -0.104139 -0.020805 -0.799455\n",
       "2013-01-04 -0.825304 -0.552276 -0.625291  0.117057"
      ]
     },
     "execution_count": 30,
     "metadata": {},
     "output_type": "execute_result"
    }
   ],
   "source": [
    "df['20130102':'20130104'] #index가 20130102이상 20130104미만은 행 출력"
   ]
  },
  {
   "cell_type": "code",
   "execution_count": 31,
   "metadata": {
    "collapsed": false
   },
   "outputs": [
    {
     "data": {
      "text/plain": [
       "A    0.299028\n",
       "B   -1.181714\n",
       "C   -2.441782\n",
       "D   -0.567676\n",
       "Name: 2013-01-01 00:00:00, dtype: float64"
      ]
     },
     "execution_count": 31,
     "metadata": {},
     "output_type": "execute_result"
    }
   ],
   "source": [
    "#loc는 해당 위치의 값을 출력, index의 값이 옴.\n",
    "df.loc[dates[0]] #1행의 값을 출력"
   ]
  },
  {
   "cell_type": "code",
   "execution_count": 32,
   "metadata": {
    "collapsed": false
   },
   "outputs": [
    {
     "data": {
      "text/html": [
       "<div>\n",
       "<table border=\"1\" class=\"dataframe\">\n",
       "  <thead>\n",
       "    <tr style=\"text-align: right;\">\n",
       "      <th></th>\n",
       "      <th>A</th>\n",
       "      <th>B</th>\n",
       "    </tr>\n",
       "  </thead>\n",
       "  <tbody>\n",
       "    <tr>\n",
       "      <th>2013-01-01</th>\n",
       "      <td>0.299028</td>\n",
       "      <td>-1.181714</td>\n",
       "    </tr>\n",
       "    <tr>\n",
       "      <th>2013-01-02</th>\n",
       "      <td>0.508745</td>\n",
       "      <td>0.143457</td>\n",
       "    </tr>\n",
       "    <tr>\n",
       "      <th>2013-01-03</th>\n",
       "      <td>0.082382</td>\n",
       "      <td>-0.104139</td>\n",
       "    </tr>\n",
       "    <tr>\n",
       "      <th>2013-01-04</th>\n",
       "      <td>-0.825304</td>\n",
       "      <td>-0.552276</td>\n",
       "    </tr>\n",
       "    <tr>\n",
       "      <th>2013-01-05</th>\n",
       "      <td>0.565328</td>\n",
       "      <td>0.791494</td>\n",
       "    </tr>\n",
       "    <tr>\n",
       "      <th>2013-01-06</th>\n",
       "      <td>-0.408575</td>\n",
       "      <td>-0.710675</td>\n",
       "    </tr>\n",
       "  </tbody>\n",
       "</table>\n",
       "</div>"
      ],
      "text/plain": [
       "                   A         B\n",
       "2013-01-01  0.299028 -1.181714\n",
       "2013-01-02  0.508745  0.143457\n",
       "2013-01-03  0.082382 -0.104139\n",
       "2013-01-04 -0.825304 -0.552276\n",
       "2013-01-05  0.565328  0.791494\n",
       "2013-01-06 -0.408575 -0.710675"
      ]
     },
     "execution_count": 32,
     "metadata": {},
     "output_type": "execute_result"
    }
   ],
   "source": [
    "df.loc[:,['A','B']] #인덱스 값이 A,B인 열을 출력"
   ]
  },
  {
   "cell_type": "code",
   "execution_count": 33,
   "metadata": {
    "collapsed": false
   },
   "outputs": [
    {
     "data": {
      "text/html": [
       "<div>\n",
       "<table border=\"1\" class=\"dataframe\">\n",
       "  <thead>\n",
       "    <tr style=\"text-align: right;\">\n",
       "      <th></th>\n",
       "      <th>A</th>\n",
       "      <th>B</th>\n",
       "    </tr>\n",
       "  </thead>\n",
       "  <tbody>\n",
       "    <tr>\n",
       "      <th>2013-01-02</th>\n",
       "      <td>0.508745</td>\n",
       "      <td>0.143457</td>\n",
       "    </tr>\n",
       "    <tr>\n",
       "      <th>2013-01-03</th>\n",
       "      <td>0.082382</td>\n",
       "      <td>-0.104139</td>\n",
       "    </tr>\n",
       "    <tr>\n",
       "      <th>2013-01-04</th>\n",
       "      <td>-0.825304</td>\n",
       "      <td>-0.552276</td>\n",
       "    </tr>\n",
       "  </tbody>\n",
       "</table>\n",
       "</div>"
      ],
      "text/plain": [
       "                   A         B\n",
       "2013-01-02  0.508745  0.143457\n",
       "2013-01-03  0.082382 -0.104139\n",
       "2013-01-04 -0.825304 -0.552276"
      ]
     },
     "execution_count": 33,
     "metadata": {},
     "output_type": "execute_result"
    }
   ],
   "source": [
    "df.loc['20130102':'20130104',['A','B']] #행의 인덱스가 20130102에서 20130104이며, 열의 인덱스가 A,B인 값을 출력"
   ]
  },
  {
   "cell_type": "code",
   "execution_count": 34,
   "metadata": {
    "collapsed": false
   },
   "outputs": [
    {
     "data": {
      "text/plain": [
       "A    0.508745\n",
       "B    0.143457\n",
       "Name: 2013-01-02 00:00:00, dtype: float64"
      ]
     },
     "execution_count": 34,
     "metadata": {},
     "output_type": "execute_result"
    }
   ],
   "source": [
    "df.loc['20130102',['A','B']] #행의 인덱스가 20130102이고, 열의 인덱스가 A,B인 값을 출력"
   ]
  },
  {
   "cell_type": "code",
   "execution_count": 35,
   "metadata": {
    "collapsed": false
   },
   "outputs": [
    {
     "data": {
      "text/plain": [
       "0.29902830458532403"
      ]
     },
     "execution_count": 35,
     "metadata": {},
     "output_type": "execute_result"
    }
   ],
   "source": [
    "df.loc[dates[0],'A'] #행의 인덱스가 20130101이며, 열의 인덱스가 A인 값 출력"
   ]
  },
  {
   "cell_type": "code",
   "execution_count": 36,
   "metadata": {
    "collapsed": false
   },
   "outputs": [
    {
     "data": {
      "text/plain": [
       "0.29902830458532403"
      ]
     },
     "execution_count": 36,
     "metadata": {},
     "output_type": "execute_result"
    }
   ],
   "source": [
    " df.at[dates[0],'A'] #위의 loc[dates[0],'A']와 같은 값을 가지지만 처리 속도가 빠르다"
   ]
  },
  {
   "cell_type": "code",
   "execution_count": 37,
   "metadata": {
    "collapsed": false
   },
   "outputs": [
    {
     "data": {
      "text/plain": [
       "A   -0.825304\n",
       "B   -0.552276\n",
       "C   -0.625291\n",
       "D    0.117057\n",
       "Name: 2013-01-04 00:00:00, dtype: float64"
      ]
     },
     "execution_count": 37,
     "metadata": {},
     "output_type": "execute_result"
    }
   ],
   "source": [
    "#iloc는 입력값이 정수만 넣을 수 있다.\n",
    "df.iloc[3] #4번째 행의 값을 출력"
   ]
  },
  {
   "cell_type": "code",
   "execution_count": 38,
   "metadata": {
    "collapsed": false
   },
   "outputs": [
    {
     "data": {
      "text/html": [
       "<div>\n",
       "<table border=\"1\" class=\"dataframe\">\n",
       "  <thead>\n",
       "    <tr style=\"text-align: right;\">\n",
       "      <th></th>\n",
       "      <th>A</th>\n",
       "      <th>B</th>\n",
       "    </tr>\n",
       "  </thead>\n",
       "  <tbody>\n",
       "    <tr>\n",
       "      <th>2013-01-04</th>\n",
       "      <td>-0.825304</td>\n",
       "      <td>-0.552276</td>\n",
       "    </tr>\n",
       "    <tr>\n",
       "      <th>2013-01-05</th>\n",
       "      <td>0.565328</td>\n",
       "      <td>0.791494</td>\n",
       "    </tr>\n",
       "  </tbody>\n",
       "</table>\n",
       "</div>"
      ],
      "text/plain": [
       "                   A         B\n",
       "2013-01-04 -0.825304 -0.552276\n",
       "2013-01-05  0.565328  0.791494"
      ]
     },
     "execution_count": 38,
     "metadata": {},
     "output_type": "execute_result"
    }
   ],
   "source": [
    "df.iloc[3:5,0:2] #4~5번째행이며, 1~2번째 열의 값을 출력"
   ]
  },
  {
   "cell_type": "code",
   "execution_count": 39,
   "metadata": {
    "collapsed": false
   },
   "outputs": [
    {
     "data": {
      "text/html": [
       "<div>\n",
       "<table border=\"1\" class=\"dataframe\">\n",
       "  <thead>\n",
       "    <tr style=\"text-align: right;\">\n",
       "      <th></th>\n",
       "      <th>A</th>\n",
       "      <th>C</th>\n",
       "    </tr>\n",
       "  </thead>\n",
       "  <tbody>\n",
       "    <tr>\n",
       "      <th>2013-01-02</th>\n",
       "      <td>0.508745</td>\n",
       "      <td>-0.322349</td>\n",
       "    </tr>\n",
       "    <tr>\n",
       "      <th>2013-01-03</th>\n",
       "      <td>0.082382</td>\n",
       "      <td>-0.020805</td>\n",
       "    </tr>\n",
       "    <tr>\n",
       "      <th>2013-01-05</th>\n",
       "      <td>0.565328</td>\n",
       "      <td>-0.036873</td>\n",
       "    </tr>\n",
       "  </tbody>\n",
       "</table>\n",
       "</div>"
      ],
      "text/plain": [
       "                   A         C\n",
       "2013-01-02  0.508745 -0.322349\n",
       "2013-01-03  0.082382 -0.020805\n",
       "2013-01-05  0.565328 -0.036873"
      ]
     },
     "execution_count": 39,
     "metadata": {},
     "output_type": "execute_result"
    }
   ],
   "source": [
    "df.iloc[[1,2,4],[0,2]] #행의 인덱스가 1,2,4(2,3,5행)이고, 열의 인덱스가 0,1(1,2행)을 출력"
   ]
  },
  {
   "cell_type": "code",
   "execution_count": 40,
   "metadata": {
    "collapsed": false
   },
   "outputs": [
    {
     "data": {
      "text/html": [
       "<div>\n",
       "<table border=\"1\" class=\"dataframe\">\n",
       "  <thead>\n",
       "    <tr style=\"text-align: right;\">\n",
       "      <th></th>\n",
       "      <th>A</th>\n",
       "      <th>B</th>\n",
       "      <th>C</th>\n",
       "      <th>D</th>\n",
       "    </tr>\n",
       "  </thead>\n",
       "  <tbody>\n",
       "    <tr>\n",
       "      <th>2013-01-02</th>\n",
       "      <td>0.508745</td>\n",
       "      <td>0.143457</td>\n",
       "      <td>-0.322349</td>\n",
       "      <td>-1.797698</td>\n",
       "    </tr>\n",
       "    <tr>\n",
       "      <th>2013-01-03</th>\n",
       "      <td>0.082382</td>\n",
       "      <td>-0.104139</td>\n",
       "      <td>-0.020805</td>\n",
       "      <td>-0.799455</td>\n",
       "    </tr>\n",
       "  </tbody>\n",
       "</table>\n",
       "</div>"
      ],
      "text/plain": [
       "                   A         B         C         D\n",
       "2013-01-02  0.508745  0.143457 -0.322349 -1.797698\n",
       "2013-01-03  0.082382 -0.104139 -0.020805 -0.799455"
      ]
     },
     "execution_count": 40,
     "metadata": {},
     "output_type": "execute_result"
    }
   ],
   "source": [
    "df.iloc[1:3,:] #2,3행을 출력"
   ]
  },
  {
   "cell_type": "code",
   "execution_count": 41,
   "metadata": {
    "collapsed": false
   },
   "outputs": [
    {
     "data": {
      "text/html": [
       "<div>\n",
       "<table border=\"1\" class=\"dataframe\">\n",
       "  <thead>\n",
       "    <tr style=\"text-align: right;\">\n",
       "      <th></th>\n",
       "      <th>B</th>\n",
       "      <th>C</th>\n",
       "    </tr>\n",
       "  </thead>\n",
       "  <tbody>\n",
       "    <tr>\n",
       "      <th>2013-01-01</th>\n",
       "      <td>-1.181714</td>\n",
       "      <td>-2.441782</td>\n",
       "    </tr>\n",
       "    <tr>\n",
       "      <th>2013-01-02</th>\n",
       "      <td>0.143457</td>\n",
       "      <td>-0.322349</td>\n",
       "    </tr>\n",
       "    <tr>\n",
       "      <th>2013-01-03</th>\n",
       "      <td>-0.104139</td>\n",
       "      <td>-0.020805</td>\n",
       "    </tr>\n",
       "    <tr>\n",
       "      <th>2013-01-04</th>\n",
       "      <td>-0.552276</td>\n",
       "      <td>-0.625291</td>\n",
       "    </tr>\n",
       "    <tr>\n",
       "      <th>2013-01-05</th>\n",
       "      <td>0.791494</td>\n",
       "      <td>-0.036873</td>\n",
       "    </tr>\n",
       "    <tr>\n",
       "      <th>2013-01-06</th>\n",
       "      <td>-0.710675</td>\n",
       "      <td>0.529753</td>\n",
       "    </tr>\n",
       "  </tbody>\n",
       "</table>\n",
       "</div>"
      ],
      "text/plain": [
       "                   B         C\n",
       "2013-01-01 -1.181714 -2.441782\n",
       "2013-01-02  0.143457 -0.322349\n",
       "2013-01-03 -0.104139 -0.020805\n",
       "2013-01-04 -0.552276 -0.625291\n",
       "2013-01-05  0.791494 -0.036873\n",
       "2013-01-06 -0.710675  0.529753"
      ]
     },
     "execution_count": 41,
     "metadata": {},
     "output_type": "execute_result"
    }
   ],
   "source": [
    " df.iloc[:,1:3] #2,3열을 출력"
   ]
  },
  {
   "cell_type": "code",
   "execution_count": 42,
   "metadata": {
    "collapsed": false
   },
   "outputs": [
    {
     "data": {
      "text/plain": [
       "0.14345657151191171"
      ]
     },
     "execution_count": 42,
     "metadata": {},
     "output_type": "execute_result"
    }
   ],
   "source": [
    "df.iloc[1,1] #2행2열값을 출력"
   ]
  },
  {
   "cell_type": "code",
   "execution_count": 43,
   "metadata": {
    "collapsed": false
   },
   "outputs": [
    {
     "data": {
      "text/plain": [
       "0.14345657151191171"
      ]
     },
     "execution_count": 43,
     "metadata": {},
     "output_type": "execute_result"
    }
   ],
   "source": [
    "df.iat[1,1] #2행2열값을 출력"
   ]
  },
  {
   "cell_type": "code",
   "execution_count": 44,
   "metadata": {
    "collapsed": false
   },
   "outputs": [
    {
     "data": {
      "text/html": [
       "<div>\n",
       "<table border=\"1\" class=\"dataframe\">\n",
       "  <thead>\n",
       "    <tr style=\"text-align: right;\">\n",
       "      <th></th>\n",
       "      <th>A</th>\n",
       "      <th>B</th>\n",
       "      <th>C</th>\n",
       "      <th>D</th>\n",
       "    </tr>\n",
       "  </thead>\n",
       "  <tbody>\n",
       "    <tr>\n",
       "      <th>2013-01-01</th>\n",
       "      <td>0.299028</td>\n",
       "      <td>-1.181714</td>\n",
       "      <td>-2.441782</td>\n",
       "      <td>-0.567676</td>\n",
       "    </tr>\n",
       "    <tr>\n",
       "      <th>2013-01-02</th>\n",
       "      <td>0.508745</td>\n",
       "      <td>0.143457</td>\n",
       "      <td>-0.322349</td>\n",
       "      <td>-1.797698</td>\n",
       "    </tr>\n",
       "    <tr>\n",
       "      <th>2013-01-03</th>\n",
       "      <td>0.082382</td>\n",
       "      <td>-0.104139</td>\n",
       "      <td>-0.020805</td>\n",
       "      <td>-0.799455</td>\n",
       "    </tr>\n",
       "    <tr>\n",
       "      <th>2013-01-05</th>\n",
       "      <td>0.565328</td>\n",
       "      <td>0.791494</td>\n",
       "      <td>-0.036873</td>\n",
       "      <td>-0.117764</td>\n",
       "    </tr>\n",
       "  </tbody>\n",
       "</table>\n",
       "</div>"
      ],
      "text/plain": [
       "                   A         B         C         D\n",
       "2013-01-01  0.299028 -1.181714 -2.441782 -0.567676\n",
       "2013-01-02  0.508745  0.143457 -0.322349 -1.797698\n",
       "2013-01-03  0.082382 -0.104139 -0.020805 -0.799455\n",
       "2013-01-05  0.565328  0.791494 -0.036873 -0.117764"
      ]
     },
     "execution_count": 44,
     "metadata": {},
     "output_type": "execute_result"
    }
   ],
   "source": [
    "df[df.A > 0] #A열의 값이 0보다 큰 행만 출력"
   ]
  },
  {
   "cell_type": "code",
   "execution_count": 45,
   "metadata": {
    "collapsed": false
   },
   "outputs": [
    {
     "data": {
      "text/html": [
       "<div>\n",
       "<table border=\"1\" class=\"dataframe\">\n",
       "  <thead>\n",
       "    <tr style=\"text-align: right;\">\n",
       "      <th></th>\n",
       "      <th>A</th>\n",
       "      <th>B</th>\n",
       "      <th>C</th>\n",
       "      <th>D</th>\n",
       "    </tr>\n",
       "  </thead>\n",
       "  <tbody>\n",
       "    <tr>\n",
       "      <th>2013-01-01</th>\n",
       "      <td>0.299028</td>\n",
       "      <td>NaN</td>\n",
       "      <td>NaN</td>\n",
       "      <td>NaN</td>\n",
       "    </tr>\n",
       "    <tr>\n",
       "      <th>2013-01-02</th>\n",
       "      <td>0.508745</td>\n",
       "      <td>0.143457</td>\n",
       "      <td>NaN</td>\n",
       "      <td>NaN</td>\n",
       "    </tr>\n",
       "    <tr>\n",
       "      <th>2013-01-03</th>\n",
       "      <td>0.082382</td>\n",
       "      <td>NaN</td>\n",
       "      <td>NaN</td>\n",
       "      <td>NaN</td>\n",
       "    </tr>\n",
       "    <tr>\n",
       "      <th>2013-01-04</th>\n",
       "      <td>NaN</td>\n",
       "      <td>NaN</td>\n",
       "      <td>NaN</td>\n",
       "      <td>0.117057</td>\n",
       "    </tr>\n",
       "    <tr>\n",
       "      <th>2013-01-05</th>\n",
       "      <td>0.565328</td>\n",
       "      <td>0.791494</td>\n",
       "      <td>NaN</td>\n",
       "      <td>NaN</td>\n",
       "    </tr>\n",
       "    <tr>\n",
       "      <th>2013-01-06</th>\n",
       "      <td>NaN</td>\n",
       "      <td>NaN</td>\n",
       "      <td>0.529753</td>\n",
       "      <td>NaN</td>\n",
       "    </tr>\n",
       "  </tbody>\n",
       "</table>\n",
       "</div>"
      ],
      "text/plain": [
       "                   A         B         C         D\n",
       "2013-01-01  0.299028       NaN       NaN       NaN\n",
       "2013-01-02  0.508745  0.143457       NaN       NaN\n",
       "2013-01-03  0.082382       NaN       NaN       NaN\n",
       "2013-01-04       NaN       NaN       NaN  0.117057\n",
       "2013-01-05  0.565328  0.791494       NaN       NaN\n",
       "2013-01-06       NaN       NaN  0.529753       NaN"
      ]
     },
     "execution_count": 45,
     "metadata": {},
     "output_type": "execute_result"
    }
   ],
   "source": [
    "df[df > 0] #Data Frame df의 값이 0보다 작으면 NaN(Not a Number)를 출력"
   ]
  },
  {
   "cell_type": "code",
   "execution_count": 46,
   "metadata": {
    "collapsed": true
   },
   "outputs": [],
   "source": [
    "df2 = df.copy() #Data Frame df를 복사"
   ]
  },
  {
   "cell_type": "code",
   "execution_count": 47,
   "metadata": {
    "collapsed": true
   },
   "outputs": [],
   "source": [
    "df2['E'] = ['one', 'one','two','three','four','three'] #E열의 값을 수정"
   ]
  },
  {
   "cell_type": "code",
   "execution_count": 48,
   "metadata": {
    "collapsed": false
   },
   "outputs": [
    {
     "data": {
      "text/html": [
       "<div>\n",
       "<table border=\"1\" class=\"dataframe\">\n",
       "  <thead>\n",
       "    <tr style=\"text-align: right;\">\n",
       "      <th></th>\n",
       "      <th>A</th>\n",
       "      <th>B</th>\n",
       "      <th>C</th>\n",
       "      <th>D</th>\n",
       "      <th>E</th>\n",
       "    </tr>\n",
       "  </thead>\n",
       "  <tbody>\n",
       "    <tr>\n",
       "      <th>2013-01-01</th>\n",
       "      <td>0.299028</td>\n",
       "      <td>-1.181714</td>\n",
       "      <td>-2.441782</td>\n",
       "      <td>-0.567676</td>\n",
       "      <td>one</td>\n",
       "    </tr>\n",
       "    <tr>\n",
       "      <th>2013-01-02</th>\n",
       "      <td>0.508745</td>\n",
       "      <td>0.143457</td>\n",
       "      <td>-0.322349</td>\n",
       "      <td>-1.797698</td>\n",
       "      <td>one</td>\n",
       "    </tr>\n",
       "    <tr>\n",
       "      <th>2013-01-03</th>\n",
       "      <td>0.082382</td>\n",
       "      <td>-0.104139</td>\n",
       "      <td>-0.020805</td>\n",
       "      <td>-0.799455</td>\n",
       "      <td>two</td>\n",
       "    </tr>\n",
       "    <tr>\n",
       "      <th>2013-01-04</th>\n",
       "      <td>-0.825304</td>\n",
       "      <td>-0.552276</td>\n",
       "      <td>-0.625291</td>\n",
       "      <td>0.117057</td>\n",
       "      <td>three</td>\n",
       "    </tr>\n",
       "    <tr>\n",
       "      <th>2013-01-05</th>\n",
       "      <td>0.565328</td>\n",
       "      <td>0.791494</td>\n",
       "      <td>-0.036873</td>\n",
       "      <td>-0.117764</td>\n",
       "      <td>four</td>\n",
       "    </tr>\n",
       "    <tr>\n",
       "      <th>2013-01-06</th>\n",
       "      <td>-0.408575</td>\n",
       "      <td>-0.710675</td>\n",
       "      <td>0.529753</td>\n",
       "      <td>-1.272782</td>\n",
       "      <td>three</td>\n",
       "    </tr>\n",
       "  </tbody>\n",
       "</table>\n",
       "</div>"
      ],
      "text/plain": [
       "                   A         B         C         D      E\n",
       "2013-01-01  0.299028 -1.181714 -2.441782 -0.567676    one\n",
       "2013-01-02  0.508745  0.143457 -0.322349 -1.797698    one\n",
       "2013-01-03  0.082382 -0.104139 -0.020805 -0.799455    two\n",
       "2013-01-04 -0.825304 -0.552276 -0.625291  0.117057  three\n",
       "2013-01-05  0.565328  0.791494 -0.036873 -0.117764   four\n",
       "2013-01-06 -0.408575 -0.710675  0.529753 -1.272782  three"
      ]
     },
     "execution_count": 48,
     "metadata": {},
     "output_type": "execute_result"
    }
   ],
   "source": [
    "df2"
   ]
  },
  {
   "cell_type": "code",
   "execution_count": 49,
   "metadata": {
    "collapsed": false
   },
   "outputs": [
    {
     "data": {
      "text/html": [
       "<div>\n",
       "<table border=\"1\" class=\"dataframe\">\n",
       "  <thead>\n",
       "    <tr style=\"text-align: right;\">\n",
       "      <th></th>\n",
       "      <th>A</th>\n",
       "      <th>B</th>\n",
       "      <th>C</th>\n",
       "      <th>D</th>\n",
       "      <th>E</th>\n",
       "    </tr>\n",
       "  </thead>\n",
       "  <tbody>\n",
       "    <tr>\n",
       "      <th>2013-01-03</th>\n",
       "      <td>0.082382</td>\n",
       "      <td>-0.104139</td>\n",
       "      <td>-0.020805</td>\n",
       "      <td>-0.799455</td>\n",
       "      <td>two</td>\n",
       "    </tr>\n",
       "    <tr>\n",
       "      <th>2013-01-05</th>\n",
       "      <td>0.565328</td>\n",
       "      <td>0.791494</td>\n",
       "      <td>-0.036873</td>\n",
       "      <td>-0.117764</td>\n",
       "      <td>four</td>\n",
       "    </tr>\n",
       "  </tbody>\n",
       "</table>\n",
       "</div>"
      ],
      "text/plain": [
       "                   A         B         C         D     E\n",
       "2013-01-03  0.082382 -0.104139 -0.020805 -0.799455   two\n",
       "2013-01-05  0.565328  0.791494 -0.036873 -0.117764  four"
      ]
     },
     "execution_count": 49,
     "metadata": {},
     "output_type": "execute_result"
    }
   ],
   "source": [
    "#isin(입력), 입력된 값 중에서 해당 되는 값이 있으면 참, 없으면 거짓\n",
    "df2[df2['E'].isin(['two','four'])] #E열 값이 two와 four인 행 출력"
   ]
  },
  {
   "cell_type": "code",
   "execution_count": 50,
   "metadata": {
    "collapsed": true
   },
   "outputs": [],
   "source": [
    "s1 = pd.Series([1,2,3,4,5,6], index=pd.date_range('20130102', periods=6)) #행의 인덱스는 20130102~20130107이며 각 행의 값은 1~6을 가진 Series 생성"
   ]
  },
  {
   "cell_type": "code",
   "execution_count": 51,
   "metadata": {
    "collapsed": false
   },
   "outputs": [
    {
     "data": {
      "text/plain": [
       "2013-01-02    1\n",
       "2013-01-03    2\n",
       "2013-01-04    3\n",
       "2013-01-05    4\n",
       "2013-01-06    5\n",
       "2013-01-07    6\n",
       "Freq: D, dtype: int64"
      ]
     },
     "execution_count": 51,
     "metadata": {},
     "output_type": "execute_result"
    }
   ],
   "source": [
    "s1"
   ]
  },
  {
   "cell_type": "code",
   "execution_count": 52,
   "metadata": {
    "collapsed": true
   },
   "outputs": [],
   "source": [
    "df['F'] = s1 #Data Frame df의 f열을 Series S1으로 수정"
   ]
  },
  {
   "cell_type": "code",
   "execution_count": 53,
   "metadata": {
    "collapsed": true
   },
   "outputs": [],
   "source": [
    "df.at[dates[0],'A'] = 0 #1행의 A열의 값을 0으로 설정"
   ]
  },
  {
   "cell_type": "code",
   "execution_count": 54,
   "metadata": {
    "collapsed": true
   },
   "outputs": [],
   "source": [
    "df.iat[0,1] = 0 #1행의 2번째열(B열)의 값을 0으로 설정"
   ]
  },
  {
   "cell_type": "code",
   "execution_count": 55,
   "metadata": {
    "collapsed": true
   },
   "outputs": [],
   "source": [
    "#len은 입력된 자료구조의 길이\n",
    "df.loc[:,'D'] = np.array([5] * len(df)) #D열의 값을 5로 설정"
   ]
  },
  {
   "cell_type": "code",
   "execution_count": 56,
   "metadata": {
    "collapsed": false
   },
   "outputs": [
    {
     "data": {
      "text/html": [
       "<div>\n",
       "<table border=\"1\" class=\"dataframe\">\n",
       "  <thead>\n",
       "    <tr style=\"text-align: right;\">\n",
       "      <th></th>\n",
       "      <th>A</th>\n",
       "      <th>B</th>\n",
       "      <th>C</th>\n",
       "      <th>D</th>\n",
       "      <th>F</th>\n",
       "    </tr>\n",
       "  </thead>\n",
       "  <tbody>\n",
       "    <tr>\n",
       "      <th>2013-01-01</th>\n",
       "      <td>0.000000</td>\n",
       "      <td>0.000000</td>\n",
       "      <td>-2.441782</td>\n",
       "      <td>5</td>\n",
       "      <td>NaN</td>\n",
       "    </tr>\n",
       "    <tr>\n",
       "      <th>2013-01-02</th>\n",
       "      <td>0.508745</td>\n",
       "      <td>0.143457</td>\n",
       "      <td>-0.322349</td>\n",
       "      <td>5</td>\n",
       "      <td>1</td>\n",
       "    </tr>\n",
       "    <tr>\n",
       "      <th>2013-01-03</th>\n",
       "      <td>0.082382</td>\n",
       "      <td>-0.104139</td>\n",
       "      <td>-0.020805</td>\n",
       "      <td>5</td>\n",
       "      <td>2</td>\n",
       "    </tr>\n",
       "    <tr>\n",
       "      <th>2013-01-04</th>\n",
       "      <td>-0.825304</td>\n",
       "      <td>-0.552276</td>\n",
       "      <td>-0.625291</td>\n",
       "      <td>5</td>\n",
       "      <td>3</td>\n",
       "    </tr>\n",
       "    <tr>\n",
       "      <th>2013-01-05</th>\n",
       "      <td>0.565328</td>\n",
       "      <td>0.791494</td>\n",
       "      <td>-0.036873</td>\n",
       "      <td>5</td>\n",
       "      <td>4</td>\n",
       "    </tr>\n",
       "    <tr>\n",
       "      <th>2013-01-06</th>\n",
       "      <td>-0.408575</td>\n",
       "      <td>-0.710675</td>\n",
       "      <td>0.529753</td>\n",
       "      <td>5</td>\n",
       "      <td>5</td>\n",
       "    </tr>\n",
       "  </tbody>\n",
       "</table>\n",
       "</div>"
      ],
      "text/plain": [
       "                   A         B         C  D   F\n",
       "2013-01-01  0.000000  0.000000 -2.441782  5 NaN\n",
       "2013-01-02  0.508745  0.143457 -0.322349  5   1\n",
       "2013-01-03  0.082382 -0.104139 -0.020805  5   2\n",
       "2013-01-04 -0.825304 -0.552276 -0.625291  5   3\n",
       "2013-01-05  0.565328  0.791494 -0.036873  5   4\n",
       "2013-01-06 -0.408575 -0.710675  0.529753  5   5"
      ]
     },
     "execution_count": 56,
     "metadata": {},
     "output_type": "execute_result"
    }
   ],
   "source": [
    "df"
   ]
  },
  {
   "cell_type": "code",
   "execution_count": 57,
   "metadata": {
    "collapsed": true
   },
   "outputs": [],
   "source": [
    "df2 = df.copy()"
   ]
  },
  {
   "cell_type": "code",
   "execution_count": 58,
   "metadata": {
    "collapsed": true
   },
   "outputs": [],
   "source": [
    "df2[df2 > 0] = -df2 #df2의 값이 0보다 크면 -로 수정"
   ]
  },
  {
   "cell_type": "code",
   "execution_count": 59,
   "metadata": {
    "collapsed": false
   },
   "outputs": [
    {
     "data": {
      "text/html": [
       "<div>\n",
       "<table border=\"1\" class=\"dataframe\">\n",
       "  <thead>\n",
       "    <tr style=\"text-align: right;\">\n",
       "      <th></th>\n",
       "      <th>A</th>\n",
       "      <th>B</th>\n",
       "      <th>C</th>\n",
       "      <th>D</th>\n",
       "      <th>F</th>\n",
       "    </tr>\n",
       "  </thead>\n",
       "  <tbody>\n",
       "    <tr>\n",
       "      <th>2013-01-01</th>\n",
       "      <td>0.000000</td>\n",
       "      <td>0.000000</td>\n",
       "      <td>-2.441782</td>\n",
       "      <td>-5</td>\n",
       "      <td>NaN</td>\n",
       "    </tr>\n",
       "    <tr>\n",
       "      <th>2013-01-02</th>\n",
       "      <td>-0.508745</td>\n",
       "      <td>-0.143457</td>\n",
       "      <td>-0.322349</td>\n",
       "      <td>-5</td>\n",
       "      <td>-1</td>\n",
       "    </tr>\n",
       "    <tr>\n",
       "      <th>2013-01-03</th>\n",
       "      <td>-0.082382</td>\n",
       "      <td>-0.104139</td>\n",
       "      <td>-0.020805</td>\n",
       "      <td>-5</td>\n",
       "      <td>-2</td>\n",
       "    </tr>\n",
       "    <tr>\n",
       "      <th>2013-01-04</th>\n",
       "      <td>-0.825304</td>\n",
       "      <td>-0.552276</td>\n",
       "      <td>-0.625291</td>\n",
       "      <td>-5</td>\n",
       "      <td>-3</td>\n",
       "    </tr>\n",
       "    <tr>\n",
       "      <th>2013-01-05</th>\n",
       "      <td>-0.565328</td>\n",
       "      <td>-0.791494</td>\n",
       "      <td>-0.036873</td>\n",
       "      <td>-5</td>\n",
       "      <td>-4</td>\n",
       "    </tr>\n",
       "    <tr>\n",
       "      <th>2013-01-06</th>\n",
       "      <td>-0.408575</td>\n",
       "      <td>-0.710675</td>\n",
       "      <td>-0.529753</td>\n",
       "      <td>-5</td>\n",
       "      <td>-5</td>\n",
       "    </tr>\n",
       "  </tbody>\n",
       "</table>\n",
       "</div>"
      ],
      "text/plain": [
       "                   A         B         C  D   F\n",
       "2013-01-01  0.000000  0.000000 -2.441782 -5 NaN\n",
       "2013-01-02 -0.508745 -0.143457 -0.322349 -5  -1\n",
       "2013-01-03 -0.082382 -0.104139 -0.020805 -5  -2\n",
       "2013-01-04 -0.825304 -0.552276 -0.625291 -5  -3\n",
       "2013-01-05 -0.565328 -0.791494 -0.036873 -5  -4\n",
       "2013-01-06 -0.408575 -0.710675 -0.529753 -5  -5"
      ]
     },
     "execution_count": 59,
     "metadata": {},
     "output_type": "execute_result"
    }
   ],
   "source": [
    "df2"
   ]
  },
  {
   "cell_type": "code",
   "execution_count": 60,
   "metadata": {
    "collapsed": true
   },
   "outputs": [],
   "source": [
    "#reindex : 입력된 인덱스를 수정\n",
    "df1 = df.reindex(index=dates[0:4], columns=list(df.columns) + ['E']) #행 인덱스를 1~4행까지 유지하고,(dates에서 불러옴) 열은 기존의 ABCDF에 E를 추가"
   ]
  },
  {
   "cell_type": "code",
   "execution_count": 61,
   "metadata": {
    "collapsed": true
   },
   "outputs": [],
   "source": [
    "df1.loc[dates[0]:dates[1],'E'] = 1 #1,2행의 E열 값을 1로 설정"
   ]
  },
  {
   "cell_type": "code",
   "execution_count": 62,
   "metadata": {
    "collapsed": false
   },
   "outputs": [
    {
     "data": {
      "text/html": [
       "<div>\n",
       "<table border=\"1\" class=\"dataframe\">\n",
       "  <thead>\n",
       "    <tr style=\"text-align: right;\">\n",
       "      <th></th>\n",
       "      <th>A</th>\n",
       "      <th>B</th>\n",
       "      <th>C</th>\n",
       "      <th>D</th>\n",
       "      <th>F</th>\n",
       "      <th>E</th>\n",
       "    </tr>\n",
       "  </thead>\n",
       "  <tbody>\n",
       "    <tr>\n",
       "      <th>2013-01-01</th>\n",
       "      <td>0.000000</td>\n",
       "      <td>0.000000</td>\n",
       "      <td>-2.441782</td>\n",
       "      <td>5</td>\n",
       "      <td>NaN</td>\n",
       "      <td>1</td>\n",
       "    </tr>\n",
       "    <tr>\n",
       "      <th>2013-01-02</th>\n",
       "      <td>0.508745</td>\n",
       "      <td>0.143457</td>\n",
       "      <td>-0.322349</td>\n",
       "      <td>5</td>\n",
       "      <td>1</td>\n",
       "      <td>1</td>\n",
       "    </tr>\n",
       "    <tr>\n",
       "      <th>2013-01-03</th>\n",
       "      <td>0.082382</td>\n",
       "      <td>-0.104139</td>\n",
       "      <td>-0.020805</td>\n",
       "      <td>5</td>\n",
       "      <td>2</td>\n",
       "      <td>NaN</td>\n",
       "    </tr>\n",
       "    <tr>\n",
       "      <th>2013-01-04</th>\n",
       "      <td>-0.825304</td>\n",
       "      <td>-0.552276</td>\n",
       "      <td>-0.625291</td>\n",
       "      <td>5</td>\n",
       "      <td>3</td>\n",
       "      <td>NaN</td>\n",
       "    </tr>\n",
       "  </tbody>\n",
       "</table>\n",
       "</div>"
      ],
      "text/plain": [
       "                   A         B         C  D   F   E\n",
       "2013-01-01  0.000000  0.000000 -2.441782  5 NaN   1\n",
       "2013-01-02  0.508745  0.143457 -0.322349  5   1   1\n",
       "2013-01-03  0.082382 -0.104139 -0.020805  5   2 NaN\n",
       "2013-01-04 -0.825304 -0.552276 -0.625291  5   3 NaN"
      ]
     },
     "execution_count": 62,
     "metadata": {},
     "output_type": "execute_result"
    }
   ],
   "source": [
    "df1"
   ]
  },
  {
   "cell_type": "code",
   "execution_count": 63,
   "metadata": {
    "collapsed": false
   },
   "outputs": [
    {
     "data": {
      "text/html": [
       "<div>\n",
       "<table border=\"1\" class=\"dataframe\">\n",
       "  <thead>\n",
       "    <tr style=\"text-align: right;\">\n",
       "      <th></th>\n",
       "      <th>A</th>\n",
       "      <th>B</th>\n",
       "      <th>C</th>\n",
       "      <th>D</th>\n",
       "      <th>F</th>\n",
       "      <th>E</th>\n",
       "    </tr>\n",
       "  </thead>\n",
       "  <tbody>\n",
       "    <tr>\n",
       "      <th>2013-01-02</th>\n",
       "      <td>0.508745</td>\n",
       "      <td>0.143457</td>\n",
       "      <td>-0.322349</td>\n",
       "      <td>5</td>\n",
       "      <td>1</td>\n",
       "      <td>1</td>\n",
       "    </tr>\n",
       "  </tbody>\n",
       "</table>\n",
       "</div>"
      ],
      "text/plain": [
       "                   A         B         C  D  F  E\n",
       "2013-01-02  0.508745  0.143457 -0.322349  5  1  1"
      ]
     },
     "execution_count": 63,
     "metadata": {},
     "output_type": "execute_result"
    }
   ],
   "source": [
    "#dropna : NA 값이 있으면 버림, how='any' 이면 NA가 하나라도 있으면, 'all'이면 전부 NA이면 드랍\n",
    "df1.dropna(how='any')"
   ]
  },
  {
   "cell_type": "code",
   "execution_count": 65,
   "metadata": {
    "collapsed": false
   },
   "outputs": [
    {
     "data": {
      "text/html": [
       "<div>\n",
       "<table border=\"1\" class=\"dataframe\">\n",
       "  <thead>\n",
       "    <tr style=\"text-align: right;\">\n",
       "      <th></th>\n",
       "      <th>A</th>\n",
       "      <th>B</th>\n",
       "      <th>C</th>\n",
       "      <th>D</th>\n",
       "      <th>F</th>\n",
       "      <th>E</th>\n",
       "    </tr>\n",
       "  </thead>\n",
       "  <tbody>\n",
       "    <tr>\n",
       "      <th>2013-01-01</th>\n",
       "      <td>0.000000</td>\n",
       "      <td>0.000000</td>\n",
       "      <td>-2.441782</td>\n",
       "      <td>5</td>\n",
       "      <td>5</td>\n",
       "      <td>1</td>\n",
       "    </tr>\n",
       "    <tr>\n",
       "      <th>2013-01-02</th>\n",
       "      <td>0.508745</td>\n",
       "      <td>0.143457</td>\n",
       "      <td>-0.322349</td>\n",
       "      <td>5</td>\n",
       "      <td>1</td>\n",
       "      <td>1</td>\n",
       "    </tr>\n",
       "    <tr>\n",
       "      <th>2013-01-03</th>\n",
       "      <td>0.082382</td>\n",
       "      <td>-0.104139</td>\n",
       "      <td>-0.020805</td>\n",
       "      <td>5</td>\n",
       "      <td>2</td>\n",
       "      <td>5</td>\n",
       "    </tr>\n",
       "    <tr>\n",
       "      <th>2013-01-04</th>\n",
       "      <td>-0.825304</td>\n",
       "      <td>-0.552276</td>\n",
       "      <td>-0.625291</td>\n",
       "      <td>5</td>\n",
       "      <td>3</td>\n",
       "      <td>5</td>\n",
       "    </tr>\n",
       "  </tbody>\n",
       "</table>\n",
       "</div>"
      ],
      "text/plain": [
       "                   A         B         C  D  F  E\n",
       "2013-01-01  0.000000  0.000000 -2.441782  5  5  1\n",
       "2013-01-02  0.508745  0.143457 -0.322349  5  1  1\n",
       "2013-01-03  0.082382 -0.104139 -0.020805  5  2  5\n",
       "2013-01-04 -0.825304 -0.552276 -0.625291  5  3  5"
      ]
     },
     "execution_count": 65,
     "metadata": {},
     "output_type": "execute_result"
    }
   ],
   "source": [
    "#fillna : 값이 NA/NAN이면 지정된 값으로 설정\n",
    "df1.fillna(value=5)"
   ]
  },
  {
   "cell_type": "code",
   "execution_count": 66,
   "metadata": {
    "collapsed": false
   },
   "outputs": [
    {
     "data": {
      "text/html": [
       "<div>\n",
       "<table border=\"1\" class=\"dataframe\">\n",
       "  <thead>\n",
       "    <tr style=\"text-align: right;\">\n",
       "      <th></th>\n",
       "      <th>A</th>\n",
       "      <th>B</th>\n",
       "      <th>C</th>\n",
       "      <th>D</th>\n",
       "      <th>F</th>\n",
       "      <th>E</th>\n",
       "    </tr>\n",
       "  </thead>\n",
       "  <tbody>\n",
       "    <tr>\n",
       "      <th>2013-01-01</th>\n",
       "      <td>False</td>\n",
       "      <td>False</td>\n",
       "      <td>False</td>\n",
       "      <td>False</td>\n",
       "      <td>True</td>\n",
       "      <td>False</td>\n",
       "    </tr>\n",
       "    <tr>\n",
       "      <th>2013-01-02</th>\n",
       "      <td>False</td>\n",
       "      <td>False</td>\n",
       "      <td>False</td>\n",
       "      <td>False</td>\n",
       "      <td>False</td>\n",
       "      <td>False</td>\n",
       "    </tr>\n",
       "    <tr>\n",
       "      <th>2013-01-03</th>\n",
       "      <td>False</td>\n",
       "      <td>False</td>\n",
       "      <td>False</td>\n",
       "      <td>False</td>\n",
       "      <td>False</td>\n",
       "      <td>True</td>\n",
       "    </tr>\n",
       "    <tr>\n",
       "      <th>2013-01-04</th>\n",
       "      <td>False</td>\n",
       "      <td>False</td>\n",
       "      <td>False</td>\n",
       "      <td>False</td>\n",
       "      <td>False</td>\n",
       "      <td>True</td>\n",
       "    </tr>\n",
       "  </tbody>\n",
       "</table>\n",
       "</div>"
      ],
      "text/plain": [
       "                A      B      C      D      F      E\n",
       "2013-01-01  False  False  False  False   True  False\n",
       "2013-01-02  False  False  False  False  False  False\n",
       "2013-01-03  False  False  False  False  False   True\n",
       "2013-01-04  False  False  False  False  False   True"
      ]
     },
     "execution_count": 66,
     "metadata": {},
     "output_type": "execute_result"
    }
   ],
   "source": [
    "#NUMLL값이면 True, 아니면 False\n",
    "pd.isnull(df1)"
   ]
  },
  {
   "cell_type": "code",
   "execution_count": 67,
   "metadata": {
    "collapsed": false
   },
   "outputs": [
    {
     "data": {
      "text/plain": [
       "A   -0.012904\n",
       "B   -0.072023\n",
       "C   -0.486225\n",
       "D    5.000000\n",
       "F    3.000000\n",
       "dtype: float64"
      ]
     },
     "execution_count": 67,
     "metadata": {},
     "output_type": "execute_result"
    }
   ],
   "source": [
    "#mean : 평균, 입력이 0이면 열의 평균을, 1이면 행의 평균을 계산\n",
    "df.mean() #각열의 평균을 계산"
   ]
  },
  {
   "cell_type": "code",
   "execution_count": 68,
   "metadata": {
    "collapsed": false
   },
   "outputs": [
    {
     "data": {
      "text/plain": [
       "2013-01-01    0.639554\n",
       "2013-01-02    1.265971\n",
       "2013-01-03    1.391488\n",
       "2013-01-04    1.199426\n",
       "2013-01-05    2.063990\n",
       "2013-01-06    1.882101\n",
       "Freq: D, dtype: float64"
      ]
     },
     "execution_count": 68,
     "metadata": {},
     "output_type": "execute_result"
    }
   ],
   "source": [
    "df.mean(1) #행의 평균을 계산"
   ]
  },
  {
   "cell_type": "code",
   "execution_count": 71,
   "metadata": {
    "collapsed": false
   },
   "outputs": [
    {
     "data": {
      "text/plain": [
       "2013-01-01   NaN\n",
       "2013-01-02   NaN\n",
       "2013-01-03     1\n",
       "2013-01-04     3\n",
       "2013-01-05     5\n",
       "2013-01-06   NaN\n",
       "Freq: D, dtype: float64"
      ]
     },
     "execution_count": 71,
     "metadata": {},
     "output_type": "execute_result"
    }
   ],
   "source": [
    "#shift : 입력된 값만큼 값들을 이동시키고 빈 공간은 NAN으로 채움\n",
    "s = pd.Series([1,3,5,np.nan,6,8], index=dates).shift(2)\n",
    "s"
   ]
  },
  {
   "cell_type": "code",
   "execution_count": 72,
   "metadata": {
    "collapsed": false
   },
   "outputs": [
    {
     "data": {
      "text/plain": [
       "2013-01-01   NaN\n",
       "2013-01-02     1\n",
       "2013-01-03     3\n",
       "2013-01-04     5\n",
       "2013-01-05   NaN\n",
       "2013-01-06     6\n",
       "Freq: D, dtype: float64"
      ]
     },
     "execution_count": 72,
     "metadata": {},
     "output_type": "execute_result"
    }
   ],
   "source": [
    "s = pd.Series([1,3,5,np.nan,6,8], index=dates).shift(1)\n",
    "s"
   ]
  },
  {
   "cell_type": "code",
   "execution_count": 73,
   "metadata": {
    "collapsed": false
   },
   "outputs": [
    {
     "data": {
      "text/html": [
       "<div>\n",
       "<table border=\"1\" class=\"dataframe\">\n",
       "  <thead>\n",
       "    <tr style=\"text-align: right;\">\n",
       "      <th></th>\n",
       "      <th>A</th>\n",
       "      <th>B</th>\n",
       "      <th>C</th>\n",
       "      <th>D</th>\n",
       "      <th>F</th>\n",
       "    </tr>\n",
       "  </thead>\n",
       "  <tbody>\n",
       "    <tr>\n",
       "      <th>2013-01-01</th>\n",
       "      <td>NaN</td>\n",
       "      <td>NaN</td>\n",
       "      <td>NaN</td>\n",
       "      <td>NaN</td>\n",
       "      <td>NaN</td>\n",
       "    </tr>\n",
       "    <tr>\n",
       "      <th>2013-01-02</th>\n",
       "      <td>-0.491255</td>\n",
       "      <td>-0.856543</td>\n",
       "      <td>-1.322349</td>\n",
       "      <td>4</td>\n",
       "      <td>0</td>\n",
       "    </tr>\n",
       "    <tr>\n",
       "      <th>2013-01-03</th>\n",
       "      <td>-2.917618</td>\n",
       "      <td>-3.104139</td>\n",
       "      <td>-3.020805</td>\n",
       "      <td>2</td>\n",
       "      <td>-1</td>\n",
       "    </tr>\n",
       "    <tr>\n",
       "      <th>2013-01-04</th>\n",
       "      <td>-5.825304</td>\n",
       "      <td>-5.552276</td>\n",
       "      <td>-5.625291</td>\n",
       "      <td>0</td>\n",
       "      <td>-2</td>\n",
       "    </tr>\n",
       "    <tr>\n",
       "      <th>2013-01-05</th>\n",
       "      <td>NaN</td>\n",
       "      <td>NaN</td>\n",
       "      <td>NaN</td>\n",
       "      <td>NaN</td>\n",
       "      <td>NaN</td>\n",
       "    </tr>\n",
       "    <tr>\n",
       "      <th>2013-01-06</th>\n",
       "      <td>-6.408575</td>\n",
       "      <td>-6.710675</td>\n",
       "      <td>-5.470247</td>\n",
       "      <td>-1</td>\n",
       "      <td>-1</td>\n",
       "    </tr>\n",
       "  </tbody>\n",
       "</table>\n",
       "</div>"
      ],
      "text/plain": [
       "                   A         B         C   D   F\n",
       "2013-01-01       NaN       NaN       NaN NaN NaN\n",
       "2013-01-02 -0.491255 -0.856543 -1.322349   4   0\n",
       "2013-01-03 -2.917618 -3.104139 -3.020805   2  -1\n",
       "2013-01-04 -5.825304 -5.552276 -5.625291   0  -2\n",
       "2013-01-05       NaN       NaN       NaN NaN NaN\n",
       "2013-01-06 -6.408575 -6.710675 -5.470247  -1  -1"
      ]
     },
     "execution_count": 73,
     "metadata": {},
     "output_type": "execute_result"
    }
   ],
   "source": [
    "#sub : 값 중에 NaN이 있는 행 또는 열을 뺀다.\n",
    "#sub(other, axis='columns', level=None, fill_value=None)\n",
    "#ohter : Series, DataFrame, constant, \n",
    "#axis : {0,1, index’,‘columns’}\n",
    "#level : int or name\n",
    "#fill_value : None or float value, default None\n",
    "df.sub(s, axis='index')"
   ]
  },
  {
   "cell_type": "code",
   "execution_count": 83,
   "metadata": {
    "collapsed": false
   },
   "outputs": [
    {
     "data": {
      "text/html": [
       "<div>\n",
       "<table border=\"1\" class=\"dataframe\">\n",
       "  <thead>\n",
       "    <tr style=\"text-align: right;\">\n",
       "      <th></th>\n",
       "      <th>A</th>\n",
       "      <th>B</th>\n",
       "      <th>C</th>\n",
       "      <th>D</th>\n",
       "      <th>F</th>\n",
       "    </tr>\n",
       "  </thead>\n",
       "  <tbody>\n",
       "    <tr>\n",
       "      <th>2013-01-01</th>\n",
       "      <td>0.000000</td>\n",
       "      <td>0.000000</td>\n",
       "      <td>-2.441782</td>\n",
       "      <td>5</td>\n",
       "      <td>NaN</td>\n",
       "    </tr>\n",
       "    <tr>\n",
       "      <th>2013-01-02</th>\n",
       "      <td>0.508745</td>\n",
       "      <td>0.143457</td>\n",
       "      <td>-2.764131</td>\n",
       "      <td>10</td>\n",
       "      <td>1</td>\n",
       "    </tr>\n",
       "    <tr>\n",
       "      <th>2013-01-03</th>\n",
       "      <td>0.591127</td>\n",
       "      <td>0.039317</td>\n",
       "      <td>-2.784936</td>\n",
       "      <td>15</td>\n",
       "      <td>3</td>\n",
       "    </tr>\n",
       "    <tr>\n",
       "      <th>2013-01-04</th>\n",
       "      <td>-0.234177</td>\n",
       "      <td>-0.512959</td>\n",
       "      <td>-3.410227</td>\n",
       "      <td>20</td>\n",
       "      <td>6</td>\n",
       "    </tr>\n",
       "    <tr>\n",
       "      <th>2013-01-05</th>\n",
       "      <td>0.331151</td>\n",
       "      <td>0.278535</td>\n",
       "      <td>-3.447100</td>\n",
       "      <td>25</td>\n",
       "      <td>10</td>\n",
       "    </tr>\n",
       "    <tr>\n",
       "      <th>2013-01-06</th>\n",
       "      <td>-0.077424</td>\n",
       "      <td>-0.432140</td>\n",
       "      <td>-2.917347</td>\n",
       "      <td>30</td>\n",
       "      <td>15</td>\n",
       "    </tr>\n",
       "  </tbody>\n",
       "</table>\n",
       "</div>"
      ],
      "text/plain": [
       "                   A         B         C   D   F\n",
       "2013-01-01  0.000000  0.000000 -2.441782   5 NaN\n",
       "2013-01-02  0.508745  0.143457 -2.764131  10   1\n",
       "2013-01-03  0.591127  0.039317 -2.784936  15   3\n",
       "2013-01-04 -0.234177 -0.512959 -3.410227  20   6\n",
       "2013-01-05  0.331151  0.278535 -3.447100  25  10\n",
       "2013-01-06 -0.077424 -0.432140 -2.917347  30  15"
      ]
     },
     "execution_count": 83,
     "metadata": {},
     "output_type": "execute_result"
    }
   ],
   "source": [
    "#apply(func, axis=0, broadcast=False, raw=False, reduce=None, args=())\n",
    "#입력된 함수를 적용\n",
    "df.apply(np.cumsum) #cumsum : 각 열을 기준으로 합을 누적함"
   ]
  },
  {
   "cell_type": "code",
   "execution_count": 85,
   "metadata": {
    "collapsed": false
   },
   "outputs": [
    {
     "data": {
      "text/plain": [
       "A    1.390632\n",
       "B    1.502169\n",
       "C    2.971535\n",
       "D    0.000000\n",
       "F    4.000000\n",
       "dtype: float64"
      ]
     },
     "execution_count": 85,
     "metadata": {},
     "output_type": "execute_result"
    }
   ],
   "source": [
    "df.apply(lambda x: x.max() - x.min()) #각 열의 최댓값에서 최소값을 뺀 값"
   ]
  },
  {
   "cell_type": "code",
   "execution_count": 86,
   "metadata": {
    "collapsed": true
   },
   "outputs": [],
   "source": [
    "s = pd.Series(np.random.randint(0, 7, size=10)) #10개의 0~7사이에 값을 가지는 Series를 생성"
   ]
  },
  {
   "cell_type": "code",
   "execution_count": 87,
   "metadata": {
    "collapsed": false
   },
   "outputs": [
    {
     "data": {
      "text/plain": [
       "0    5\n",
       "1    0\n",
       "2    3\n",
       "3    1\n",
       "4    2\n",
       "5    6\n",
       "6    3\n",
       "7    1\n",
       "8    4\n",
       "9    6\n",
       "dtype: int32"
      ]
     },
     "execution_count": 87,
     "metadata": {},
     "output_type": "execute_result"
    }
   ],
   "source": [
    "s"
   ]
  },
  {
   "cell_type": "code",
   "execution_count": 88,
   "metadata": {
    "collapsed": false
   },
   "outputs": [
    {
     "data": {
      "text/plain": [
       "6    2\n",
       "3    2\n",
       "1    2\n",
       "5    1\n",
       "4    1\n",
       "2    1\n",
       "0    1\n",
       "dtype: int64"
      ]
     },
     "execution_count": 88,
     "metadata": {},
     "output_type": "execute_result"
    }
   ],
   "source": [
    "s.value_counts() #각 값이 몇개씩 있는지 출력"
   ]
  },
  {
   "cell_type": "code",
   "execution_count": 89,
   "metadata": {
    "collapsed": true
   },
   "outputs": [],
   "source": [
    "s = pd.Series(['A', 'B', 'C', 'Aaba', 'Baca', np.nan, 'CABA', 'dog', 'cat'])"
   ]
  },
  {
   "cell_type": "code",
   "execution_count": 90,
   "metadata": {
    "collapsed": false
   },
   "outputs": [
    {
     "data": {
      "text/plain": [
       "0       a\n",
       "1       b\n",
       "2       c\n",
       "3    aaba\n",
       "4    baca\n",
       "5     NaN\n",
       "6    caba\n",
       "7     dog\n",
       "8     cat\n",
       "dtype: object"
      ]
     },
     "execution_count": 90,
     "metadata": {},
     "output_type": "execute_result"
    }
   ],
   "source": [
    "s.str.lower() #전부 소문자로 변환"
   ]
  },
  {
   "cell_type": "code",
   "execution_count": 91,
   "metadata": {
    "collapsed": false
   },
   "outputs": [
    {
     "data": {
      "text/html": [
       "<div>\n",
       "<table border=\"1\" class=\"dataframe\">\n",
       "  <thead>\n",
       "    <tr style=\"text-align: right;\">\n",
       "      <th></th>\n",
       "      <th>0</th>\n",
       "      <th>1</th>\n",
       "      <th>2</th>\n",
       "      <th>3</th>\n",
       "    </tr>\n",
       "  </thead>\n",
       "  <tbody>\n",
       "    <tr>\n",
       "      <th>0</th>\n",
       "      <td>0.705170</td>\n",
       "      <td>0.175657</td>\n",
       "      <td>0.964400</td>\n",
       "      <td>-0.039187</td>\n",
       "    </tr>\n",
       "    <tr>\n",
       "      <th>1</th>\n",
       "      <td>-0.794047</td>\n",
       "      <td>-1.222131</td>\n",
       "      <td>-1.206930</td>\n",
       "      <td>-2.045151</td>\n",
       "    </tr>\n",
       "    <tr>\n",
       "      <th>2</th>\n",
       "      <td>0.162037</td>\n",
       "      <td>1.538401</td>\n",
       "      <td>-0.902570</td>\n",
       "      <td>-1.108054</td>\n",
       "    </tr>\n",
       "    <tr>\n",
       "      <th>3</th>\n",
       "      <td>0.484890</td>\n",
       "      <td>-0.575167</td>\n",
       "      <td>-0.818984</td>\n",
       "      <td>0.733348</td>\n",
       "    </tr>\n",
       "    <tr>\n",
       "      <th>4</th>\n",
       "      <td>0.201399</td>\n",
       "      <td>-1.711275</td>\n",
       "      <td>0.972919</td>\n",
       "      <td>1.432895</td>\n",
       "    </tr>\n",
       "    <tr>\n",
       "      <th>5</th>\n",
       "      <td>-0.095713</td>\n",
       "      <td>0.206270</td>\n",
       "      <td>1.077440</td>\n",
       "      <td>0.072558</td>\n",
       "    </tr>\n",
       "    <tr>\n",
       "      <th>6</th>\n",
       "      <td>0.671208</td>\n",
       "      <td>1.143660</td>\n",
       "      <td>3.644135</td>\n",
       "      <td>0.972268</td>\n",
       "    </tr>\n",
       "    <tr>\n",
       "      <th>7</th>\n",
       "      <td>0.671339</td>\n",
       "      <td>-1.342014</td>\n",
       "      <td>-1.242492</td>\n",
       "      <td>1.074394</td>\n",
       "    </tr>\n",
       "    <tr>\n",
       "      <th>8</th>\n",
       "      <td>-0.206691</td>\n",
       "      <td>1.488809</td>\n",
       "      <td>-0.565670</td>\n",
       "      <td>0.783136</td>\n",
       "    </tr>\n",
       "    <tr>\n",
       "      <th>9</th>\n",
       "      <td>-1.704150</td>\n",
       "      <td>0.627731</td>\n",
       "      <td>-1.848467</td>\n",
       "      <td>-0.593214</td>\n",
       "    </tr>\n",
       "  </tbody>\n",
       "</table>\n",
       "</div>"
      ],
      "text/plain": [
       "          0         1         2         3\n",
       "0  0.705170  0.175657  0.964400 -0.039187\n",
       "1 -0.794047 -1.222131 -1.206930 -2.045151\n",
       "2  0.162037  1.538401 -0.902570 -1.108054\n",
       "3  0.484890 -0.575167 -0.818984  0.733348\n",
       "4  0.201399 -1.711275  0.972919  1.432895\n",
       "5 -0.095713  0.206270  1.077440  0.072558\n",
       "6  0.671208  1.143660  3.644135  0.972268\n",
       "7  0.671339 -1.342014 -1.242492  1.074394\n",
       "8 -0.206691  1.488809 -0.565670  0.783136\n",
       "9 -1.704150  0.627731 -1.848467 -0.593214"
      ]
     },
     "execution_count": 91,
     "metadata": {},
     "output_type": "execute_result"
    }
   ],
   "source": [
    "df = pd.DataFrame(np.random.randn(10, 4)) #10x4 DataFrame 생성\n",
    "df"
   ]
  },
  {
   "cell_type": "code",
   "execution_count": null,
   "metadata": {
    "collapsed": true
   },
   "outputs": [],
   "source": [
    "pieces = [df[:3], df[3:7], df[7:]] #"
   ]
  }
 ],
 "metadata": {
  "kernelspec": {
   "display_name": "Python 2",
   "language": "python",
   "name": "python2"
  },
  "language_info": {
   "codemirror_mode": {
    "name": "ipython",
    "version": 2
   },
   "file_extension": ".py",
   "mimetype": "text/x-python",
   "name": "python",
   "nbconvert_exporter": "python",
   "pygments_lexer": "ipython2",
   "version": "2.7.9"
  }
 },
 "nbformat": 4,
 "nbformat_minor": 0
}
