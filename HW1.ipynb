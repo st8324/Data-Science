{
 "cells": [
  {
   "cell_type": "code",
   "execution_count": 265,
   "metadata": {
    "collapsed": true
   },
   "outputs": [],
   "source": [
    "import pandas as pd #pandas "
   ]
  },
  {
   "cell_type": "code",
   "execution_count": 185,
   "metadata": {
    "collapsed": true
   },
   "outputs": [],
   "source": [
    "import numpy as np #다차원의 숫자 배열을 파이썬에서 효율적으로 처리하기 위한 모듈"
   ]
  },
  {
   "cell_type": "code",
   "execution_count": 186,
   "metadata": {
    "collapsed": true
   },
   "outputs": [],
   "source": [
    "import matplotlib.pyplot as plt"
   ]
  },
  {
   "cell_type": "code",
   "execution_count": 187,
   "metadata": {
    "collapsed": true
   },
   "outputs": [],
   "source": [
    "s = pd.Series([1,3,5,np.nan,6,8]) #pansdas 자료구조 Series 생성, 1차원 : index를 사용하여 참조"
   ]
  },
  {
   "cell_type": "code",
   "execution_count": 188,
   "metadata": {
    "collapsed": false
   },
   "outputs": [
    {
     "data": {
      "text/plain": [
       "0     1\n",
       "1     3\n",
       "2     5\n",
       "3   NaN\n",
       "4     6\n",
       "5     8\n",
       "dtype: float64"
      ]
     },
     "execution_count": 188,
     "metadata": {},
     "output_type": "execute_result"
    }
   ],
   "source": [
    "s"
   ]
  },
  {
   "cell_type": "code",
   "execution_count": 189,
   "metadata": {
    "collapsed": true
   },
   "outputs": [],
   "source": [
    "dates = pd.date_range('20130101', periods=6) #pandas 자료구조 DataFrame 생성, 2013-01-01을 기준으로 6개, 2차원:index,colunms"
   ]
  },
  {
   "cell_type": "code",
   "execution_count": 190,
   "metadata": {
    "collapsed": false
   },
   "outputs": [
    {
     "data": {
      "text/plain": [
       "DatetimeIndex(['2013-01-01', '2013-01-02', '2013-01-03', '2013-01-04',\n",
       "               '2013-01-05', '2013-01-06'],\n",
       "              dtype='datetime64[ns]', freq='D', tz=None)"
      ]
     },
     "execution_count": 190,
     "metadata": {},
     "output_type": "execute_result"
    }
   ],
   "source": [
    "dates"
   ]
  },
  {
   "cell_type": "code",
   "execution_count": 191,
   "metadata": {
    "collapsed": true
   },
   "outputs": [],
   "source": [
    "df = pd.DataFrame(np.random.randn(6,4), index=dates, columns=list('ABCD')) \n",
    "#임의의 값을 가지는 6x4 DataFrame 생성, index는 dates, columns는 ABCD"
   ]
  },
  {
   "cell_type": "code",
   "execution_count": 192,
   "metadata": {
    "collapsed": false
   },
   "outputs": [
    {
     "data": {
      "text/html": [
       "<div>\n",
       "<table border=\"1\" class=\"dataframe\">\n",
       "  <thead>\n",
       "    <tr style=\"text-align: right;\">\n",
       "      <th></th>\n",
       "      <th>A</th>\n",
       "      <th>B</th>\n",
       "      <th>C</th>\n",
       "      <th>D</th>\n",
       "    </tr>\n",
       "  </thead>\n",
       "  <tbody>\n",
       "    <tr>\n",
       "      <th>2013-01-01</th>\n",
       "      <td>-1.513076</td>\n",
       "      <td>0.604704</td>\n",
       "      <td>0.092131</td>\n",
       "      <td>-0.446744</td>\n",
       "    </tr>\n",
       "    <tr>\n",
       "      <th>2013-01-02</th>\n",
       "      <td>0.443053</td>\n",
       "      <td>-0.377379</td>\n",
       "      <td>0.574053</td>\n",
       "      <td>-0.842635</td>\n",
       "    </tr>\n",
       "    <tr>\n",
       "      <th>2013-01-03</th>\n",
       "      <td>-0.937114</td>\n",
       "      <td>-1.466381</td>\n",
       "      <td>0.360486</td>\n",
       "      <td>1.175123</td>\n",
       "    </tr>\n",
       "    <tr>\n",
       "      <th>2013-01-04</th>\n",
       "      <td>-0.327016</td>\n",
       "      <td>2.190707</td>\n",
       "      <td>1.030997</td>\n",
       "      <td>-0.799858</td>\n",
       "    </tr>\n",
       "    <tr>\n",
       "      <th>2013-01-05</th>\n",
       "      <td>-1.364783</td>\n",
       "      <td>0.644855</td>\n",
       "      <td>-0.775839</td>\n",
       "      <td>1.074915</td>\n",
       "    </tr>\n",
       "    <tr>\n",
       "      <th>2013-01-06</th>\n",
       "      <td>-0.568484</td>\n",
       "      <td>0.141233</td>\n",
       "      <td>0.292353</td>\n",
       "      <td>-0.327674</td>\n",
       "    </tr>\n",
       "  </tbody>\n",
       "</table>\n",
       "</div>"
      ],
      "text/plain": [
       "                   A         B         C         D\n",
       "2013-01-01 -1.513076  0.604704  0.092131 -0.446744\n",
       "2013-01-02  0.443053 -0.377379  0.574053 -0.842635\n",
       "2013-01-03 -0.937114 -1.466381  0.360486  1.175123\n",
       "2013-01-04 -0.327016  2.190707  1.030997 -0.799858\n",
       "2013-01-05 -1.364783  0.644855 -0.775839  1.074915\n",
       "2013-01-06 -0.568484  0.141233  0.292353 -0.327674"
      ]
     },
     "execution_count": 192,
     "metadata": {},
     "output_type": "execute_result"
    }
   ],
   "source": [
    "df"
   ]
  },
  {
   "cell_type": "code",
   "execution_count": 193,
   "metadata": {
    "collapsed": true
   },
   "outputs": [],
   "source": [
    "df2 = pd.DataFrame({ 'A' : 1.,\n",
    "                    'B' : pd.Timestamp('20130102'),\n",
    "                    'C' : pd.Series(1,index=list(range(4)),dtype='float32'),#Series를 DataFrame에 넣기\n",
    "                    'D' : np.array([3] * 4,dtype='int32'), #4개짜리 배열에 3의 값을 입력\n",
    "                    'E' : pd.Categorical([\"test\",\"train\",\"test\",\"train\"]),\n",
    "                    'F' : 'foo' })"
   ]
  },
  {
   "cell_type": "code",
   "execution_count": 194,
   "metadata": {
    "collapsed": false
   },
   "outputs": [
    {
     "data": {
      "text/html": [
       "<div>\n",
       "<table border=\"1\" class=\"dataframe\">\n",
       "  <thead>\n",
       "    <tr style=\"text-align: right;\">\n",
       "      <th></th>\n",
       "      <th>A</th>\n",
       "      <th>B</th>\n",
       "      <th>C</th>\n",
       "      <th>D</th>\n",
       "      <th>E</th>\n",
       "      <th>F</th>\n",
       "    </tr>\n",
       "  </thead>\n",
       "  <tbody>\n",
       "    <tr>\n",
       "      <th>0</th>\n",
       "      <td>1</td>\n",
       "      <td>2013-01-02</td>\n",
       "      <td>1</td>\n",
       "      <td>3</td>\n",
       "      <td>test</td>\n",
       "      <td>foo</td>\n",
       "    </tr>\n",
       "    <tr>\n",
       "      <th>1</th>\n",
       "      <td>1</td>\n",
       "      <td>2013-01-02</td>\n",
       "      <td>1</td>\n",
       "      <td>3</td>\n",
       "      <td>train</td>\n",
       "      <td>foo</td>\n",
       "    </tr>\n",
       "    <tr>\n",
       "      <th>2</th>\n",
       "      <td>1</td>\n",
       "      <td>2013-01-02</td>\n",
       "      <td>1</td>\n",
       "      <td>3</td>\n",
       "      <td>test</td>\n",
       "      <td>foo</td>\n",
       "    </tr>\n",
       "    <tr>\n",
       "      <th>3</th>\n",
       "      <td>1</td>\n",
       "      <td>2013-01-02</td>\n",
       "      <td>1</td>\n",
       "      <td>3</td>\n",
       "      <td>train</td>\n",
       "      <td>foo</td>\n",
       "    </tr>\n",
       "  </tbody>\n",
       "</table>\n",
       "</div>"
      ],
      "text/plain": [
       "   A          B  C  D      E    F\n",
       "0  1 2013-01-02  1  3   test  foo\n",
       "1  1 2013-01-02  1  3  train  foo\n",
       "2  1 2013-01-02  1  3   test  foo\n",
       "3  1 2013-01-02  1  3  train  foo"
      ]
     },
     "execution_count": 194,
     "metadata": {},
     "output_type": "execute_result"
    }
   ],
   "source": [
    "df2"
   ]
  },
  {
   "cell_type": "code",
   "execution_count": 195,
   "metadata": {
    "collapsed": false
   },
   "outputs": [
    {
     "data": {
      "text/plain": [
       "A           float64\n",
       "B    datetime64[ns]\n",
       "C           float32\n",
       "D             int32\n",
       "E          category\n",
       "F            object\n",
       "dtype: object"
      ]
     },
     "execution_count": 195,
     "metadata": {},
     "output_type": "execute_result"
    }
   ],
   "source": [
    "df2.dtypes #각 columns의 데이터 타입을 출력"
   ]
  },
  {
   "cell_type": "code",
   "execution_count": 196,
   "metadata": {
    "collapsed": false
   },
   "outputs": [
    {
     "data": {
      "text/html": [
       "<div>\n",
       "<table border=\"1\" class=\"dataframe\">\n",
       "  <thead>\n",
       "    <tr style=\"text-align: right;\">\n",
       "      <th></th>\n",
       "      <th>A</th>\n",
       "      <th>B</th>\n",
       "      <th>C</th>\n",
       "      <th>D</th>\n",
       "    </tr>\n",
       "  </thead>\n",
       "  <tbody>\n",
       "    <tr>\n",
       "      <th>2013-01-01</th>\n",
       "      <td>-1.513076</td>\n",
       "      <td>0.604704</td>\n",
       "      <td>0.092131</td>\n",
       "      <td>-0.446744</td>\n",
       "    </tr>\n",
       "    <tr>\n",
       "      <th>2013-01-02</th>\n",
       "      <td>0.443053</td>\n",
       "      <td>-0.377379</td>\n",
       "      <td>0.574053</td>\n",
       "      <td>-0.842635</td>\n",
       "    </tr>\n",
       "    <tr>\n",
       "      <th>2013-01-03</th>\n",
       "      <td>-0.937114</td>\n",
       "      <td>-1.466381</td>\n",
       "      <td>0.360486</td>\n",
       "      <td>1.175123</td>\n",
       "    </tr>\n",
       "    <tr>\n",
       "      <th>2013-01-04</th>\n",
       "      <td>-0.327016</td>\n",
       "      <td>2.190707</td>\n",
       "      <td>1.030997</td>\n",
       "      <td>-0.799858</td>\n",
       "    </tr>\n",
       "    <tr>\n",
       "      <th>2013-01-05</th>\n",
       "      <td>-1.364783</td>\n",
       "      <td>0.644855</td>\n",
       "      <td>-0.775839</td>\n",
       "      <td>1.074915</td>\n",
       "    </tr>\n",
       "  </tbody>\n",
       "</table>\n",
       "</div>"
      ],
      "text/plain": [
       "                   A         B         C         D\n",
       "2013-01-01 -1.513076  0.604704  0.092131 -0.446744\n",
       "2013-01-02  0.443053 -0.377379  0.574053 -0.842635\n",
       "2013-01-03 -0.937114 -1.466381  0.360486  1.175123\n",
       "2013-01-04 -0.327016  2.190707  1.030997 -0.799858\n",
       "2013-01-05 -1.364783  0.644855 -0.775839  1.074915"
      ]
     },
     "execution_count": 196,
     "metadata": {},
     "output_type": "execute_result"
    }
   ],
   "source": [
    "df.head() #마지막 행을 제외한 나머지 행을 출력"
   ]
  },
  {
   "cell_type": "code",
   "execution_count": 197,
   "metadata": {
    "collapsed": false
   },
   "outputs": [
    {
     "data": {
      "text/html": [
       "<div>\n",
       "<table border=\"1\" class=\"dataframe\">\n",
       "  <thead>\n",
       "    <tr style=\"text-align: right;\">\n",
       "      <th></th>\n",
       "      <th>A</th>\n",
       "      <th>B</th>\n",
       "      <th>C</th>\n",
       "      <th>D</th>\n",
       "    </tr>\n",
       "  </thead>\n",
       "  <tbody>\n",
       "    <tr>\n",
       "      <th>2013-01-01</th>\n",
       "      <td>-1.513076</td>\n",
       "      <td>0.604704</td>\n",
       "      <td>0.092131</td>\n",
       "      <td>-0.446744</td>\n",
       "    </tr>\n",
       "    <tr>\n",
       "      <th>2013-01-02</th>\n",
       "      <td>0.443053</td>\n",
       "      <td>-0.377379</td>\n",
       "      <td>0.574053</td>\n",
       "      <td>-0.842635</td>\n",
       "    </tr>\n",
       "  </tbody>\n",
       "</table>\n",
       "</div>"
      ],
      "text/plain": [
       "                   A         B         C         D\n",
       "2013-01-01 -1.513076  0.604704  0.092131 -0.446744\n",
       "2013-01-02  0.443053 -0.377379  0.574053 -0.842635"
      ]
     },
     "execution_count": 197,
     "metadata": {},
     "output_type": "execute_result"
    }
   ],
   "source": [
    "df.head(2) #위에서 부터 2개의 행을 출력"
   ]
  },
  {
   "cell_type": "code",
   "execution_count": 198,
   "metadata": {
    "collapsed": false
   },
   "outputs": [
    {
     "data": {
      "text/html": [
       "<div>\n",
       "<table border=\"1\" class=\"dataframe\">\n",
       "  <thead>\n",
       "    <tr style=\"text-align: right;\">\n",
       "      <th></th>\n",
       "      <th>A</th>\n",
       "      <th>B</th>\n",
       "      <th>C</th>\n",
       "      <th>D</th>\n",
       "    </tr>\n",
       "  </thead>\n",
       "  <tbody>\n",
       "    <tr>\n",
       "      <th>2013-01-04</th>\n",
       "      <td>-0.327016</td>\n",
       "      <td>2.190707</td>\n",
       "      <td>1.030997</td>\n",
       "      <td>-0.799858</td>\n",
       "    </tr>\n",
       "    <tr>\n",
       "      <th>2013-01-05</th>\n",
       "      <td>-1.364783</td>\n",
       "      <td>0.644855</td>\n",
       "      <td>-0.775839</td>\n",
       "      <td>1.074915</td>\n",
       "    </tr>\n",
       "    <tr>\n",
       "      <th>2013-01-06</th>\n",
       "      <td>-0.568484</td>\n",
       "      <td>0.141233</td>\n",
       "      <td>0.292353</td>\n",
       "      <td>-0.327674</td>\n",
       "    </tr>\n",
       "  </tbody>\n",
       "</table>\n",
       "</div>"
      ],
      "text/plain": [
       "                   A         B         C         D\n",
       "2013-01-04 -0.327016  2.190707  1.030997 -0.799858\n",
       "2013-01-05 -1.364783  0.644855 -0.775839  1.074915\n",
       "2013-01-06 -0.568484  0.141233  0.292353 -0.327674"
      ]
     },
     "execution_count": 198,
     "metadata": {},
     "output_type": "execute_result"
    }
   ],
   "source": [
    "df.tail(3) #아래에서 3개의 행을 출력"
   ]
  },
  {
   "cell_type": "code",
   "execution_count": 199,
   "metadata": {
    "collapsed": false
   },
   "outputs": [
    {
     "data": {
      "text/plain": [
       "DatetimeIndex(['2013-01-01', '2013-01-02', '2013-01-03', '2013-01-04',\n",
       "               '2013-01-05', '2013-01-06'],\n",
       "              dtype='datetime64[ns]', freq='D', tz=None)"
      ]
     },
     "execution_count": 199,
     "metadata": {},
     "output_type": "execute_result"
    }
   ],
   "source": [
    "df.index #Data Frame의 index를 출력"
   ]
  },
  {
   "cell_type": "code",
   "execution_count": 200,
   "metadata": {
    "collapsed": false
   },
   "outputs": [
    {
     "data": {
      "text/plain": [
       "Index([u'A', u'B', u'C', u'D'], dtype='object')"
      ]
     },
     "execution_count": 200,
     "metadata": {},
     "output_type": "execute_result"
    }
   ],
   "source": [
    "df.columns #Data Frame의 각 열의 이름을 출력"
   ]
  },
  {
   "cell_type": "code",
   "execution_count": 201,
   "metadata": {
    "collapsed": false
   },
   "outputs": [
    {
     "data": {
      "text/plain": [
       "array([[-1.51307616,  0.60470391,  0.09213118, -0.44674445],\n",
       "       [ 0.44305338, -0.37737904,  0.57405303, -0.84263509],\n",
       "       [-0.93711431, -1.46638053,  0.36048627,  1.17512316],\n",
       "       [-0.32701585,  2.19070652,  1.03099717, -0.79985778],\n",
       "       [-1.36478333,  0.64485514, -0.77583854,  1.07491516],\n",
       "       [-0.56848411,  0.14123265,  0.29235311, -0.32767393]])"
      ]
     },
     "execution_count": 201,
     "metadata": {},
     "output_type": "execute_result"
    }
   ],
   "source": [
    "df.values #Data Frame의 각 값을 출력"
   ]
  },
  {
   "cell_type": "code",
   "execution_count": 202,
   "metadata": {
    "collapsed": false
   },
   "outputs": [
    {
     "data": {
      "text/html": [
       "<div>\n",
       "<table border=\"1\" class=\"dataframe\">\n",
       "  <thead>\n",
       "    <tr style=\"text-align: right;\">\n",
       "      <th></th>\n",
       "      <th>A</th>\n",
       "      <th>B</th>\n",
       "      <th>C</th>\n",
       "      <th>D</th>\n",
       "    </tr>\n",
       "  </thead>\n",
       "  <tbody>\n",
       "    <tr>\n",
       "      <th>count</th>\n",
       "      <td>6.000000</td>\n",
       "      <td>6.000000</td>\n",
       "      <td>6.000000</td>\n",
       "      <td>6.000000</td>\n",
       "    </tr>\n",
       "    <tr>\n",
       "      <th>mean</th>\n",
       "      <td>-0.711237</td>\n",
       "      <td>0.289623</td>\n",
       "      <td>0.262364</td>\n",
       "      <td>-0.027812</td>\n",
       "    </tr>\n",
       "    <tr>\n",
       "      <th>std</th>\n",
       "      <td>0.724083</td>\n",
       "      <td>1.215734</td>\n",
       "      <td>0.600886</td>\n",
       "      <td>0.915257</td>\n",
       "    </tr>\n",
       "    <tr>\n",
       "      <th>min</th>\n",
       "      <td>-1.513076</td>\n",
       "      <td>-1.466381</td>\n",
       "      <td>-0.775839</td>\n",
       "      <td>-0.842635</td>\n",
       "    </tr>\n",
       "    <tr>\n",
       "      <th>25%</th>\n",
       "      <td>-1.257866</td>\n",
       "      <td>-0.247726</td>\n",
       "      <td>0.142187</td>\n",
       "      <td>-0.711579</td>\n",
       "    </tr>\n",
       "    <tr>\n",
       "      <th>50%</th>\n",
       "      <td>-0.752799</td>\n",
       "      <td>0.372968</td>\n",
       "      <td>0.326420</td>\n",
       "      <td>-0.387209</td>\n",
       "    </tr>\n",
       "    <tr>\n",
       "      <th>75%</th>\n",
       "      <td>-0.387383</td>\n",
       "      <td>0.634817</td>\n",
       "      <td>0.520661</td>\n",
       "      <td>0.724268</td>\n",
       "    </tr>\n",
       "    <tr>\n",
       "      <th>max</th>\n",
       "      <td>0.443053</td>\n",
       "      <td>2.190707</td>\n",
       "      <td>1.030997</td>\n",
       "      <td>1.175123</td>\n",
       "    </tr>\n",
       "  </tbody>\n",
       "</table>\n",
       "</div>"
      ],
      "text/plain": [
       "              A         B         C         D\n",
       "count  6.000000  6.000000  6.000000  6.000000\n",
       "mean  -0.711237  0.289623  0.262364 -0.027812\n",
       "std    0.724083  1.215734  0.600886  0.915257\n",
       "min   -1.513076 -1.466381 -0.775839 -0.842635\n",
       "25%   -1.257866 -0.247726  0.142187 -0.711579\n",
       "50%   -0.752799  0.372968  0.326420 -0.387209\n",
       "75%   -0.387383  0.634817  0.520661  0.724268\n",
       "max    0.443053  2.190707  1.030997  1.175123"
      ]
     },
     "execution_count": 202,
     "metadata": {},
     "output_type": "execute_result"
    }
   ],
   "source": [
    "df.describe() #Data Frame의 한 열의 갯수, 평균, 최소, 최대등을 표시"
   ]
  },
  {
   "cell_type": "code",
   "execution_count": 203,
   "metadata": {
    "collapsed": false
   },
   "outputs": [
    {
     "data": {
      "text/html": [
       "<div>\n",
       "<table border=\"1\" class=\"dataframe\">\n",
       "  <thead>\n",
       "    <tr style=\"text-align: right;\">\n",
       "      <th></th>\n",
       "      <th>2013-01-01 00:00:00</th>\n",
       "      <th>2013-01-02 00:00:00</th>\n",
       "      <th>2013-01-03 00:00:00</th>\n",
       "      <th>2013-01-04 00:00:00</th>\n",
       "      <th>2013-01-05 00:00:00</th>\n",
       "      <th>2013-01-06 00:00:00</th>\n",
       "    </tr>\n",
       "  </thead>\n",
       "  <tbody>\n",
       "    <tr>\n",
       "      <th>A</th>\n",
       "      <td>-1.513076</td>\n",
       "      <td>0.443053</td>\n",
       "      <td>-0.937114</td>\n",
       "      <td>-0.327016</td>\n",
       "      <td>-1.364783</td>\n",
       "      <td>-0.568484</td>\n",
       "    </tr>\n",
       "    <tr>\n",
       "      <th>B</th>\n",
       "      <td>0.604704</td>\n",
       "      <td>-0.377379</td>\n",
       "      <td>-1.466381</td>\n",
       "      <td>2.190707</td>\n",
       "      <td>0.644855</td>\n",
       "      <td>0.141233</td>\n",
       "    </tr>\n",
       "    <tr>\n",
       "      <th>C</th>\n",
       "      <td>0.092131</td>\n",
       "      <td>0.574053</td>\n",
       "      <td>0.360486</td>\n",
       "      <td>1.030997</td>\n",
       "      <td>-0.775839</td>\n",
       "      <td>0.292353</td>\n",
       "    </tr>\n",
       "    <tr>\n",
       "      <th>D</th>\n",
       "      <td>-0.446744</td>\n",
       "      <td>-0.842635</td>\n",
       "      <td>1.175123</td>\n",
       "      <td>-0.799858</td>\n",
       "      <td>1.074915</td>\n",
       "      <td>-0.327674</td>\n",
       "    </tr>\n",
       "  </tbody>\n",
       "</table>\n",
       "</div>"
      ],
      "text/plain": [
       "   2013-01-01  2013-01-02  2013-01-03  2013-01-04  2013-01-05  2013-01-06\n",
       "A   -1.513076    0.443053   -0.937114   -0.327016   -1.364783   -0.568484\n",
       "B    0.604704   -0.377379   -1.466381    2.190707    0.644855    0.141233\n",
       "C    0.092131    0.574053    0.360486    1.030997   -0.775839    0.292353\n",
       "D   -0.446744   -0.842635    1.175123   -0.799858    1.074915   -0.327674"
      ]
     },
     "execution_count": 203,
     "metadata": {},
     "output_type": "execute_result"
    }
   ],
   "source": [
    "df.T #열과 행을 바꿔서 출력"
   ]
  },
  {
   "cell_type": "code",
   "execution_count": 204,
   "metadata": {
    "collapsed": false
   },
   "outputs": [
    {
     "data": {
      "text/html": [
       "<div>\n",
       "<table border=\"1\" class=\"dataframe\">\n",
       "  <thead>\n",
       "    <tr style=\"text-align: right;\">\n",
       "      <th></th>\n",
       "      <th>D</th>\n",
       "      <th>C</th>\n",
       "      <th>B</th>\n",
       "      <th>A</th>\n",
       "    </tr>\n",
       "  </thead>\n",
       "  <tbody>\n",
       "    <tr>\n",
       "      <th>2013-01-01</th>\n",
       "      <td>-0.446744</td>\n",
       "      <td>0.092131</td>\n",
       "      <td>0.604704</td>\n",
       "      <td>-1.513076</td>\n",
       "    </tr>\n",
       "    <tr>\n",
       "      <th>2013-01-02</th>\n",
       "      <td>-0.842635</td>\n",
       "      <td>0.574053</td>\n",
       "      <td>-0.377379</td>\n",
       "      <td>0.443053</td>\n",
       "    </tr>\n",
       "    <tr>\n",
       "      <th>2013-01-03</th>\n",
       "      <td>1.175123</td>\n",
       "      <td>0.360486</td>\n",
       "      <td>-1.466381</td>\n",
       "      <td>-0.937114</td>\n",
       "    </tr>\n",
       "    <tr>\n",
       "      <th>2013-01-04</th>\n",
       "      <td>-0.799858</td>\n",
       "      <td>1.030997</td>\n",
       "      <td>2.190707</td>\n",
       "      <td>-0.327016</td>\n",
       "    </tr>\n",
       "    <tr>\n",
       "      <th>2013-01-05</th>\n",
       "      <td>1.074915</td>\n",
       "      <td>-0.775839</td>\n",
       "      <td>0.644855</td>\n",
       "      <td>-1.364783</td>\n",
       "    </tr>\n",
       "    <tr>\n",
       "      <th>2013-01-06</th>\n",
       "      <td>-0.327674</td>\n",
       "      <td>0.292353</td>\n",
       "      <td>0.141233</td>\n",
       "      <td>-0.568484</td>\n",
       "    </tr>\n",
       "  </tbody>\n",
       "</table>\n",
       "</div>"
      ],
      "text/plain": [
       "                   D         C         B         A\n",
       "2013-01-01 -0.446744  0.092131  0.604704 -1.513076\n",
       "2013-01-02 -0.842635  0.574053 -0.377379  0.443053\n",
       "2013-01-03  1.175123  0.360486 -1.466381 -0.937114\n",
       "2013-01-04 -0.799858  1.030997  2.190707 -0.327016\n",
       "2013-01-05  1.074915 -0.775839  0.644855 -1.364783\n",
       "2013-01-06 -0.327674  0.292353  0.141233 -0.568484"
      ]
     },
     "execution_count": 204,
     "metadata": {},
     "output_type": "execute_result"
    }
   ],
   "source": [
    "df.sort_index(axis=1, ascending=False) #열이름을 기준으로 역순으로 정렬"
   ]
  },
  {
   "cell_type": "code",
   "execution_count": 205,
   "metadata": {
    "collapsed": false
   },
   "outputs": [
    {
     "data": {
      "text/html": [
       "<div>\n",
       "<table border=\"1\" class=\"dataframe\">\n",
       "  <thead>\n",
       "    <tr style=\"text-align: right;\">\n",
       "      <th></th>\n",
       "      <th>A</th>\n",
       "      <th>B</th>\n",
       "      <th>C</th>\n",
       "      <th>D</th>\n",
       "    </tr>\n",
       "  </thead>\n",
       "  <tbody>\n",
       "    <tr>\n",
       "      <th>2013-01-03</th>\n",
       "      <td>-0.937114</td>\n",
       "      <td>-1.466381</td>\n",
       "      <td>0.360486</td>\n",
       "      <td>1.175123</td>\n",
       "    </tr>\n",
       "    <tr>\n",
       "      <th>2013-01-02</th>\n",
       "      <td>0.443053</td>\n",
       "      <td>-0.377379</td>\n",
       "      <td>0.574053</td>\n",
       "      <td>-0.842635</td>\n",
       "    </tr>\n",
       "    <tr>\n",
       "      <th>2013-01-06</th>\n",
       "      <td>-0.568484</td>\n",
       "      <td>0.141233</td>\n",
       "      <td>0.292353</td>\n",
       "      <td>-0.327674</td>\n",
       "    </tr>\n",
       "    <tr>\n",
       "      <th>2013-01-01</th>\n",
       "      <td>-1.513076</td>\n",
       "      <td>0.604704</td>\n",
       "      <td>0.092131</td>\n",
       "      <td>-0.446744</td>\n",
       "    </tr>\n",
       "    <tr>\n",
       "      <th>2013-01-05</th>\n",
       "      <td>-1.364783</td>\n",
       "      <td>0.644855</td>\n",
       "      <td>-0.775839</td>\n",
       "      <td>1.074915</td>\n",
       "    </tr>\n",
       "    <tr>\n",
       "      <th>2013-01-04</th>\n",
       "      <td>-0.327016</td>\n",
       "      <td>2.190707</td>\n",
       "      <td>1.030997</td>\n",
       "      <td>-0.799858</td>\n",
       "    </tr>\n",
       "  </tbody>\n",
       "</table>\n",
       "</div>"
      ],
      "text/plain": [
       "                   A         B         C         D\n",
       "2013-01-03 -0.937114 -1.466381  0.360486  1.175123\n",
       "2013-01-02  0.443053 -0.377379  0.574053 -0.842635\n",
       "2013-01-06 -0.568484  0.141233  0.292353 -0.327674\n",
       "2013-01-01 -1.513076  0.604704  0.092131 -0.446744\n",
       "2013-01-05 -1.364783  0.644855 -0.775839  1.074915\n",
       "2013-01-04 -0.327016  2.190707  1.030997 -0.799858"
      ]
     },
     "execution_count": 205,
     "metadata": {},
     "output_type": "execute_result"
    }
   ],
   "source": [
    "df.sort(columns='B') #B열의 값을 기준으로 행을 정렬"
   ]
  },
  {
   "cell_type": "code",
   "execution_count": 206,
   "metadata": {
    "collapsed": false
   },
   "outputs": [
    {
     "data": {
      "text/plain": [
       "2013-01-01   -1.513076\n",
       "2013-01-02    0.443053\n",
       "2013-01-03   -0.937114\n",
       "2013-01-04   -0.327016\n",
       "2013-01-05   -1.364783\n",
       "2013-01-06   -0.568484\n",
       "Freq: D, Name: A, dtype: float64"
      ]
     },
     "execution_count": 206,
     "metadata": {},
     "output_type": "execute_result"
    }
   ],
   "source": [
    "df['A'] #A열의 값만 출력"
   ]
  },
  {
   "cell_type": "code",
   "execution_count": 207,
   "metadata": {
    "collapsed": false
   },
   "outputs": [
    {
     "data": {
      "text/html": [
       "<div>\n",
       "<table border=\"1\" class=\"dataframe\">\n",
       "  <thead>\n",
       "    <tr style=\"text-align: right;\">\n",
       "      <th></th>\n",
       "      <th>A</th>\n",
       "      <th>B</th>\n",
       "      <th>C</th>\n",
       "      <th>D</th>\n",
       "    </tr>\n",
       "  </thead>\n",
       "  <tbody>\n",
       "    <tr>\n",
       "      <th>2013-01-01</th>\n",
       "      <td>-1.513076</td>\n",
       "      <td>0.604704</td>\n",
       "      <td>0.092131</td>\n",
       "      <td>-0.446744</td>\n",
       "    </tr>\n",
       "    <tr>\n",
       "      <th>2013-01-02</th>\n",
       "      <td>0.443053</td>\n",
       "      <td>-0.377379</td>\n",
       "      <td>0.574053</td>\n",
       "      <td>-0.842635</td>\n",
       "    </tr>\n",
       "    <tr>\n",
       "      <th>2013-01-03</th>\n",
       "      <td>-0.937114</td>\n",
       "      <td>-1.466381</td>\n",
       "      <td>0.360486</td>\n",
       "      <td>1.175123</td>\n",
       "    </tr>\n",
       "  </tbody>\n",
       "</table>\n",
       "</div>"
      ],
      "text/plain": [
       "                   A         B         C         D\n",
       "2013-01-01 -1.513076  0.604704  0.092131 -0.446744\n",
       "2013-01-02  0.443053 -0.377379  0.574053 -0.842635\n",
       "2013-01-03 -0.937114 -1.466381  0.360486  1.175123"
      ]
     },
     "execution_count": 207,
     "metadata": {},
     "output_type": "execute_result"
    }
   ],
   "source": [
    "df[0:3] #1행에서 3행까지 출력"
   ]
  },
  {
   "cell_type": "code",
   "execution_count": 208,
   "metadata": {
    "collapsed": false
   },
   "outputs": [
    {
     "data": {
      "text/html": [
       "<div>\n",
       "<table border=\"1\" class=\"dataframe\">\n",
       "  <thead>\n",
       "    <tr style=\"text-align: right;\">\n",
       "      <th></th>\n",
       "      <th>A</th>\n",
       "      <th>B</th>\n",
       "      <th>C</th>\n",
       "      <th>D</th>\n",
       "    </tr>\n",
       "  </thead>\n",
       "  <tbody>\n",
       "    <tr>\n",
       "      <th>2013-01-02</th>\n",
       "      <td>0.443053</td>\n",
       "      <td>-0.377379</td>\n",
       "      <td>0.574053</td>\n",
       "      <td>-0.842635</td>\n",
       "    </tr>\n",
       "    <tr>\n",
       "      <th>2013-01-03</th>\n",
       "      <td>-0.937114</td>\n",
       "      <td>-1.466381</td>\n",
       "      <td>0.360486</td>\n",
       "      <td>1.175123</td>\n",
       "    </tr>\n",
       "    <tr>\n",
       "      <th>2013-01-04</th>\n",
       "      <td>-0.327016</td>\n",
       "      <td>2.190707</td>\n",
       "      <td>1.030997</td>\n",
       "      <td>-0.799858</td>\n",
       "    </tr>\n",
       "  </tbody>\n",
       "</table>\n",
       "</div>"
      ],
      "text/plain": [
       "                   A         B         C         D\n",
       "2013-01-02  0.443053 -0.377379  0.574053 -0.842635\n",
       "2013-01-03 -0.937114 -1.466381  0.360486  1.175123\n",
       "2013-01-04 -0.327016  2.190707  1.030997 -0.799858"
      ]
     },
     "execution_count": 208,
     "metadata": {},
     "output_type": "execute_result"
    }
   ],
   "source": [
    "df['20130102':'20130104'] #index가 20130102이상 20130104미만은 행 출력"
   ]
  },
  {
   "cell_type": "code",
   "execution_count": 209,
   "metadata": {
    "collapsed": false
   },
   "outputs": [
    {
     "data": {
      "text/plain": [
       "A   -1.513076\n",
       "B    0.604704\n",
       "C    0.092131\n",
       "D   -0.446744\n",
       "Name: 2013-01-01 00:00:00, dtype: float64"
      ]
     },
     "execution_count": 209,
     "metadata": {},
     "output_type": "execute_result"
    }
   ],
   "source": [
    "#loc는 해당 위치의 값을 출력, index의 값이 옴.\n",
    "df.loc[dates[0]] #1행의 값을 출력"
   ]
  },
  {
   "cell_type": "code",
   "execution_count": 210,
   "metadata": {
    "collapsed": false
   },
   "outputs": [
    {
     "data": {
      "text/html": [
       "<div>\n",
       "<table border=\"1\" class=\"dataframe\">\n",
       "  <thead>\n",
       "    <tr style=\"text-align: right;\">\n",
       "      <th></th>\n",
       "      <th>A</th>\n",
       "      <th>B</th>\n",
       "    </tr>\n",
       "  </thead>\n",
       "  <tbody>\n",
       "    <tr>\n",
       "      <th>2013-01-01</th>\n",
       "      <td>-1.513076</td>\n",
       "      <td>0.604704</td>\n",
       "    </tr>\n",
       "    <tr>\n",
       "      <th>2013-01-02</th>\n",
       "      <td>0.443053</td>\n",
       "      <td>-0.377379</td>\n",
       "    </tr>\n",
       "    <tr>\n",
       "      <th>2013-01-03</th>\n",
       "      <td>-0.937114</td>\n",
       "      <td>-1.466381</td>\n",
       "    </tr>\n",
       "    <tr>\n",
       "      <th>2013-01-04</th>\n",
       "      <td>-0.327016</td>\n",
       "      <td>2.190707</td>\n",
       "    </tr>\n",
       "    <tr>\n",
       "      <th>2013-01-05</th>\n",
       "      <td>-1.364783</td>\n",
       "      <td>0.644855</td>\n",
       "    </tr>\n",
       "    <tr>\n",
       "      <th>2013-01-06</th>\n",
       "      <td>-0.568484</td>\n",
       "      <td>0.141233</td>\n",
       "    </tr>\n",
       "  </tbody>\n",
       "</table>\n",
       "</div>"
      ],
      "text/plain": [
       "                   A         B\n",
       "2013-01-01 -1.513076  0.604704\n",
       "2013-01-02  0.443053 -0.377379\n",
       "2013-01-03 -0.937114 -1.466381\n",
       "2013-01-04 -0.327016  2.190707\n",
       "2013-01-05 -1.364783  0.644855\n",
       "2013-01-06 -0.568484  0.141233"
      ]
     },
     "execution_count": 210,
     "metadata": {},
     "output_type": "execute_result"
    }
   ],
   "source": [
    "df.loc[:,['A','B']] #인덱스 값이 A,B인 열을 출력"
   ]
  },
  {
   "cell_type": "code",
   "execution_count": 211,
   "metadata": {
    "collapsed": false
   },
   "outputs": [
    {
     "data": {
      "text/html": [
       "<div>\n",
       "<table border=\"1\" class=\"dataframe\">\n",
       "  <thead>\n",
       "    <tr style=\"text-align: right;\">\n",
       "      <th></th>\n",
       "      <th>A</th>\n",
       "      <th>B</th>\n",
       "    </tr>\n",
       "  </thead>\n",
       "  <tbody>\n",
       "    <tr>\n",
       "      <th>2013-01-02</th>\n",
       "      <td>0.443053</td>\n",
       "      <td>-0.377379</td>\n",
       "    </tr>\n",
       "    <tr>\n",
       "      <th>2013-01-03</th>\n",
       "      <td>-0.937114</td>\n",
       "      <td>-1.466381</td>\n",
       "    </tr>\n",
       "    <tr>\n",
       "      <th>2013-01-04</th>\n",
       "      <td>-0.327016</td>\n",
       "      <td>2.190707</td>\n",
       "    </tr>\n",
       "  </tbody>\n",
       "</table>\n",
       "</div>"
      ],
      "text/plain": [
       "                   A         B\n",
       "2013-01-02  0.443053 -0.377379\n",
       "2013-01-03 -0.937114 -1.466381\n",
       "2013-01-04 -0.327016  2.190707"
      ]
     },
     "execution_count": 211,
     "metadata": {},
     "output_type": "execute_result"
    }
   ],
   "source": [
    "df.loc['20130102':'20130104',['A','B']] #행의 인덱스가 20130102에서 20130104이며, 열의 인덱스가 A,B인 값을 출력"
   ]
  },
  {
   "cell_type": "code",
   "execution_count": 212,
   "metadata": {
    "collapsed": false
   },
   "outputs": [
    {
     "data": {
      "text/plain": [
       "A    0.443053\n",
       "B   -0.377379\n",
       "Name: 2013-01-02 00:00:00, dtype: float64"
      ]
     },
     "execution_count": 212,
     "metadata": {},
     "output_type": "execute_result"
    }
   ],
   "source": [
    "df.loc['20130102',['A','B']] #행의 인덱스가 20130102이고, 열의 인덱스가 A,B인 값을 출력"
   ]
  },
  {
   "cell_type": "code",
   "execution_count": 213,
   "metadata": {
    "collapsed": false
   },
   "outputs": [
    {
     "data": {
      "text/plain": [
       "-1.5130761621515896"
      ]
     },
     "execution_count": 213,
     "metadata": {},
     "output_type": "execute_result"
    }
   ],
   "source": [
    "df.loc[dates[0],'A'] #행의 인덱스가 20130101이며, 열의 인덱스가 A인 값 출력"
   ]
  },
  {
   "cell_type": "code",
   "execution_count": 214,
   "metadata": {
    "collapsed": false
   },
   "outputs": [
    {
     "data": {
      "text/plain": [
       "-1.5130761621515896"
      ]
     },
     "execution_count": 214,
     "metadata": {},
     "output_type": "execute_result"
    }
   ],
   "source": [
    " df.at[dates[0],'A'] #위의 loc[dates[0],'A']와 같은 값을 가지지만 처리 속도가 빠르다"
   ]
  },
  {
   "cell_type": "code",
   "execution_count": 215,
   "metadata": {
    "collapsed": false
   },
   "outputs": [
    {
     "data": {
      "text/plain": [
       "A   -0.327016\n",
       "B    2.190707\n",
       "C    1.030997\n",
       "D   -0.799858\n",
       "Name: 2013-01-04 00:00:00, dtype: float64"
      ]
     },
     "execution_count": 215,
     "metadata": {},
     "output_type": "execute_result"
    }
   ],
   "source": [
    "#iloc는 입력값이 정수만 넣을 수 있다.\n",
    "df.iloc[3] #4번째 행의 값을 출력"
   ]
  },
  {
   "cell_type": "code",
   "execution_count": 216,
   "metadata": {
    "collapsed": false
   },
   "outputs": [
    {
     "data": {
      "text/html": [
       "<div>\n",
       "<table border=\"1\" class=\"dataframe\">\n",
       "  <thead>\n",
       "    <tr style=\"text-align: right;\">\n",
       "      <th></th>\n",
       "      <th>A</th>\n",
       "      <th>B</th>\n",
       "    </tr>\n",
       "  </thead>\n",
       "  <tbody>\n",
       "    <tr>\n",
       "      <th>2013-01-04</th>\n",
       "      <td>-0.327016</td>\n",
       "      <td>2.190707</td>\n",
       "    </tr>\n",
       "    <tr>\n",
       "      <th>2013-01-05</th>\n",
       "      <td>-1.364783</td>\n",
       "      <td>0.644855</td>\n",
       "    </tr>\n",
       "  </tbody>\n",
       "</table>\n",
       "</div>"
      ],
      "text/plain": [
       "                   A         B\n",
       "2013-01-04 -0.327016  2.190707\n",
       "2013-01-05 -1.364783  0.644855"
      ]
     },
     "execution_count": 216,
     "metadata": {},
     "output_type": "execute_result"
    }
   ],
   "source": [
    "df.iloc[3:5,0:2] #4~5번째행이며, 1~2번째 열의 값을 출력"
   ]
  },
  {
   "cell_type": "code",
   "execution_count": 217,
   "metadata": {
    "collapsed": false
   },
   "outputs": [
    {
     "data": {
      "text/html": [
       "<div>\n",
       "<table border=\"1\" class=\"dataframe\">\n",
       "  <thead>\n",
       "    <tr style=\"text-align: right;\">\n",
       "      <th></th>\n",
       "      <th>A</th>\n",
       "      <th>C</th>\n",
       "    </tr>\n",
       "  </thead>\n",
       "  <tbody>\n",
       "    <tr>\n",
       "      <th>2013-01-02</th>\n",
       "      <td>0.443053</td>\n",
       "      <td>0.574053</td>\n",
       "    </tr>\n",
       "    <tr>\n",
       "      <th>2013-01-03</th>\n",
       "      <td>-0.937114</td>\n",
       "      <td>0.360486</td>\n",
       "    </tr>\n",
       "    <tr>\n",
       "      <th>2013-01-05</th>\n",
       "      <td>-1.364783</td>\n",
       "      <td>-0.775839</td>\n",
       "    </tr>\n",
       "  </tbody>\n",
       "</table>\n",
       "</div>"
      ],
      "text/plain": [
       "                   A         C\n",
       "2013-01-02  0.443053  0.574053\n",
       "2013-01-03 -0.937114  0.360486\n",
       "2013-01-05 -1.364783 -0.775839"
      ]
     },
     "execution_count": 217,
     "metadata": {},
     "output_type": "execute_result"
    }
   ],
   "source": [
    "df.iloc[[1,2,4],[0,2]] #행의 인덱스가 1,2,4(2,3,5행)이고, 열의 인덱스가 0,1(1,2행)을 출력"
   ]
  },
  {
   "cell_type": "code",
   "execution_count": 218,
   "metadata": {
    "collapsed": false
   },
   "outputs": [
    {
     "data": {
      "text/html": [
       "<div>\n",
       "<table border=\"1\" class=\"dataframe\">\n",
       "  <thead>\n",
       "    <tr style=\"text-align: right;\">\n",
       "      <th></th>\n",
       "      <th>A</th>\n",
       "      <th>B</th>\n",
       "      <th>C</th>\n",
       "      <th>D</th>\n",
       "    </tr>\n",
       "  </thead>\n",
       "  <tbody>\n",
       "    <tr>\n",
       "      <th>2013-01-02</th>\n",
       "      <td>0.443053</td>\n",
       "      <td>-0.377379</td>\n",
       "      <td>0.574053</td>\n",
       "      <td>-0.842635</td>\n",
       "    </tr>\n",
       "    <tr>\n",
       "      <th>2013-01-03</th>\n",
       "      <td>-0.937114</td>\n",
       "      <td>-1.466381</td>\n",
       "      <td>0.360486</td>\n",
       "      <td>1.175123</td>\n",
       "    </tr>\n",
       "  </tbody>\n",
       "</table>\n",
       "</div>"
      ],
      "text/plain": [
       "                   A         B         C         D\n",
       "2013-01-02  0.443053 -0.377379  0.574053 -0.842635\n",
       "2013-01-03 -0.937114 -1.466381  0.360486  1.175123"
      ]
     },
     "execution_count": 218,
     "metadata": {},
     "output_type": "execute_result"
    }
   ],
   "source": [
    "df.iloc[1:3,:] #2,3행을 출력"
   ]
  },
  {
   "cell_type": "code",
   "execution_count": 219,
   "metadata": {
    "collapsed": false
   },
   "outputs": [
    {
     "data": {
      "text/html": [
       "<div>\n",
       "<table border=\"1\" class=\"dataframe\">\n",
       "  <thead>\n",
       "    <tr style=\"text-align: right;\">\n",
       "      <th></th>\n",
       "      <th>B</th>\n",
       "      <th>C</th>\n",
       "    </tr>\n",
       "  </thead>\n",
       "  <tbody>\n",
       "    <tr>\n",
       "      <th>2013-01-01</th>\n",
       "      <td>0.604704</td>\n",
       "      <td>0.092131</td>\n",
       "    </tr>\n",
       "    <tr>\n",
       "      <th>2013-01-02</th>\n",
       "      <td>-0.377379</td>\n",
       "      <td>0.574053</td>\n",
       "    </tr>\n",
       "    <tr>\n",
       "      <th>2013-01-03</th>\n",
       "      <td>-1.466381</td>\n",
       "      <td>0.360486</td>\n",
       "    </tr>\n",
       "    <tr>\n",
       "      <th>2013-01-04</th>\n",
       "      <td>2.190707</td>\n",
       "      <td>1.030997</td>\n",
       "    </tr>\n",
       "    <tr>\n",
       "      <th>2013-01-05</th>\n",
       "      <td>0.644855</td>\n",
       "      <td>-0.775839</td>\n",
       "    </tr>\n",
       "    <tr>\n",
       "      <th>2013-01-06</th>\n",
       "      <td>0.141233</td>\n",
       "      <td>0.292353</td>\n",
       "    </tr>\n",
       "  </tbody>\n",
       "</table>\n",
       "</div>"
      ],
      "text/plain": [
       "                   B         C\n",
       "2013-01-01  0.604704  0.092131\n",
       "2013-01-02 -0.377379  0.574053\n",
       "2013-01-03 -1.466381  0.360486\n",
       "2013-01-04  2.190707  1.030997\n",
       "2013-01-05  0.644855 -0.775839\n",
       "2013-01-06  0.141233  0.292353"
      ]
     },
     "execution_count": 219,
     "metadata": {},
     "output_type": "execute_result"
    }
   ],
   "source": [
    " df.iloc[:,1:3] #2,3열을 출력"
   ]
  },
  {
   "cell_type": "code",
   "execution_count": 220,
   "metadata": {
    "collapsed": false
   },
   "outputs": [
    {
     "data": {
      "text/plain": [
       "-0.37737903665578665"
      ]
     },
     "execution_count": 220,
     "metadata": {},
     "output_type": "execute_result"
    }
   ],
   "source": [
    "df.iloc[1,1] #2행2열값을 출력"
   ]
  },
  {
   "cell_type": "code",
   "execution_count": 221,
   "metadata": {
    "collapsed": false
   },
   "outputs": [
    {
     "data": {
      "text/plain": [
       "-0.37737903665578665"
      ]
     },
     "execution_count": 221,
     "metadata": {},
     "output_type": "execute_result"
    }
   ],
   "source": [
    "df.iat[1,1] #2행2열값을 출력"
   ]
  },
  {
   "cell_type": "code",
   "execution_count": 222,
   "metadata": {
    "collapsed": false
   },
   "outputs": [
    {
     "data": {
      "text/html": [
       "<div>\n",
       "<table border=\"1\" class=\"dataframe\">\n",
       "  <thead>\n",
       "    <tr style=\"text-align: right;\">\n",
       "      <th></th>\n",
       "      <th>A</th>\n",
       "      <th>B</th>\n",
       "      <th>C</th>\n",
       "      <th>D</th>\n",
       "    </tr>\n",
       "  </thead>\n",
       "  <tbody>\n",
       "    <tr>\n",
       "      <th>2013-01-02</th>\n",
       "      <td>0.443053</td>\n",
       "      <td>-0.377379</td>\n",
       "      <td>0.574053</td>\n",
       "      <td>-0.842635</td>\n",
       "    </tr>\n",
       "  </tbody>\n",
       "</table>\n",
       "</div>"
      ],
      "text/plain": [
       "                   A         B         C         D\n",
       "2013-01-02  0.443053 -0.377379  0.574053 -0.842635"
      ]
     },
     "execution_count": 222,
     "metadata": {},
     "output_type": "execute_result"
    }
   ],
   "source": [
    "df[df.A > 0] #A열의 값이 0보다 큰 행만 출력"
   ]
  },
  {
   "cell_type": "code",
   "execution_count": 223,
   "metadata": {
    "collapsed": false
   },
   "outputs": [
    {
     "data": {
      "text/html": [
       "<div>\n",
       "<table border=\"1\" class=\"dataframe\">\n",
       "  <thead>\n",
       "    <tr style=\"text-align: right;\">\n",
       "      <th></th>\n",
       "      <th>A</th>\n",
       "      <th>B</th>\n",
       "      <th>C</th>\n",
       "      <th>D</th>\n",
       "    </tr>\n",
       "  </thead>\n",
       "  <tbody>\n",
       "    <tr>\n",
       "      <th>2013-01-01</th>\n",
       "      <td>NaN</td>\n",
       "      <td>0.604704</td>\n",
       "      <td>0.092131</td>\n",
       "      <td>NaN</td>\n",
       "    </tr>\n",
       "    <tr>\n",
       "      <th>2013-01-02</th>\n",
       "      <td>0.443053</td>\n",
       "      <td>NaN</td>\n",
       "      <td>0.574053</td>\n",
       "      <td>NaN</td>\n",
       "    </tr>\n",
       "    <tr>\n",
       "      <th>2013-01-03</th>\n",
       "      <td>NaN</td>\n",
       "      <td>NaN</td>\n",
       "      <td>0.360486</td>\n",
       "      <td>1.175123</td>\n",
       "    </tr>\n",
       "    <tr>\n",
       "      <th>2013-01-04</th>\n",
       "      <td>NaN</td>\n",
       "      <td>2.190707</td>\n",
       "      <td>1.030997</td>\n",
       "      <td>NaN</td>\n",
       "    </tr>\n",
       "    <tr>\n",
       "      <th>2013-01-05</th>\n",
       "      <td>NaN</td>\n",
       "      <td>0.644855</td>\n",
       "      <td>NaN</td>\n",
       "      <td>1.074915</td>\n",
       "    </tr>\n",
       "    <tr>\n",
       "      <th>2013-01-06</th>\n",
       "      <td>NaN</td>\n",
       "      <td>0.141233</td>\n",
       "      <td>0.292353</td>\n",
       "      <td>NaN</td>\n",
       "    </tr>\n",
       "  </tbody>\n",
       "</table>\n",
       "</div>"
      ],
      "text/plain": [
       "                   A         B         C         D\n",
       "2013-01-01       NaN  0.604704  0.092131       NaN\n",
       "2013-01-02  0.443053       NaN  0.574053       NaN\n",
       "2013-01-03       NaN       NaN  0.360486  1.175123\n",
       "2013-01-04       NaN  2.190707  1.030997       NaN\n",
       "2013-01-05       NaN  0.644855       NaN  1.074915\n",
       "2013-01-06       NaN  0.141233  0.292353       NaN"
      ]
     },
     "execution_count": 223,
     "metadata": {},
     "output_type": "execute_result"
    }
   ],
   "source": [
    "df[df > 0] #Data Frame df의 값이 0보다 작으면 NaN(Not a Number)를 출력"
   ]
  },
  {
   "cell_type": "code",
   "execution_count": 224,
   "metadata": {
    "collapsed": true
   },
   "outputs": [],
   "source": [
    "df2 = df.copy() #Data Frame df를 복사"
   ]
  },
  {
   "cell_type": "code",
   "execution_count": 225,
   "metadata": {
    "collapsed": true
   },
   "outputs": [],
   "source": [
    "df2['E'] = ['one', 'one','two','three','four','three'] #E열의 값을 수정"
   ]
  },
  {
   "cell_type": "code",
   "execution_count": 226,
   "metadata": {
    "collapsed": false
   },
   "outputs": [
    {
     "data": {
      "text/html": [
       "<div>\n",
       "<table border=\"1\" class=\"dataframe\">\n",
       "  <thead>\n",
       "    <tr style=\"text-align: right;\">\n",
       "      <th></th>\n",
       "      <th>A</th>\n",
       "      <th>B</th>\n",
       "      <th>C</th>\n",
       "      <th>D</th>\n",
       "      <th>E</th>\n",
       "    </tr>\n",
       "  </thead>\n",
       "  <tbody>\n",
       "    <tr>\n",
       "      <th>2013-01-01</th>\n",
       "      <td>-1.513076</td>\n",
       "      <td>0.604704</td>\n",
       "      <td>0.092131</td>\n",
       "      <td>-0.446744</td>\n",
       "      <td>one</td>\n",
       "    </tr>\n",
       "    <tr>\n",
       "      <th>2013-01-02</th>\n",
       "      <td>0.443053</td>\n",
       "      <td>-0.377379</td>\n",
       "      <td>0.574053</td>\n",
       "      <td>-0.842635</td>\n",
       "      <td>one</td>\n",
       "    </tr>\n",
       "    <tr>\n",
       "      <th>2013-01-03</th>\n",
       "      <td>-0.937114</td>\n",
       "      <td>-1.466381</td>\n",
       "      <td>0.360486</td>\n",
       "      <td>1.175123</td>\n",
       "      <td>two</td>\n",
       "    </tr>\n",
       "    <tr>\n",
       "      <th>2013-01-04</th>\n",
       "      <td>-0.327016</td>\n",
       "      <td>2.190707</td>\n",
       "      <td>1.030997</td>\n",
       "      <td>-0.799858</td>\n",
       "      <td>three</td>\n",
       "    </tr>\n",
       "    <tr>\n",
       "      <th>2013-01-05</th>\n",
       "      <td>-1.364783</td>\n",
       "      <td>0.644855</td>\n",
       "      <td>-0.775839</td>\n",
       "      <td>1.074915</td>\n",
       "      <td>four</td>\n",
       "    </tr>\n",
       "    <tr>\n",
       "      <th>2013-01-06</th>\n",
       "      <td>-0.568484</td>\n",
       "      <td>0.141233</td>\n",
       "      <td>0.292353</td>\n",
       "      <td>-0.327674</td>\n",
       "      <td>three</td>\n",
       "    </tr>\n",
       "  </tbody>\n",
       "</table>\n",
       "</div>"
      ],
      "text/plain": [
       "                   A         B         C         D      E\n",
       "2013-01-01 -1.513076  0.604704  0.092131 -0.446744    one\n",
       "2013-01-02  0.443053 -0.377379  0.574053 -0.842635    one\n",
       "2013-01-03 -0.937114 -1.466381  0.360486  1.175123    two\n",
       "2013-01-04 -0.327016  2.190707  1.030997 -0.799858  three\n",
       "2013-01-05 -1.364783  0.644855 -0.775839  1.074915   four\n",
       "2013-01-06 -0.568484  0.141233  0.292353 -0.327674  three"
      ]
     },
     "execution_count": 226,
     "metadata": {},
     "output_type": "execute_result"
    }
   ],
   "source": [
    "df2"
   ]
  },
  {
   "cell_type": "code",
   "execution_count": 227,
   "metadata": {
    "collapsed": false
   },
   "outputs": [
    {
     "data": {
      "text/html": [
       "<div>\n",
       "<table border=\"1\" class=\"dataframe\">\n",
       "  <thead>\n",
       "    <tr style=\"text-align: right;\">\n",
       "      <th></th>\n",
       "      <th>A</th>\n",
       "      <th>B</th>\n",
       "      <th>C</th>\n",
       "      <th>D</th>\n",
       "      <th>E</th>\n",
       "    </tr>\n",
       "  </thead>\n",
       "  <tbody>\n",
       "    <tr>\n",
       "      <th>2013-01-03</th>\n",
       "      <td>-0.937114</td>\n",
       "      <td>-1.466381</td>\n",
       "      <td>0.360486</td>\n",
       "      <td>1.175123</td>\n",
       "      <td>two</td>\n",
       "    </tr>\n",
       "    <tr>\n",
       "      <th>2013-01-05</th>\n",
       "      <td>-1.364783</td>\n",
       "      <td>0.644855</td>\n",
       "      <td>-0.775839</td>\n",
       "      <td>1.074915</td>\n",
       "      <td>four</td>\n",
       "    </tr>\n",
       "  </tbody>\n",
       "</table>\n",
       "</div>"
      ],
      "text/plain": [
       "                   A         B         C         D     E\n",
       "2013-01-03 -0.937114 -1.466381  0.360486  1.175123   two\n",
       "2013-01-05 -1.364783  0.644855 -0.775839  1.074915  four"
      ]
     },
     "execution_count": 227,
     "metadata": {},
     "output_type": "execute_result"
    }
   ],
   "source": [
    "#isin(입력), 입력된 값 중에서 해당 되는 값이 있으면 참, 없으면 거짓\n",
    "df2[df2['E'].isin(['two','four'])] #E열 값이 two와 four인 행 출력"
   ]
  },
  {
   "cell_type": "code",
   "execution_count": 228,
   "metadata": {
    "collapsed": true
   },
   "outputs": [],
   "source": [
    "s1 = pd.Series([1,2,3,4,5,6], index=pd.date_range('20130102', periods=6)) #행의 인덱스는 20130102~20130107이며 각 행의 값은 1~6을 가진 Series 생성"
   ]
  },
  {
   "cell_type": "code",
   "execution_count": 229,
   "metadata": {
    "collapsed": false
   },
   "outputs": [
    {
     "data": {
      "text/plain": [
       "2013-01-02    1\n",
       "2013-01-03    2\n",
       "2013-01-04    3\n",
       "2013-01-05    4\n",
       "2013-01-06    5\n",
       "2013-01-07    6\n",
       "Freq: D, dtype: int64"
      ]
     },
     "execution_count": 229,
     "metadata": {},
     "output_type": "execute_result"
    }
   ],
   "source": [
    "s1"
   ]
  },
  {
   "cell_type": "code",
   "execution_count": 230,
   "metadata": {
    "collapsed": true
   },
   "outputs": [],
   "source": [
    "df['F'] = s1 #Data Frame df의 f열을 Series S1으로 수정"
   ]
  },
  {
   "cell_type": "code",
   "execution_count": 231,
   "metadata": {
    "collapsed": true
   },
   "outputs": [],
   "source": [
    "df.at[dates[0],'A'] = 0 #1행의 A열의 값을 0으로 설정"
   ]
  },
  {
   "cell_type": "code",
   "execution_count": 232,
   "metadata": {
    "collapsed": true
   },
   "outputs": [],
   "source": [
    "df.iat[0,1] = 0 #1행의 2번째열(B열)의 값을 0으로 설정"
   ]
  },
  {
   "cell_type": "code",
   "execution_count": 233,
   "metadata": {
    "collapsed": true
   },
   "outputs": [],
   "source": [
    "#len은 입력된 자료구조의 길이\n",
    "df.loc[:,'D'] = np.array([5] * len(df)) #D열의 값을 5로 설정"
   ]
  },
  {
   "cell_type": "code",
   "execution_count": 234,
   "metadata": {
    "collapsed": false
   },
   "outputs": [
    {
     "data": {
      "text/html": [
       "<div>\n",
       "<table border=\"1\" class=\"dataframe\">\n",
       "  <thead>\n",
       "    <tr style=\"text-align: right;\">\n",
       "      <th></th>\n",
       "      <th>A</th>\n",
       "      <th>B</th>\n",
       "      <th>C</th>\n",
       "      <th>D</th>\n",
       "      <th>F</th>\n",
       "    </tr>\n",
       "  </thead>\n",
       "  <tbody>\n",
       "    <tr>\n",
       "      <th>2013-01-01</th>\n",
       "      <td>0.000000</td>\n",
       "      <td>0.000000</td>\n",
       "      <td>0.092131</td>\n",
       "      <td>5</td>\n",
       "      <td>NaN</td>\n",
       "    </tr>\n",
       "    <tr>\n",
       "      <th>2013-01-02</th>\n",
       "      <td>0.443053</td>\n",
       "      <td>-0.377379</td>\n",
       "      <td>0.574053</td>\n",
       "      <td>5</td>\n",
       "      <td>1</td>\n",
       "    </tr>\n",
       "    <tr>\n",
       "      <th>2013-01-03</th>\n",
       "      <td>-0.937114</td>\n",
       "      <td>-1.466381</td>\n",
       "      <td>0.360486</td>\n",
       "      <td>5</td>\n",
       "      <td>2</td>\n",
       "    </tr>\n",
       "    <tr>\n",
       "      <th>2013-01-04</th>\n",
       "      <td>-0.327016</td>\n",
       "      <td>2.190707</td>\n",
       "      <td>1.030997</td>\n",
       "      <td>5</td>\n",
       "      <td>3</td>\n",
       "    </tr>\n",
       "    <tr>\n",
       "      <th>2013-01-05</th>\n",
       "      <td>-1.364783</td>\n",
       "      <td>0.644855</td>\n",
       "      <td>-0.775839</td>\n",
       "      <td>5</td>\n",
       "      <td>4</td>\n",
       "    </tr>\n",
       "    <tr>\n",
       "      <th>2013-01-06</th>\n",
       "      <td>-0.568484</td>\n",
       "      <td>0.141233</td>\n",
       "      <td>0.292353</td>\n",
       "      <td>5</td>\n",
       "      <td>5</td>\n",
       "    </tr>\n",
       "  </tbody>\n",
       "</table>\n",
       "</div>"
      ],
      "text/plain": [
       "                   A         B         C  D   F\n",
       "2013-01-01  0.000000  0.000000  0.092131  5 NaN\n",
       "2013-01-02  0.443053 -0.377379  0.574053  5   1\n",
       "2013-01-03 -0.937114 -1.466381  0.360486  5   2\n",
       "2013-01-04 -0.327016  2.190707  1.030997  5   3\n",
       "2013-01-05 -1.364783  0.644855 -0.775839  5   4\n",
       "2013-01-06 -0.568484  0.141233  0.292353  5   5"
      ]
     },
     "execution_count": 234,
     "metadata": {},
     "output_type": "execute_result"
    }
   ],
   "source": [
    "df"
   ]
  },
  {
   "cell_type": "code",
   "execution_count": 235,
   "metadata": {
    "collapsed": true
   },
   "outputs": [],
   "source": [
    "df2 = df.copy()"
   ]
  },
  {
   "cell_type": "code",
   "execution_count": 236,
   "metadata": {
    "collapsed": true
   },
   "outputs": [],
   "source": [
    "df2[df2 > 0] = -df2 #df2의 값이 0보다 크면 -로 수정"
   ]
  },
  {
   "cell_type": "code",
   "execution_count": 237,
   "metadata": {
    "collapsed": false
   },
   "outputs": [
    {
     "data": {
      "text/html": [
       "<div>\n",
       "<table border=\"1\" class=\"dataframe\">\n",
       "  <thead>\n",
       "    <tr style=\"text-align: right;\">\n",
       "      <th></th>\n",
       "      <th>A</th>\n",
       "      <th>B</th>\n",
       "      <th>C</th>\n",
       "      <th>D</th>\n",
       "      <th>F</th>\n",
       "    </tr>\n",
       "  </thead>\n",
       "  <tbody>\n",
       "    <tr>\n",
       "      <th>2013-01-01</th>\n",
       "      <td>0.000000</td>\n",
       "      <td>0.000000</td>\n",
       "      <td>-0.092131</td>\n",
       "      <td>-5</td>\n",
       "      <td>NaN</td>\n",
       "    </tr>\n",
       "    <tr>\n",
       "      <th>2013-01-02</th>\n",
       "      <td>-0.443053</td>\n",
       "      <td>-0.377379</td>\n",
       "      <td>-0.574053</td>\n",
       "      <td>-5</td>\n",
       "      <td>-1</td>\n",
       "    </tr>\n",
       "    <tr>\n",
       "      <th>2013-01-03</th>\n",
       "      <td>-0.937114</td>\n",
       "      <td>-1.466381</td>\n",
       "      <td>-0.360486</td>\n",
       "      <td>-5</td>\n",
       "      <td>-2</td>\n",
       "    </tr>\n",
       "    <tr>\n",
       "      <th>2013-01-04</th>\n",
       "      <td>-0.327016</td>\n",
       "      <td>-2.190707</td>\n",
       "      <td>-1.030997</td>\n",
       "      <td>-5</td>\n",
       "      <td>-3</td>\n",
       "    </tr>\n",
       "    <tr>\n",
       "      <th>2013-01-05</th>\n",
       "      <td>-1.364783</td>\n",
       "      <td>-0.644855</td>\n",
       "      <td>-0.775839</td>\n",
       "      <td>-5</td>\n",
       "      <td>-4</td>\n",
       "    </tr>\n",
       "    <tr>\n",
       "      <th>2013-01-06</th>\n",
       "      <td>-0.568484</td>\n",
       "      <td>-0.141233</td>\n",
       "      <td>-0.292353</td>\n",
       "      <td>-5</td>\n",
       "      <td>-5</td>\n",
       "    </tr>\n",
       "  </tbody>\n",
       "</table>\n",
       "</div>"
      ],
      "text/plain": [
       "                   A         B         C  D   F\n",
       "2013-01-01  0.000000  0.000000 -0.092131 -5 NaN\n",
       "2013-01-02 -0.443053 -0.377379 -0.574053 -5  -1\n",
       "2013-01-03 -0.937114 -1.466381 -0.360486 -5  -2\n",
       "2013-01-04 -0.327016 -2.190707 -1.030997 -5  -3\n",
       "2013-01-05 -1.364783 -0.644855 -0.775839 -5  -4\n",
       "2013-01-06 -0.568484 -0.141233 -0.292353 -5  -5"
      ]
     },
     "execution_count": 237,
     "metadata": {},
     "output_type": "execute_result"
    }
   ],
   "source": [
    "df2"
   ]
  },
  {
   "cell_type": "code",
   "execution_count": 238,
   "metadata": {
    "collapsed": true
   },
   "outputs": [],
   "source": [
    "#reindex : 입력된 인덱스를 수정\n",
    "df1 = df.reindex(index=dates[0:4], columns=list(df.columns) + ['E']) #행 인덱스를 1~4행까지 유지하고,(dates에서 불러옴) 열은 기존의 ABCDF에 E를 추가"
   ]
  },
  {
   "cell_type": "code",
   "execution_count": 239,
   "metadata": {
    "collapsed": true
   },
   "outputs": [],
   "source": [
    "df1.loc[dates[0]:dates[1],'E'] = 1 #1,2행의 E열 값을 1로 설정"
   ]
  },
  {
   "cell_type": "code",
   "execution_count": 240,
   "metadata": {
    "collapsed": false
   },
   "outputs": [
    {
     "data": {
      "text/html": [
       "<div>\n",
       "<table border=\"1\" class=\"dataframe\">\n",
       "  <thead>\n",
       "    <tr style=\"text-align: right;\">\n",
       "      <th></th>\n",
       "      <th>A</th>\n",
       "      <th>B</th>\n",
       "      <th>C</th>\n",
       "      <th>D</th>\n",
       "      <th>F</th>\n",
       "      <th>E</th>\n",
       "    </tr>\n",
       "  </thead>\n",
       "  <tbody>\n",
       "    <tr>\n",
       "      <th>2013-01-01</th>\n",
       "      <td>0.000000</td>\n",
       "      <td>0.000000</td>\n",
       "      <td>0.092131</td>\n",
       "      <td>5</td>\n",
       "      <td>NaN</td>\n",
       "      <td>1</td>\n",
       "    </tr>\n",
       "    <tr>\n",
       "      <th>2013-01-02</th>\n",
       "      <td>0.443053</td>\n",
       "      <td>-0.377379</td>\n",
       "      <td>0.574053</td>\n",
       "      <td>5</td>\n",
       "      <td>1</td>\n",
       "      <td>1</td>\n",
       "    </tr>\n",
       "    <tr>\n",
       "      <th>2013-01-03</th>\n",
       "      <td>-0.937114</td>\n",
       "      <td>-1.466381</td>\n",
       "      <td>0.360486</td>\n",
       "      <td>5</td>\n",
       "      <td>2</td>\n",
       "      <td>NaN</td>\n",
       "    </tr>\n",
       "    <tr>\n",
       "      <th>2013-01-04</th>\n",
       "      <td>-0.327016</td>\n",
       "      <td>2.190707</td>\n",
       "      <td>1.030997</td>\n",
       "      <td>5</td>\n",
       "      <td>3</td>\n",
       "      <td>NaN</td>\n",
       "    </tr>\n",
       "  </tbody>\n",
       "</table>\n",
       "</div>"
      ],
      "text/plain": [
       "                   A         B         C  D   F   E\n",
       "2013-01-01  0.000000  0.000000  0.092131  5 NaN   1\n",
       "2013-01-02  0.443053 -0.377379  0.574053  5   1   1\n",
       "2013-01-03 -0.937114 -1.466381  0.360486  5   2 NaN\n",
       "2013-01-04 -0.327016  2.190707  1.030997  5   3 NaN"
      ]
     },
     "execution_count": 240,
     "metadata": {},
     "output_type": "execute_result"
    }
   ],
   "source": [
    "df1"
   ]
  },
  {
   "cell_type": "code",
   "execution_count": 241,
   "metadata": {
    "collapsed": false
   },
   "outputs": [
    {
     "data": {
      "text/html": [
       "<div>\n",
       "<table border=\"1\" class=\"dataframe\">\n",
       "  <thead>\n",
       "    <tr style=\"text-align: right;\">\n",
       "      <th></th>\n",
       "      <th>A</th>\n",
       "      <th>B</th>\n",
       "      <th>C</th>\n",
       "      <th>D</th>\n",
       "      <th>F</th>\n",
       "      <th>E</th>\n",
       "    </tr>\n",
       "  </thead>\n",
       "  <tbody>\n",
       "    <tr>\n",
       "      <th>2013-01-02</th>\n",
       "      <td>0.443053</td>\n",
       "      <td>-0.377379</td>\n",
       "      <td>0.574053</td>\n",
       "      <td>5</td>\n",
       "      <td>1</td>\n",
       "      <td>1</td>\n",
       "    </tr>\n",
       "  </tbody>\n",
       "</table>\n",
       "</div>"
      ],
      "text/plain": [
       "                   A         B         C  D  F  E\n",
       "2013-01-02  0.443053 -0.377379  0.574053  5  1  1"
      ]
     },
     "execution_count": 241,
     "metadata": {},
     "output_type": "execute_result"
    }
   ],
   "source": [
    "#dropna : NA 값이 있으면 버림, how='any' 이면 NA가 하나라도 있으면, 'all'이면 전부 NA이면 드랍\n",
    "df1.dropna(how='any')"
   ]
  },
  {
   "cell_type": "code",
   "execution_count": 242,
   "metadata": {
    "collapsed": false
   },
   "outputs": [
    {
     "data": {
      "text/html": [
       "<div>\n",
       "<table border=\"1\" class=\"dataframe\">\n",
       "  <thead>\n",
       "    <tr style=\"text-align: right;\">\n",
       "      <th></th>\n",
       "      <th>A</th>\n",
       "      <th>B</th>\n",
       "      <th>C</th>\n",
       "      <th>D</th>\n",
       "      <th>F</th>\n",
       "      <th>E</th>\n",
       "    </tr>\n",
       "  </thead>\n",
       "  <tbody>\n",
       "    <tr>\n",
       "      <th>2013-01-01</th>\n",
       "      <td>0.000000</td>\n",
       "      <td>0.000000</td>\n",
       "      <td>0.092131</td>\n",
       "      <td>5</td>\n",
       "      <td>5</td>\n",
       "      <td>1</td>\n",
       "    </tr>\n",
       "    <tr>\n",
       "      <th>2013-01-02</th>\n",
       "      <td>0.443053</td>\n",
       "      <td>-0.377379</td>\n",
       "      <td>0.574053</td>\n",
       "      <td>5</td>\n",
       "      <td>1</td>\n",
       "      <td>1</td>\n",
       "    </tr>\n",
       "    <tr>\n",
       "      <th>2013-01-03</th>\n",
       "      <td>-0.937114</td>\n",
       "      <td>-1.466381</td>\n",
       "      <td>0.360486</td>\n",
       "      <td>5</td>\n",
       "      <td>2</td>\n",
       "      <td>5</td>\n",
       "    </tr>\n",
       "    <tr>\n",
       "      <th>2013-01-04</th>\n",
       "      <td>-0.327016</td>\n",
       "      <td>2.190707</td>\n",
       "      <td>1.030997</td>\n",
       "      <td>5</td>\n",
       "      <td>3</td>\n",
       "      <td>5</td>\n",
       "    </tr>\n",
       "  </tbody>\n",
       "</table>\n",
       "</div>"
      ],
      "text/plain": [
       "                   A         B         C  D  F  E\n",
       "2013-01-01  0.000000  0.000000  0.092131  5  5  1\n",
       "2013-01-02  0.443053 -0.377379  0.574053  5  1  1\n",
       "2013-01-03 -0.937114 -1.466381  0.360486  5  2  5\n",
       "2013-01-04 -0.327016  2.190707  1.030997  5  3  5"
      ]
     },
     "execution_count": 242,
     "metadata": {},
     "output_type": "execute_result"
    }
   ],
   "source": [
    "#fillna : 값이 NA/NAN이면 지정된 값으로 설정\n",
    "df1.fillna(value=5)"
   ]
  },
  {
   "cell_type": "code",
   "execution_count": 243,
   "metadata": {
    "collapsed": false
   },
   "outputs": [
    {
     "data": {
      "text/html": [
       "<div>\n",
       "<table border=\"1\" class=\"dataframe\">\n",
       "  <thead>\n",
       "    <tr style=\"text-align: right;\">\n",
       "      <th></th>\n",
       "      <th>A</th>\n",
       "      <th>B</th>\n",
       "      <th>C</th>\n",
       "      <th>D</th>\n",
       "      <th>F</th>\n",
       "      <th>E</th>\n",
       "    </tr>\n",
       "  </thead>\n",
       "  <tbody>\n",
       "    <tr>\n",
       "      <th>2013-01-01</th>\n",
       "      <td>False</td>\n",
       "      <td>False</td>\n",
       "      <td>False</td>\n",
       "      <td>False</td>\n",
       "      <td>True</td>\n",
       "      <td>False</td>\n",
       "    </tr>\n",
       "    <tr>\n",
       "      <th>2013-01-02</th>\n",
       "      <td>False</td>\n",
       "      <td>False</td>\n",
       "      <td>False</td>\n",
       "      <td>False</td>\n",
       "      <td>False</td>\n",
       "      <td>False</td>\n",
       "    </tr>\n",
       "    <tr>\n",
       "      <th>2013-01-03</th>\n",
       "      <td>False</td>\n",
       "      <td>False</td>\n",
       "      <td>False</td>\n",
       "      <td>False</td>\n",
       "      <td>False</td>\n",
       "      <td>True</td>\n",
       "    </tr>\n",
       "    <tr>\n",
       "      <th>2013-01-04</th>\n",
       "      <td>False</td>\n",
       "      <td>False</td>\n",
       "      <td>False</td>\n",
       "      <td>False</td>\n",
       "      <td>False</td>\n",
       "      <td>True</td>\n",
       "    </tr>\n",
       "  </tbody>\n",
       "</table>\n",
       "</div>"
      ],
      "text/plain": [
       "                A      B      C      D      F      E\n",
       "2013-01-01  False  False  False  False   True  False\n",
       "2013-01-02  False  False  False  False  False  False\n",
       "2013-01-03  False  False  False  False  False   True\n",
       "2013-01-04  False  False  False  False  False   True"
      ]
     },
     "execution_count": 243,
     "metadata": {},
     "output_type": "execute_result"
    }
   ],
   "source": [
    "#NUMLL값이면 True, 아니면 False\n",
    "pd.isnull(df1)"
   ]
  },
  {
   "cell_type": "code",
   "execution_count": 244,
   "metadata": {
    "collapsed": false
   },
   "outputs": [
    {
     "data": {
      "text/plain": [
       "A   -0.459057\n",
       "B    0.188839\n",
       "C    0.262364\n",
       "D    5.000000\n",
       "F    3.000000\n",
       "dtype: float64"
      ]
     },
     "execution_count": 244,
     "metadata": {},
     "output_type": "execute_result"
    }
   ],
   "source": [
    "#mean : 평균, 입력이 0이면 열의 평균을, 1이면 행의 평균을 계산\n",
    "df.mean() #각열의 평균을 계산"
   ]
  },
  {
   "cell_type": "code",
   "execution_count": 245,
   "metadata": {
    "collapsed": false
   },
   "outputs": [
    {
     "data": {
      "text/plain": [
       "2013-01-01    1.273033\n",
       "2013-01-02    1.327945\n",
       "2013-01-03    0.991398\n",
       "2013-01-04    2.178938\n",
       "2013-01-05    1.500847\n",
       "2013-01-06    1.973020\n",
       "Freq: D, dtype: float64"
      ]
     },
     "execution_count": 245,
     "metadata": {},
     "output_type": "execute_result"
    }
   ],
   "source": [
    "df.mean(1) #행의 평균을 계산"
   ]
  },
  {
   "cell_type": "code",
   "execution_count": 246,
   "metadata": {
    "collapsed": false
   },
   "outputs": [
    {
     "data": {
      "text/plain": [
       "2013-01-01   NaN\n",
       "2013-01-02   NaN\n",
       "2013-01-03     1\n",
       "2013-01-04     3\n",
       "2013-01-05     5\n",
       "2013-01-06   NaN\n",
       "Freq: D, dtype: float64"
      ]
     },
     "execution_count": 246,
     "metadata": {},
     "output_type": "execute_result"
    }
   ],
   "source": [
    "#shift : 입력된 값만큼 값들을 이동시키고 빈 공간은 NAN으로 채움\n",
    "s = pd.Series([1,3,5,np.nan,6,8], index=dates).shift(2)\n",
    "s"
   ]
  },
  {
   "cell_type": "code",
   "execution_count": 247,
   "metadata": {
    "collapsed": false
   },
   "outputs": [
    {
     "data": {
      "text/plain": [
       "2013-01-01   NaN\n",
       "2013-01-02     1\n",
       "2013-01-03     3\n",
       "2013-01-04     5\n",
       "2013-01-05   NaN\n",
       "2013-01-06     6\n",
       "Freq: D, dtype: float64"
      ]
     },
     "execution_count": 247,
     "metadata": {},
     "output_type": "execute_result"
    }
   ],
   "source": [
    "s = pd.Series([1,3,5,np.nan,6,8], index=dates).shift(1)\n",
    "s"
   ]
  },
  {
   "cell_type": "code",
   "execution_count": 248,
   "metadata": {
    "collapsed": false
   },
   "outputs": [
    {
     "data": {
      "text/html": [
       "<div>\n",
       "<table border=\"1\" class=\"dataframe\">\n",
       "  <thead>\n",
       "    <tr style=\"text-align: right;\">\n",
       "      <th></th>\n",
       "      <th>A</th>\n",
       "      <th>B</th>\n",
       "      <th>C</th>\n",
       "      <th>D</th>\n",
       "      <th>F</th>\n",
       "    </tr>\n",
       "  </thead>\n",
       "  <tbody>\n",
       "    <tr>\n",
       "      <th>2013-01-01</th>\n",
       "      <td>NaN</td>\n",
       "      <td>NaN</td>\n",
       "      <td>NaN</td>\n",
       "      <td>NaN</td>\n",
       "      <td>NaN</td>\n",
       "    </tr>\n",
       "    <tr>\n",
       "      <th>2013-01-02</th>\n",
       "      <td>-0.556947</td>\n",
       "      <td>-1.377379</td>\n",
       "      <td>-0.425947</td>\n",
       "      <td>4</td>\n",
       "      <td>0</td>\n",
       "    </tr>\n",
       "    <tr>\n",
       "      <th>2013-01-03</th>\n",
       "      <td>-3.937114</td>\n",
       "      <td>-4.466381</td>\n",
       "      <td>-2.639514</td>\n",
       "      <td>2</td>\n",
       "      <td>-1</td>\n",
       "    </tr>\n",
       "    <tr>\n",
       "      <th>2013-01-04</th>\n",
       "      <td>-5.327016</td>\n",
       "      <td>-2.809293</td>\n",
       "      <td>-3.969003</td>\n",
       "      <td>0</td>\n",
       "      <td>-2</td>\n",
       "    </tr>\n",
       "    <tr>\n",
       "      <th>2013-01-05</th>\n",
       "      <td>NaN</td>\n",
       "      <td>NaN</td>\n",
       "      <td>NaN</td>\n",
       "      <td>NaN</td>\n",
       "      <td>NaN</td>\n",
       "    </tr>\n",
       "    <tr>\n",
       "      <th>2013-01-06</th>\n",
       "      <td>-6.568484</td>\n",
       "      <td>-5.858767</td>\n",
       "      <td>-5.707647</td>\n",
       "      <td>-1</td>\n",
       "      <td>-1</td>\n",
       "    </tr>\n",
       "  </tbody>\n",
       "</table>\n",
       "</div>"
      ],
      "text/plain": [
       "                   A         B         C   D   F\n",
       "2013-01-01       NaN       NaN       NaN NaN NaN\n",
       "2013-01-02 -0.556947 -1.377379 -0.425947   4   0\n",
       "2013-01-03 -3.937114 -4.466381 -2.639514   2  -1\n",
       "2013-01-04 -5.327016 -2.809293 -3.969003   0  -2\n",
       "2013-01-05       NaN       NaN       NaN NaN NaN\n",
       "2013-01-06 -6.568484 -5.858767 -5.707647  -1  -1"
      ]
     },
     "execution_count": 248,
     "metadata": {},
     "output_type": "execute_result"
    }
   ],
   "source": [
    "#sub : 값 중에 NaN이 있는 행 또는 열을 뺀다.\n",
    "#sub(other, axis='columns', level=None, fill_value=None)\n",
    "#ohter : Series, DataFrame, constant, \n",
    "#axis : {0,1, index’,‘columns’}\n",
    "#level : int or name\n",
    "#fill_value : None or float value, default None\n",
    "df.sub(s, axis='index')"
   ]
  },
  {
   "cell_type": "code",
   "execution_count": 249,
   "metadata": {
    "collapsed": false
   },
   "outputs": [
    {
     "data": {
      "text/html": [
       "<div>\n",
       "<table border=\"1\" class=\"dataframe\">\n",
       "  <thead>\n",
       "    <tr style=\"text-align: right;\">\n",
       "      <th></th>\n",
       "      <th>A</th>\n",
       "      <th>B</th>\n",
       "      <th>C</th>\n",
       "      <th>D</th>\n",
       "      <th>F</th>\n",
       "    </tr>\n",
       "  </thead>\n",
       "  <tbody>\n",
       "    <tr>\n",
       "      <th>2013-01-01</th>\n",
       "      <td>0.000000</td>\n",
       "      <td>0.000000</td>\n",
       "      <td>0.092131</td>\n",
       "      <td>5</td>\n",
       "      <td>NaN</td>\n",
       "    </tr>\n",
       "    <tr>\n",
       "      <th>2013-01-02</th>\n",
       "      <td>0.443053</td>\n",
       "      <td>-0.377379</td>\n",
       "      <td>0.666184</td>\n",
       "      <td>10</td>\n",
       "      <td>1</td>\n",
       "    </tr>\n",
       "    <tr>\n",
       "      <th>2013-01-03</th>\n",
       "      <td>-0.494061</td>\n",
       "      <td>-1.843760</td>\n",
       "      <td>1.026670</td>\n",
       "      <td>15</td>\n",
       "      <td>3</td>\n",
       "    </tr>\n",
       "    <tr>\n",
       "      <th>2013-01-04</th>\n",
       "      <td>-0.821077</td>\n",
       "      <td>0.346947</td>\n",
       "      <td>2.057668</td>\n",
       "      <td>20</td>\n",
       "      <td>6</td>\n",
       "    </tr>\n",
       "    <tr>\n",
       "      <th>2013-01-05</th>\n",
       "      <td>-2.185860</td>\n",
       "      <td>0.991802</td>\n",
       "      <td>1.281829</td>\n",
       "      <td>25</td>\n",
       "      <td>10</td>\n",
       "    </tr>\n",
       "    <tr>\n",
       "      <th>2013-01-06</th>\n",
       "      <td>-2.754344</td>\n",
       "      <td>1.133035</td>\n",
       "      <td>1.574182</td>\n",
       "      <td>30</td>\n",
       "      <td>15</td>\n",
       "    </tr>\n",
       "  </tbody>\n",
       "</table>\n",
       "</div>"
      ],
      "text/plain": [
       "                   A         B         C   D   F\n",
       "2013-01-01  0.000000  0.000000  0.092131   5 NaN\n",
       "2013-01-02  0.443053 -0.377379  0.666184  10   1\n",
       "2013-01-03 -0.494061 -1.843760  1.026670  15   3\n",
       "2013-01-04 -0.821077  0.346947  2.057668  20   6\n",
       "2013-01-05 -2.185860  0.991802  1.281829  25  10\n",
       "2013-01-06 -2.754344  1.133035  1.574182  30  15"
      ]
     },
     "execution_count": 249,
     "metadata": {},
     "output_type": "execute_result"
    }
   ],
   "source": [
    "#apply(func, axis=0, broadcast=False, raw=False, reduce=None, args=())\n",
    "#입력된 함수를 적용\n",
    "df.apply(np.cumsum) #cumsum : 각 열을 기준으로 합을 누적함"
   ]
  },
  {
   "cell_type": "code",
   "execution_count": 250,
   "metadata": {
    "collapsed": false
   },
   "outputs": [
    {
     "data": {
      "text/plain": [
       "A    1.807837\n",
       "B    3.657087\n",
       "C    1.806836\n",
       "D    0.000000\n",
       "F    4.000000\n",
       "dtype: float64"
      ]
     },
     "execution_count": 250,
     "metadata": {},
     "output_type": "execute_result"
    }
   ],
   "source": [
    "df.apply(lambda x: x.max() - x.min()) #각 열의 최댓값에서 최소값을 뺀 값"
   ]
  },
  {
   "cell_type": "code",
   "execution_count": 251,
   "metadata": {
    "collapsed": true
   },
   "outputs": [],
   "source": [
    "s = pd.Series(np.random.randint(0, 7, size=10)) #10개의 0~7사이에 값을 가지는 Series를 생성"
   ]
  },
  {
   "cell_type": "code",
   "execution_count": 252,
   "metadata": {
    "collapsed": false
   },
   "outputs": [
    {
     "data": {
      "text/plain": [
       "0    5\n",
       "1    1\n",
       "2    5\n",
       "3    6\n",
       "4    4\n",
       "5    5\n",
       "6    5\n",
       "7    0\n",
       "8    3\n",
       "9    2\n",
       "dtype: int32"
      ]
     },
     "execution_count": 252,
     "metadata": {},
     "output_type": "execute_result"
    }
   ],
   "source": [
    "s"
   ]
  },
  {
   "cell_type": "code",
   "execution_count": 253,
   "metadata": {
    "collapsed": false
   },
   "outputs": [
    {
     "data": {
      "text/plain": [
       "5    4\n",
       "6    1\n",
       "4    1\n",
       "3    1\n",
       "2    1\n",
       "1    1\n",
       "0    1\n",
       "dtype: int64"
      ]
     },
     "execution_count": 253,
     "metadata": {},
     "output_type": "execute_result"
    }
   ],
   "source": [
    "s.value_counts() #각 값이 몇개씩 있는지 출력"
   ]
  },
  {
   "cell_type": "code",
   "execution_count": 254,
   "metadata": {
    "collapsed": true
   },
   "outputs": [],
   "source": [
    "s = pd.Series(['A', 'B', 'C', 'Aaba', 'Baca', np.nan, 'CABA', 'dog', 'cat'])"
   ]
  },
  {
   "cell_type": "code",
   "execution_count": 255,
   "metadata": {
    "collapsed": false
   },
   "outputs": [
    {
     "data": {
      "text/plain": [
       "0       a\n",
       "1       b\n",
       "2       c\n",
       "3    aaba\n",
       "4    baca\n",
       "5     NaN\n",
       "6    caba\n",
       "7     dog\n",
       "8     cat\n",
       "dtype: object"
      ]
     },
     "execution_count": 255,
     "metadata": {},
     "output_type": "execute_result"
    }
   ],
   "source": [
    "s.str.lower() #전부 소문자로 변환"
   ]
  },
  {
   "cell_type": "code",
   "execution_count": 256,
   "metadata": {
    "collapsed": false
   },
   "outputs": [
    {
     "data": {
      "text/html": [
       "<div>\n",
       "<table border=\"1\" class=\"dataframe\">\n",
       "  <thead>\n",
       "    <tr style=\"text-align: right;\">\n",
       "      <th></th>\n",
       "      <th>0</th>\n",
       "      <th>1</th>\n",
       "      <th>2</th>\n",
       "      <th>3</th>\n",
       "    </tr>\n",
       "  </thead>\n",
       "  <tbody>\n",
       "    <tr>\n",
       "      <th>0</th>\n",
       "      <td>-1.642914</td>\n",
       "      <td>-0.208356</td>\n",
       "      <td>1.418530</td>\n",
       "      <td>-0.440036</td>\n",
       "    </tr>\n",
       "    <tr>\n",
       "      <th>1</th>\n",
       "      <td>-0.865972</td>\n",
       "      <td>-0.722123</td>\n",
       "      <td>-0.037375</td>\n",
       "      <td>0.811196</td>\n",
       "    </tr>\n",
       "    <tr>\n",
       "      <th>2</th>\n",
       "      <td>0.648341</td>\n",
       "      <td>-1.518522</td>\n",
       "      <td>-0.255443</td>\n",
       "      <td>1.399477</td>\n",
       "    </tr>\n",
       "    <tr>\n",
       "      <th>3</th>\n",
       "      <td>0.900985</td>\n",
       "      <td>-1.139484</td>\n",
       "      <td>-0.502062</td>\n",
       "      <td>-0.174960</td>\n",
       "    </tr>\n",
       "    <tr>\n",
       "      <th>4</th>\n",
       "      <td>-1.325474</td>\n",
       "      <td>-0.222648</td>\n",
       "      <td>0.836373</td>\n",
       "      <td>-1.054295</td>\n",
       "    </tr>\n",
       "    <tr>\n",
       "      <th>5</th>\n",
       "      <td>1.627675</td>\n",
       "      <td>-1.172957</td>\n",
       "      <td>0.103794</td>\n",
       "      <td>1.961355</td>\n",
       "    </tr>\n",
       "    <tr>\n",
       "      <th>6</th>\n",
       "      <td>-1.024244</td>\n",
       "      <td>0.004232</td>\n",
       "      <td>1.297948</td>\n",
       "      <td>0.155768</td>\n",
       "    </tr>\n",
       "    <tr>\n",
       "      <th>7</th>\n",
       "      <td>0.409316</td>\n",
       "      <td>-1.099715</td>\n",
       "      <td>-0.614608</td>\n",
       "      <td>1.293076</td>\n",
       "    </tr>\n",
       "    <tr>\n",
       "      <th>8</th>\n",
       "      <td>0.928723</td>\n",
       "      <td>0.436442</td>\n",
       "      <td>-2.436334</td>\n",
       "      <td>0.956484</td>\n",
       "    </tr>\n",
       "    <tr>\n",
       "      <th>9</th>\n",
       "      <td>0.658368</td>\n",
       "      <td>0.873911</td>\n",
       "      <td>-0.905478</td>\n",
       "      <td>0.575809</td>\n",
       "    </tr>\n",
       "  </tbody>\n",
       "</table>\n",
       "</div>"
      ],
      "text/plain": [
       "          0         1         2         3\n",
       "0 -1.642914 -0.208356  1.418530 -0.440036\n",
       "1 -0.865972 -0.722123 -0.037375  0.811196\n",
       "2  0.648341 -1.518522 -0.255443  1.399477\n",
       "3  0.900985 -1.139484 -0.502062 -0.174960\n",
       "4 -1.325474 -0.222648  0.836373 -1.054295\n",
       "5  1.627675 -1.172957  0.103794  1.961355\n",
       "6 -1.024244  0.004232  1.297948  0.155768\n",
       "7  0.409316 -1.099715 -0.614608  1.293076\n",
       "8  0.928723  0.436442 -2.436334  0.956484\n",
       "9  0.658368  0.873911 -0.905478  0.575809"
      ]
     },
     "execution_count": 256,
     "metadata": {},
     "output_type": "execute_result"
    }
   ],
   "source": [
    "df = pd.DataFrame(np.random.randn(10, 4)) #10x4 DataFrame 생성\n",
    "df"
   ]
  },
  {
   "cell_type": "code",
   "execution_count": 257,
   "metadata": {
    "collapsed": false
   },
   "outputs": [],
   "source": [
    "pieces = [df[:3], df[3:7], df[7:]] "
   ]
  },
  {
   "cell_type": "code",
   "execution_count": 258,
   "metadata": {
    "collapsed": false
   },
   "outputs": [
    {
     "data": {
      "text/plain": [
       "[          0         1         2         3\n",
       " 0 -1.642914 -0.208356  1.418530 -0.440036\n",
       " 1 -0.865972 -0.722123 -0.037375  0.811196\n",
       " 2  0.648341 -1.518522 -0.255443  1.399477,\n",
       "           0         1         2         3\n",
       " 3  0.900985 -1.139484 -0.502062 -0.174960\n",
       " 4 -1.325474 -0.222648  0.836373 -1.054295\n",
       " 5  1.627675 -1.172957  0.103794  1.961355\n",
       " 6 -1.024244  0.004232  1.297948  0.155768,\n",
       "           0         1         2         3\n",
       " 7  0.409316 -1.099715 -0.614608  1.293076\n",
       " 8  0.928723  0.436442 -2.436334  0.956484\n",
       " 9  0.658368  0.873911 -0.905478  0.575809]"
      ]
     },
     "execution_count": 258,
     "metadata": {},
     "output_type": "execute_result"
    }
   ],
   "source": [
    "pieces"
   ]
  },
  {
   "cell_type": "code",
   "execution_count": 259,
   "metadata": {
    "collapsed": false
   },
   "outputs": [
    {
     "data": {
      "text/html": [
       "<div>\n",
       "<table border=\"1\" class=\"dataframe\">\n",
       "  <thead>\n",
       "    <tr style=\"text-align: right;\">\n",
       "      <th></th>\n",
       "      <th>0</th>\n",
       "      <th>1</th>\n",
       "      <th>2</th>\n",
       "      <th>3</th>\n",
       "    </tr>\n",
       "  </thead>\n",
       "  <tbody>\n",
       "    <tr>\n",
       "      <th>0</th>\n",
       "      <td>-1.642914</td>\n",
       "      <td>-0.208356</td>\n",
       "      <td>1.418530</td>\n",
       "      <td>-0.440036</td>\n",
       "    </tr>\n",
       "    <tr>\n",
       "      <th>1</th>\n",
       "      <td>-0.865972</td>\n",
       "      <td>-0.722123</td>\n",
       "      <td>-0.037375</td>\n",
       "      <td>0.811196</td>\n",
       "    </tr>\n",
       "    <tr>\n",
       "      <th>2</th>\n",
       "      <td>0.648341</td>\n",
       "      <td>-1.518522</td>\n",
       "      <td>-0.255443</td>\n",
       "      <td>1.399477</td>\n",
       "    </tr>\n",
       "    <tr>\n",
       "      <th>3</th>\n",
       "      <td>0.900985</td>\n",
       "      <td>-1.139484</td>\n",
       "      <td>-0.502062</td>\n",
       "      <td>-0.174960</td>\n",
       "    </tr>\n",
       "    <tr>\n",
       "      <th>4</th>\n",
       "      <td>-1.325474</td>\n",
       "      <td>-0.222648</td>\n",
       "      <td>0.836373</td>\n",
       "      <td>-1.054295</td>\n",
       "    </tr>\n",
       "    <tr>\n",
       "      <th>5</th>\n",
       "      <td>1.627675</td>\n",
       "      <td>-1.172957</td>\n",
       "      <td>0.103794</td>\n",
       "      <td>1.961355</td>\n",
       "    </tr>\n",
       "    <tr>\n",
       "      <th>6</th>\n",
       "      <td>-1.024244</td>\n",
       "      <td>0.004232</td>\n",
       "      <td>1.297948</td>\n",
       "      <td>0.155768</td>\n",
       "    </tr>\n",
       "    <tr>\n",
       "      <th>7</th>\n",
       "      <td>0.409316</td>\n",
       "      <td>-1.099715</td>\n",
       "      <td>-0.614608</td>\n",
       "      <td>1.293076</td>\n",
       "    </tr>\n",
       "    <tr>\n",
       "      <th>8</th>\n",
       "      <td>0.928723</td>\n",
       "      <td>0.436442</td>\n",
       "      <td>-2.436334</td>\n",
       "      <td>0.956484</td>\n",
       "    </tr>\n",
       "    <tr>\n",
       "      <th>9</th>\n",
       "      <td>0.658368</td>\n",
       "      <td>0.873911</td>\n",
       "      <td>-0.905478</td>\n",
       "      <td>0.575809</td>\n",
       "    </tr>\n",
       "  </tbody>\n",
       "</table>\n",
       "</div>"
      ],
      "text/plain": [
       "          0         1         2         3\n",
       "0 -1.642914 -0.208356  1.418530 -0.440036\n",
       "1 -0.865972 -0.722123 -0.037375  0.811196\n",
       "2  0.648341 -1.518522 -0.255443  1.399477\n",
       "3  0.900985 -1.139484 -0.502062 -0.174960\n",
       "4 -1.325474 -0.222648  0.836373 -1.054295\n",
       "5  1.627675 -1.172957  0.103794  1.961355\n",
       "6 -1.024244  0.004232  1.297948  0.155768\n",
       "7  0.409316 -1.099715 -0.614608  1.293076\n",
       "8  0.928723  0.436442 -2.436334  0.956484\n",
       "9  0.658368  0.873911 -0.905478  0.575809"
      ]
     },
     "execution_count": 259,
     "metadata": {},
     "output_type": "execute_result"
    }
   ],
   "source": [
    "pd.concat(pieces) #3개로 나뉜 pieces를 하나로 이어줌"
   ]
  },
  {
   "cell_type": "code",
   "execution_count": 260,
   "metadata": {
    "collapsed": true
   },
   "outputs": [],
   "source": [
    "left = pd.DataFrame({'key': ['foo', 'fou'], 'lval': [1, 2]})\n",
    "right = pd.DataFrame({'key': ['foo', 'foo'], 'rval': [4, 5]})"
   ]
  },
  {
   "cell_type": "code",
   "execution_count": 261,
   "metadata": {
    "collapsed": false
   },
   "outputs": [
    {
     "data": {
      "text/html": [
       "<div>\n",
       "<table border=\"1\" class=\"dataframe\">\n",
       "  <thead>\n",
       "    <tr style=\"text-align: right;\">\n",
       "      <th></th>\n",
       "      <th>key</th>\n",
       "      <th>lval</th>\n",
       "    </tr>\n",
       "  </thead>\n",
       "  <tbody>\n",
       "    <tr>\n",
       "      <th>0</th>\n",
       "      <td>foo</td>\n",
       "      <td>1</td>\n",
       "    </tr>\n",
       "    <tr>\n",
       "      <th>1</th>\n",
       "      <td>fou</td>\n",
       "      <td>2</td>\n",
       "    </tr>\n",
       "  </tbody>\n",
       "</table>\n",
       "</div>"
      ],
      "text/plain": [
       "   key  lval\n",
       "0  foo     1\n",
       "1  fou     2"
      ]
     },
     "execution_count": 261,
     "metadata": {},
     "output_type": "execute_result"
    }
   ],
   "source": [
    "left"
   ]
  },
  {
   "cell_type": "code",
   "execution_count": 262,
   "metadata": {
    "collapsed": false
   },
   "outputs": [
    {
     "data": {
      "text/html": [
       "<div>\n",
       "<table border=\"1\" class=\"dataframe\">\n",
       "  <thead>\n",
       "    <tr style=\"text-align: right;\">\n",
       "      <th></th>\n",
       "      <th>key</th>\n",
       "      <th>rval</th>\n",
       "    </tr>\n",
       "  </thead>\n",
       "  <tbody>\n",
       "    <tr>\n",
       "      <th>0</th>\n",
       "      <td>foo</td>\n",
       "      <td>4</td>\n",
       "    </tr>\n",
       "    <tr>\n",
       "      <th>1</th>\n",
       "      <td>foo</td>\n",
       "      <td>5</td>\n",
       "    </tr>\n",
       "  </tbody>\n",
       "</table>\n",
       "</div>"
      ],
      "text/plain": [
       "   key  rval\n",
       "0  foo     4\n",
       "1  foo     5"
      ]
     },
     "execution_count": 262,
     "metadata": {},
     "output_type": "execute_result"
    }
   ],
   "source": [
    "right"
   ]
  },
  {
   "cell_type": "code",
   "execution_count": 263,
   "metadata": {
    "collapsed": false
   },
   "outputs": [
    {
     "data": {
      "text/html": [
       "<div>\n",
       "<table border=\"1\" class=\"dataframe\">\n",
       "  <thead>\n",
       "    <tr style=\"text-align: right;\">\n",
       "      <th></th>\n",
       "      <th>key</th>\n",
       "      <th>lval</th>\n",
       "      <th>rval</th>\n",
       "    </tr>\n",
       "  </thead>\n",
       "  <tbody>\n",
       "    <tr>\n",
       "      <th>0</th>\n",
       "      <td>foo</td>\n",
       "      <td>1</td>\n",
       "      <td>4</td>\n",
       "    </tr>\n",
       "    <tr>\n",
       "      <th>1</th>\n",
       "      <td>foo</td>\n",
       "      <td>1</td>\n",
       "      <td>5</td>\n",
       "    </tr>\n",
       "  </tbody>\n",
       "</table>\n",
       "</div>"
      ],
      "text/plain": [
       "   key  lval  rval\n",
       "0  foo     1     4\n",
       "1  foo     1     5"
      ]
     },
     "execution_count": 263,
     "metadata": {},
     "output_type": "execute_result"
    }
   ],
   "source": [
    "#merge : 두 개의 DataFrame을 같은 key를 가지는 값들을 병합\n",
    "pd.merge(left, right, on='key') #key를 기준으로 모든 경우 생성"
   ]
  },
  {
   "cell_type": "code",
   "execution_count": 264,
   "metadata": {
    "collapsed": false
   },
   "outputs": [
    {
     "data": {
      "text/html": [
       "<div>\n",
       "<table border=\"1\" class=\"dataframe\">\n",
       "  <thead>\n",
       "    <tr style=\"text-align: right;\">\n",
       "      <th></th>\n",
       "      <th>key</th>\n",
       "      <th>lval</th>\n",
       "      <th>rval</th>\n",
       "    </tr>\n",
       "  </thead>\n",
       "  <tbody>\n",
       "    <tr>\n",
       "      <th>0</th>\n",
       "      <td>foo</td>\n",
       "      <td>1</td>\n",
       "      <td>4</td>\n",
       "    </tr>\n",
       "    <tr>\n",
       "      <th>1</th>\n",
       "      <td>foo</td>\n",
       "      <td>1</td>\n",
       "      <td>5</td>\n",
       "    </tr>\n",
       "  </tbody>\n",
       "</table>\n",
       "</div>"
      ],
      "text/plain": [
       "   key  lval  rval\n",
       "0  foo     1     4\n",
       "1  foo     1     5"
      ]
     },
     "execution_count": 264,
     "metadata": {},
     "output_type": "execute_result"
    }
   ],
   "source": [
    "pd.merge(left, right)"
   ]
  },
  {
   "cell_type": "code",
   "execution_count": 269,
   "metadata": {
    "collapsed": false
   },
   "outputs": [
    {
     "data": {
      "text/html": [
       "<div>\n",
       "<table border=\"1\" class=\"dataframe\">\n",
       "  <thead>\n",
       "    <tr style=\"text-align: right;\">\n",
       "      <th></th>\n",
       "      <th>A</th>\n",
       "      <th>B</th>\n",
       "      <th>C</th>\n",
       "      <th>D</th>\n",
       "    </tr>\n",
       "  </thead>\n",
       "  <tbody>\n",
       "    <tr>\n",
       "      <th>0</th>\n",
       "      <td>-0.578027</td>\n",
       "      <td>0.758786</td>\n",
       "      <td>-1.990019</td>\n",
       "      <td>1.527017</td>\n",
       "    </tr>\n",
       "    <tr>\n",
       "      <th>1</th>\n",
       "      <td>1.278350</td>\n",
       "      <td>-0.750487</td>\n",
       "      <td>-0.486999</td>\n",
       "      <td>1.124863</td>\n",
       "    </tr>\n",
       "    <tr>\n",
       "      <th>2</th>\n",
       "      <td>-0.189625</td>\n",
       "      <td>0.114180</td>\n",
       "      <td>-0.617367</td>\n",
       "      <td>0.625983</td>\n",
       "    </tr>\n",
       "    <tr>\n",
       "      <th>3</th>\n",
       "      <td>0.607378</td>\n",
       "      <td>-1.124722</td>\n",
       "      <td>0.358640</td>\n",
       "      <td>2.448029</td>\n",
       "    </tr>\n",
       "    <tr>\n",
       "      <th>4</th>\n",
       "      <td>0.022225</td>\n",
       "      <td>-0.055501</td>\n",
       "      <td>0.006948</td>\n",
       "      <td>0.564501</td>\n",
       "    </tr>\n",
       "    <tr>\n",
       "      <th>5</th>\n",
       "      <td>0.589539</td>\n",
       "      <td>-0.420650</td>\n",
       "      <td>0.148842</td>\n",
       "      <td>0.836122</td>\n",
       "    </tr>\n",
       "    <tr>\n",
       "      <th>6</th>\n",
       "      <td>1.827379</td>\n",
       "      <td>-1.995342</td>\n",
       "      <td>-0.945762</td>\n",
       "      <td>0.247441</td>\n",
       "    </tr>\n",
       "    <tr>\n",
       "      <th>7</th>\n",
       "      <td>0.798419</td>\n",
       "      <td>0.432710</td>\n",
       "      <td>0.751716</td>\n",
       "      <td>0.370464</td>\n",
       "    </tr>\n",
       "  </tbody>\n",
       "</table>\n",
       "</div>"
      ],
      "text/plain": [
       "          A         B         C         D\n",
       "0 -0.578027  0.758786 -1.990019  1.527017\n",
       "1  1.278350 -0.750487 -0.486999  1.124863\n",
       "2 -0.189625  0.114180 -0.617367  0.625983\n",
       "3  0.607378 -1.124722  0.358640  2.448029\n",
       "4  0.022225 -0.055501  0.006948  0.564501\n",
       "5  0.589539 -0.420650  0.148842  0.836122\n",
       "6  1.827379 -1.995342 -0.945762  0.247441\n",
       "7  0.798419  0.432710  0.751716  0.370464"
      ]
     },
     "execution_count": 269,
     "metadata": {},
     "output_type": "execute_result"
    }
   ],
   "source": [
    "df = pd.DataFrame(np.random.randn(8, 4), columns=['A','B','C','D'])\n",
    "df"
   ]
  },
  {
   "cell_type": "code",
   "execution_count": 273,
   "metadata": {
    "collapsed": true
   },
   "outputs": [],
   "source": [
    "s = df.iloc[3] #df에서 4행을 추출하여 s로 만듬"
   ]
  },
  {
   "cell_type": "code",
   "execution_count": 277,
   "metadata": {
    "collapsed": false
   },
   "outputs": [
    {
     "data": {
      "text/html": [
       "<div>\n",
       "<table border=\"1\" class=\"dataframe\">\n",
       "  <thead>\n",
       "    <tr style=\"text-align: right;\">\n",
       "      <th></th>\n",
       "      <th>A</th>\n",
       "      <th>B</th>\n",
       "      <th>C</th>\n",
       "      <th>D</th>\n",
       "    </tr>\n",
       "  </thead>\n",
       "  <tbody>\n",
       "    <tr>\n",
       "      <th>0</th>\n",
       "      <td>-0.578027</td>\n",
       "      <td>0.758786</td>\n",
       "      <td>-1.990019</td>\n",
       "      <td>1.527017</td>\n",
       "    </tr>\n",
       "    <tr>\n",
       "      <th>1</th>\n",
       "      <td>1.278350</td>\n",
       "      <td>-0.750487</td>\n",
       "      <td>-0.486999</td>\n",
       "      <td>1.124863</td>\n",
       "    </tr>\n",
       "    <tr>\n",
       "      <th>2</th>\n",
       "      <td>-0.189625</td>\n",
       "      <td>0.114180</td>\n",
       "      <td>-0.617367</td>\n",
       "      <td>0.625983</td>\n",
       "    </tr>\n",
       "    <tr>\n",
       "      <th>3</th>\n",
       "      <td>0.607378</td>\n",
       "      <td>-1.124722</td>\n",
       "      <td>0.358640</td>\n",
       "      <td>2.448029</td>\n",
       "    </tr>\n",
       "    <tr>\n",
       "      <th>4</th>\n",
       "      <td>0.022225</td>\n",
       "      <td>-0.055501</td>\n",
       "      <td>0.006948</td>\n",
       "      <td>0.564501</td>\n",
       "    </tr>\n",
       "    <tr>\n",
       "      <th>5</th>\n",
       "      <td>0.589539</td>\n",
       "      <td>-0.420650</td>\n",
       "      <td>0.148842</td>\n",
       "      <td>0.836122</td>\n",
       "    </tr>\n",
       "    <tr>\n",
       "      <th>6</th>\n",
       "      <td>1.827379</td>\n",
       "      <td>-1.995342</td>\n",
       "      <td>-0.945762</td>\n",
       "      <td>0.247441</td>\n",
       "    </tr>\n",
       "    <tr>\n",
       "      <th>7</th>\n",
       "      <td>0.798419</td>\n",
       "      <td>0.432710</td>\n",
       "      <td>0.751716</td>\n",
       "      <td>0.370464</td>\n",
       "    </tr>\n",
       "    <tr>\n",
       "      <th>3</th>\n",
       "      <td>0.607378</td>\n",
       "      <td>-1.124722</td>\n",
       "      <td>0.358640</td>\n",
       "      <td>2.448029</td>\n",
       "    </tr>\n",
       "  </tbody>\n",
       "</table>\n",
       "</div>"
      ],
      "text/plain": [
       "          A         B         C         D\n",
       "0 -0.578027  0.758786 -1.990019  1.527017\n",
       "1  1.278350 -0.750487 -0.486999  1.124863\n",
       "2 -0.189625  0.114180 -0.617367  0.625983\n",
       "3  0.607378 -1.124722  0.358640  2.448029\n",
       "4  0.022225 -0.055501  0.006948  0.564501\n",
       "5  0.589539 -0.420650  0.148842  0.836122\n",
       "6  1.827379 -1.995342 -0.945762  0.247441\n",
       "7  0.798419  0.432710  0.751716  0.370464\n",
       "3  0.607378 -1.124722  0.358640  2.448029"
      ]
     },
     "execution_count": 277,
     "metadata": {},
     "output_type": "execute_result"
    }
   ],
   "source": [
    "#append Data를 이어 붙임\n",
    "df.append(s, ignore_index=False) #ignore_index가 false이면 인덱스가 중복되던지 아닌지 신경안씀"
   ]
  },
  {
   "cell_type": "code",
   "execution_count": 279,
   "metadata": {
    "collapsed": false
   },
   "outputs": [
    {
     "data": {
      "text/html": [
       "<div>\n",
       "<table border=\"1\" class=\"dataframe\">\n",
       "  <thead>\n",
       "    <tr style=\"text-align: right;\">\n",
       "      <th></th>\n",
       "      <th>A</th>\n",
       "      <th>B</th>\n",
       "      <th>C</th>\n",
       "      <th>D</th>\n",
       "    </tr>\n",
       "  </thead>\n",
       "  <tbody>\n",
       "    <tr>\n",
       "      <th>0</th>\n",
       "      <td>-0.578027</td>\n",
       "      <td>0.758786</td>\n",
       "      <td>-1.990019</td>\n",
       "      <td>1.527017</td>\n",
       "    </tr>\n",
       "    <tr>\n",
       "      <th>1</th>\n",
       "      <td>1.278350</td>\n",
       "      <td>-0.750487</td>\n",
       "      <td>-0.486999</td>\n",
       "      <td>1.124863</td>\n",
       "    </tr>\n",
       "    <tr>\n",
       "      <th>2</th>\n",
       "      <td>-0.189625</td>\n",
       "      <td>0.114180</td>\n",
       "      <td>-0.617367</td>\n",
       "      <td>0.625983</td>\n",
       "    </tr>\n",
       "    <tr>\n",
       "      <th>3</th>\n",
       "      <td>0.607378</td>\n",
       "      <td>-1.124722</td>\n",
       "      <td>0.358640</td>\n",
       "      <td>2.448029</td>\n",
       "    </tr>\n",
       "    <tr>\n",
       "      <th>4</th>\n",
       "      <td>0.022225</td>\n",
       "      <td>-0.055501</td>\n",
       "      <td>0.006948</td>\n",
       "      <td>0.564501</td>\n",
       "    </tr>\n",
       "    <tr>\n",
       "      <th>5</th>\n",
       "      <td>0.589539</td>\n",
       "      <td>-0.420650</td>\n",
       "      <td>0.148842</td>\n",
       "      <td>0.836122</td>\n",
       "    </tr>\n",
       "    <tr>\n",
       "      <th>6</th>\n",
       "      <td>1.827379</td>\n",
       "      <td>-1.995342</td>\n",
       "      <td>-0.945762</td>\n",
       "      <td>0.247441</td>\n",
       "    </tr>\n",
       "    <tr>\n",
       "      <th>7</th>\n",
       "      <td>0.798419</td>\n",
       "      <td>0.432710</td>\n",
       "      <td>0.751716</td>\n",
       "      <td>0.370464</td>\n",
       "    </tr>\n",
       "    <tr>\n",
       "      <th>8</th>\n",
       "      <td>0.607378</td>\n",
       "      <td>-1.124722</td>\n",
       "      <td>0.358640</td>\n",
       "      <td>2.448029</td>\n",
       "    </tr>\n",
       "  </tbody>\n",
       "</table>\n",
       "</div>"
      ],
      "text/plain": [
       "          A         B         C         D\n",
       "0 -0.578027  0.758786 -1.990019  1.527017\n",
       "1  1.278350 -0.750487 -0.486999  1.124863\n",
       "2 -0.189625  0.114180 -0.617367  0.625983\n",
       "3  0.607378 -1.124722  0.358640  2.448029\n",
       "4  0.022225 -0.055501  0.006948  0.564501\n",
       "5  0.589539 -0.420650  0.148842  0.836122\n",
       "6  1.827379 -1.995342 -0.945762  0.247441\n",
       "7  0.798419  0.432710  0.751716  0.370464\n",
       "8  0.607378 -1.124722  0.358640  2.448029"
      ]
     },
     "execution_count": 279,
     "metadata": {},
     "output_type": "execute_result"
    }
   ],
   "source": [
    "df.append(s, ignore_index=True) #ignore_index가 True이면 인덱스가 중복되지 않도록 이후 인덱스를 붙여준다."
   ]
  },
  {
   "cell_type": "code",
   "execution_count": 280,
   "metadata": {
    "collapsed": false
   },
   "outputs": [
    {
     "data": {
      "text/html": [
       "<div>\n",
       "<table border=\"1\" class=\"dataframe\">\n",
       "  <thead>\n",
       "    <tr style=\"text-align: right;\">\n",
       "      <th></th>\n",
       "      <th>A</th>\n",
       "      <th>B</th>\n",
       "      <th>C</th>\n",
       "      <th>D</th>\n",
       "    </tr>\n",
       "  </thead>\n",
       "  <tbody>\n",
       "    <tr>\n",
       "      <th>0</th>\n",
       "      <td>foo</td>\n",
       "      <td>one</td>\n",
       "      <td>-0.301028</td>\n",
       "      <td>-0.994413</td>\n",
       "    </tr>\n",
       "    <tr>\n",
       "      <th>1</th>\n",
       "      <td>bar</td>\n",
       "      <td>one</td>\n",
       "      <td>0.205700</td>\n",
       "      <td>0.468257</td>\n",
       "    </tr>\n",
       "    <tr>\n",
       "      <th>2</th>\n",
       "      <td>foo</td>\n",
       "      <td>two</td>\n",
       "      <td>0.067261</td>\n",
       "      <td>0.367087</td>\n",
       "    </tr>\n",
       "    <tr>\n",
       "      <th>3</th>\n",
       "      <td>bar</td>\n",
       "      <td>three</td>\n",
       "      <td>0.755138</td>\n",
       "      <td>-0.884342</td>\n",
       "    </tr>\n",
       "    <tr>\n",
       "      <th>4</th>\n",
       "      <td>foo</td>\n",
       "      <td>two</td>\n",
       "      <td>0.364562</td>\n",
       "      <td>-0.404928</td>\n",
       "    </tr>\n",
       "    <tr>\n",
       "      <th>5</th>\n",
       "      <td>bar</td>\n",
       "      <td>two</td>\n",
       "      <td>1.062068</td>\n",
       "      <td>-0.945326</td>\n",
       "    </tr>\n",
       "    <tr>\n",
       "      <th>6</th>\n",
       "      <td>foo</td>\n",
       "      <td>one</td>\n",
       "      <td>-1.170176</td>\n",
       "      <td>-0.077675</td>\n",
       "    </tr>\n",
       "    <tr>\n",
       "      <th>7</th>\n",
       "      <td>foo</td>\n",
       "      <td>three</td>\n",
       "      <td>0.045784</td>\n",
       "      <td>0.057504</td>\n",
       "    </tr>\n",
       "  </tbody>\n",
       "</table>\n",
       "</div>"
      ],
      "text/plain": [
       "     A      B         C         D\n",
       "0  foo    one -0.301028 -0.994413\n",
       "1  bar    one  0.205700  0.468257\n",
       "2  foo    two  0.067261  0.367087\n",
       "3  bar  three  0.755138 -0.884342\n",
       "4  foo    two  0.364562 -0.404928\n",
       "5  bar    two  1.062068 -0.945326\n",
       "6  foo    one -1.170176 -0.077675\n",
       "7  foo  three  0.045784  0.057504"
      ]
     },
     "execution_count": 280,
     "metadata": {},
     "output_type": "execute_result"
    }
   ],
   "source": [
    "df = pd.DataFrame({'A' : ['foo', 'bar', 'foo', 'bar',\n",
    "                          'foo', 'bar', 'foo', 'foo'],\n",
    "                    'B' : ['one', 'one', 'two', 'three',\n",
    "                            'two', 'two', 'one', 'three'],\n",
    "                    'C' : np.random.randn(8),\n",
    "                    'D' : np.random.randn(8)})\n",
    "df"
   ]
  },
  {
   "cell_type": "code",
   "execution_count": 281,
   "metadata": {
    "collapsed": false
   },
   "outputs": [
    {
     "data": {
      "text/html": [
       "<div>\n",
       "<table border=\"1\" class=\"dataframe\">\n",
       "  <thead>\n",
       "    <tr style=\"text-align: right;\">\n",
       "      <th></th>\n",
       "      <th>C</th>\n",
       "      <th>D</th>\n",
       "    </tr>\n",
       "    <tr>\n",
       "      <th>A</th>\n",
       "      <th></th>\n",
       "      <th></th>\n",
       "    </tr>\n",
       "  </thead>\n",
       "  <tbody>\n",
       "    <tr>\n",
       "      <th>bar</th>\n",
       "      <td>2.022906</td>\n",
       "      <td>-1.361411</td>\n",
       "    </tr>\n",
       "    <tr>\n",
       "      <th>foo</th>\n",
       "      <td>-0.993598</td>\n",
       "      <td>-1.052424</td>\n",
       "    </tr>\n",
       "  </tbody>\n",
       "</table>\n",
       "</div>"
      ],
      "text/plain": [
       "            C         D\n",
       "A                      \n",
       "bar  2.022906 -1.361411\n",
       "foo -0.993598 -1.052424"
      ]
     },
     "execution_count": 281,
     "metadata": {},
     "output_type": "execute_result"
    }
   ],
   "source": [
    "df.groupby('A').sum() #A열 값이 같은 값들의 합을 계산"
   ]
  },
  {
   "cell_type": "code",
   "execution_count": 282,
   "metadata": {
    "collapsed": false
   },
   "outputs": [
    {
     "data": {
      "text/html": [
       "<div>\n",
       "<table border=\"1\" class=\"dataframe\">\n",
       "  <thead>\n",
       "    <tr style=\"text-align: right;\">\n",
       "      <th></th>\n",
       "      <th></th>\n",
       "      <th>C</th>\n",
       "      <th>D</th>\n",
       "    </tr>\n",
       "    <tr>\n",
       "      <th>A</th>\n",
       "      <th>B</th>\n",
       "      <th></th>\n",
       "      <th></th>\n",
       "    </tr>\n",
       "  </thead>\n",
       "  <tbody>\n",
       "    <tr>\n",
       "      <th rowspan=\"3\" valign=\"top\">bar</th>\n",
       "      <th>one</th>\n",
       "      <td>0.205700</td>\n",
       "      <td>0.468257</td>\n",
       "    </tr>\n",
       "    <tr>\n",
       "      <th>three</th>\n",
       "      <td>0.755138</td>\n",
       "      <td>-0.884342</td>\n",
       "    </tr>\n",
       "    <tr>\n",
       "      <th>two</th>\n",
       "      <td>1.062068</td>\n",
       "      <td>-0.945326</td>\n",
       "    </tr>\n",
       "    <tr>\n",
       "      <th rowspan=\"3\" valign=\"top\">foo</th>\n",
       "      <th>one</th>\n",
       "      <td>-1.471204</td>\n",
       "      <td>-1.072087</td>\n",
       "    </tr>\n",
       "    <tr>\n",
       "      <th>three</th>\n",
       "      <td>0.045784</td>\n",
       "      <td>0.057504</td>\n",
       "    </tr>\n",
       "    <tr>\n",
       "      <th>two</th>\n",
       "      <td>0.431823</td>\n",
       "      <td>-0.037841</td>\n",
       "    </tr>\n",
       "  </tbody>\n",
       "</table>\n",
       "</div>"
      ],
      "text/plain": [
       "                  C         D\n",
       "A   B                        \n",
       "bar one    0.205700  0.468257\n",
       "    three  0.755138 -0.884342\n",
       "    two    1.062068 -0.945326\n",
       "foo one   -1.471204 -1.072087\n",
       "    three  0.045784  0.057504\n",
       "    two    0.431823 -0.037841"
      ]
     },
     "execution_count": 282,
     "metadata": {},
     "output_type": "execute_result"
    }
   ],
   "source": [
    "df.groupby(['A','B']).sum() #A와 B열의 값이 같은 값들의 합을 계산"
   ]
  },
  {
   "cell_type": "code",
   "execution_count": 286,
   "metadata": {
    "collapsed": false
   },
   "outputs": [],
   "source": [
    "#리스트를 섞음\n",
    "tuples = list(zip(*[['bar', 'bar', 'baz', 'baz',\n",
    "                      'foo', 'foo', 'qux', 'qux'],\n",
    "                    ['one', 'two', 'one', 'two',\n",
    "                     'one', 'two', 'one', 'two']]))"
   ]
  },
  {
   "cell_type": "code",
   "execution_count": 288,
   "metadata": {
    "collapsed": false
   },
   "outputs": [
    {
     "data": {
      "text/html": [
       "<div>\n",
       "<table border=\"1\" class=\"dataframe\">\n",
       "  <thead>\n",
       "    <tr style=\"text-align: right;\">\n",
       "      <th></th>\n",
       "      <th></th>\n",
       "      <th>A</th>\n",
       "      <th>B</th>\n",
       "    </tr>\n",
       "    <tr>\n",
       "      <th>first</th>\n",
       "      <th>second</th>\n",
       "      <th></th>\n",
       "      <th></th>\n",
       "    </tr>\n",
       "  </thead>\n",
       "  <tbody>\n",
       "    <tr>\n",
       "      <th rowspan=\"2\" valign=\"top\">bar</th>\n",
       "      <th>one</th>\n",
       "      <td>0.524646</td>\n",
       "      <td>0.310810</td>\n",
       "    </tr>\n",
       "    <tr>\n",
       "      <th>two</th>\n",
       "      <td>0.598462</td>\n",
       "      <td>0.282524</td>\n",
       "    </tr>\n",
       "    <tr>\n",
       "      <th rowspan=\"2\" valign=\"top\">baz</th>\n",
       "      <th>one</th>\n",
       "      <td>-0.387977</td>\n",
       "      <td>-0.813862</td>\n",
       "    </tr>\n",
       "    <tr>\n",
       "      <th>two</th>\n",
       "      <td>-1.251758</td>\n",
       "      <td>-0.798272</td>\n",
       "    </tr>\n",
       "  </tbody>\n",
       "</table>\n",
       "</div>"
      ],
      "text/plain": [
       "                     A         B\n",
       "first second                    \n",
       "bar   one     0.524646  0.310810\n",
       "      two     0.598462  0.282524\n",
       "baz   one    -0.387977 -0.813862\n",
       "      two    -1.251758 -0.798272"
      ]
     },
     "execution_count": 288,
     "metadata": {},
     "output_type": "execute_result"
    }
   ],
   "source": [
    "index = pd.MultiIndex.from_tuples(tuples, names=['first', 'second']) #\n",
    "df = pd.DataFrame(np.random.randn(8, 2), index=index, columns=['A', 'B']) #8x2 DataFrame 생성\n",
    "df2 = df[:4]\n",
    "df2"
   ]
  },
  {
   "cell_type": "code",
   "execution_count": 290,
   "metadata": {
    "collapsed": false
   },
   "outputs": [
    {
     "data": {
      "text/plain": [
       "first  second   \n",
       "bar    one     A    0.524646\n",
       "               B    0.310810\n",
       "       two     A    0.598462\n",
       "               B    0.282524\n",
       "baz    one     A   -0.387977\n",
       "               B   -0.813862\n",
       "       two     A   -1.251758\n",
       "               B   -0.798272\n",
       "dtype: float64"
      ]
     },
     "execution_count": 290,
     "metadata": {},
     "output_type": "execute_result"
    }
   ],
   "source": [
    "#stack() 열의 수준을 낮춤\n",
    "stacked = df2.stack()\n",
    "stacked #first, second, A, B의 4개의 열에서 first, second 2개의 열로 줌"
   ]
  },
  {
   "cell_type": "code",
   "execution_count": 291,
   "metadata": {
    "collapsed": false
   },
   "outputs": [
    {
     "data": {
      "text/html": [
       "<div>\n",
       "<table border=\"1\" class=\"dataframe\">\n",
       "  <thead>\n",
       "    <tr style=\"text-align: right;\">\n",
       "      <th></th>\n",
       "      <th></th>\n",
       "      <th>A</th>\n",
       "      <th>B</th>\n",
       "    </tr>\n",
       "    <tr>\n",
       "      <th>first</th>\n",
       "      <th>second</th>\n",
       "      <th></th>\n",
       "      <th></th>\n",
       "    </tr>\n",
       "  </thead>\n",
       "  <tbody>\n",
       "    <tr>\n",
       "      <th rowspan=\"2\" valign=\"top\">bar</th>\n",
       "      <th>one</th>\n",
       "      <td>0.524646</td>\n",
       "      <td>0.310810</td>\n",
       "    </tr>\n",
       "    <tr>\n",
       "      <th>two</th>\n",
       "      <td>0.598462</td>\n",
       "      <td>0.282524</td>\n",
       "    </tr>\n",
       "    <tr>\n",
       "      <th rowspan=\"2\" valign=\"top\">baz</th>\n",
       "      <th>one</th>\n",
       "      <td>-0.387977</td>\n",
       "      <td>-0.813862</td>\n",
       "    </tr>\n",
       "    <tr>\n",
       "      <th>two</th>\n",
       "      <td>-1.251758</td>\n",
       "      <td>-0.798272</td>\n",
       "    </tr>\n",
       "  </tbody>\n",
       "</table>\n",
       "</div>"
      ],
      "text/plain": [
       "                     A         B\n",
       "first second                    \n",
       "bar   one     0.524646  0.310810\n",
       "      two     0.598462  0.282524\n",
       "baz   one    -0.387977 -0.813862\n",
       "      two    -1.251758 -0.798272"
      ]
     },
     "execution_count": 291,
     "metadata": {},
     "output_type": "execute_result"
    }
   ],
   "source": [
    "stacked.unstack() #열의 수준을 다시 되돌림, -1이 생략됨"
   ]
  },
  {
   "cell_type": "code",
   "execution_count": 297,
   "metadata": {
    "collapsed": false
   },
   "outputs": [
    {
     "data": {
      "text/html": [
       "<div>\n",
       "<table border=\"1\" class=\"dataframe\">\n",
       "  <thead>\n",
       "    <tr style=\"text-align: right;\">\n",
       "      <th></th>\n",
       "      <th>second</th>\n",
       "      <th>one</th>\n",
       "      <th>two</th>\n",
       "    </tr>\n",
       "    <tr>\n",
       "      <th>first</th>\n",
       "      <th></th>\n",
       "      <th></th>\n",
       "      <th></th>\n",
       "    </tr>\n",
       "  </thead>\n",
       "  <tbody>\n",
       "    <tr>\n",
       "      <th rowspan=\"2\" valign=\"top\">bar</th>\n",
       "      <th>A</th>\n",
       "      <td>0.524646</td>\n",
       "      <td>0.598462</td>\n",
       "    </tr>\n",
       "    <tr>\n",
       "      <th>B</th>\n",
       "      <td>0.310810</td>\n",
       "      <td>0.282524</td>\n",
       "    </tr>\n",
       "    <tr>\n",
       "      <th rowspan=\"2\" valign=\"top\">baz</th>\n",
       "      <th>A</th>\n",
       "      <td>-0.387977</td>\n",
       "      <td>-1.251758</td>\n",
       "    </tr>\n",
       "    <tr>\n",
       "      <th>B</th>\n",
       "      <td>-0.813862</td>\n",
       "      <td>-0.798272</td>\n",
       "    </tr>\n",
       "  </tbody>\n",
       "</table>\n",
       "</div>"
      ],
      "text/plain": [
       "second        one       two\n",
       "first                      \n",
       "bar   A  0.524646  0.598462\n",
       "      B  0.310810  0.282524\n",
       "baz   A -0.387977 -1.251758\n",
       "      B -0.813862 -0.798272"
      ]
     },
     "execution_count": 297,
     "metadata": {},
     "output_type": "execute_result"
    }
   ],
   "source": [
    "stacked.unstack(1)"
   ]
  },
  {
   "cell_type": "code",
   "execution_count": 298,
   "metadata": {
    "collapsed": false
   },
   "outputs": [
    {
     "data": {
      "text/html": [
       "<div>\n",
       "<table border=\"1\" class=\"dataframe\">\n",
       "  <thead>\n",
       "    <tr style=\"text-align: right;\">\n",
       "      <th></th>\n",
       "      <th>first</th>\n",
       "      <th>bar</th>\n",
       "      <th>baz</th>\n",
       "    </tr>\n",
       "    <tr>\n",
       "      <th>second</th>\n",
       "      <th></th>\n",
       "      <th></th>\n",
       "      <th></th>\n",
       "    </tr>\n",
       "  </thead>\n",
       "  <tbody>\n",
       "    <tr>\n",
       "      <th rowspan=\"2\" valign=\"top\">one</th>\n",
       "      <th>A</th>\n",
       "      <td>0.524646</td>\n",
       "      <td>-0.387977</td>\n",
       "    </tr>\n",
       "    <tr>\n",
       "      <th>B</th>\n",
       "      <td>0.310810</td>\n",
       "      <td>-0.813862</td>\n",
       "    </tr>\n",
       "    <tr>\n",
       "      <th rowspan=\"2\" valign=\"top\">two</th>\n",
       "      <th>A</th>\n",
       "      <td>0.598462</td>\n",
       "      <td>-1.251758</td>\n",
       "    </tr>\n",
       "    <tr>\n",
       "      <th>B</th>\n",
       "      <td>0.282524</td>\n",
       "      <td>-0.798272</td>\n",
       "    </tr>\n",
       "  </tbody>\n",
       "</table>\n",
       "</div>"
      ],
      "text/plain": [
       "first          bar       baz\n",
       "second                      \n",
       "one    A  0.524646 -0.387977\n",
       "       B  0.310810 -0.813862\n",
       "two    A  0.598462 -1.251758\n",
       "       B  0.282524 -0.798272"
      ]
     },
     "execution_count": 298,
     "metadata": {},
     "output_type": "execute_result"
    }
   ],
   "source": [
    "stacked.unstack(0)"
   ]
  },
  {
   "cell_type": "code",
   "execution_count": 299,
   "metadata": {
    "collapsed": false
   },
   "outputs": [
    {
     "data": {
      "text/html": [
       "<div>\n",
       "<table border=\"1\" class=\"dataframe\">\n",
       "  <thead>\n",
       "    <tr style=\"text-align: right;\">\n",
       "      <th></th>\n",
       "      <th>A</th>\n",
       "      <th>B</th>\n",
       "      <th>C</th>\n",
       "      <th>D</th>\n",
       "      <th>E</th>\n",
       "    </tr>\n",
       "  </thead>\n",
       "  <tbody>\n",
       "    <tr>\n",
       "      <th>0</th>\n",
       "      <td>one</td>\n",
       "      <td>A</td>\n",
       "      <td>foo</td>\n",
       "      <td>-0.271614</td>\n",
       "      <td>0.599036</td>\n",
       "    </tr>\n",
       "    <tr>\n",
       "      <th>1</th>\n",
       "      <td>one</td>\n",
       "      <td>B</td>\n",
       "      <td>foo</td>\n",
       "      <td>-1.516375</td>\n",
       "      <td>0.670546</td>\n",
       "    </tr>\n",
       "    <tr>\n",
       "      <th>2</th>\n",
       "      <td>two</td>\n",
       "      <td>C</td>\n",
       "      <td>foo</td>\n",
       "      <td>-0.519275</td>\n",
       "      <td>-0.813023</td>\n",
       "    </tr>\n",
       "    <tr>\n",
       "      <th>3</th>\n",
       "      <td>three</td>\n",
       "      <td>A</td>\n",
       "      <td>bar</td>\n",
       "      <td>-0.479906</td>\n",
       "      <td>0.122251</td>\n",
       "    </tr>\n",
       "    <tr>\n",
       "      <th>4</th>\n",
       "      <td>one</td>\n",
       "      <td>B</td>\n",
       "      <td>bar</td>\n",
       "      <td>1.295928</td>\n",
       "      <td>1.246468</td>\n",
       "    </tr>\n",
       "    <tr>\n",
       "      <th>5</th>\n",
       "      <td>one</td>\n",
       "      <td>C</td>\n",
       "      <td>bar</td>\n",
       "      <td>-1.463996</td>\n",
       "      <td>-0.525006</td>\n",
       "    </tr>\n",
       "    <tr>\n",
       "      <th>6</th>\n",
       "      <td>two</td>\n",
       "      <td>A</td>\n",
       "      <td>foo</td>\n",
       "      <td>-0.224096</td>\n",
       "      <td>1.893988</td>\n",
       "    </tr>\n",
       "    <tr>\n",
       "      <th>7</th>\n",
       "      <td>three</td>\n",
       "      <td>B</td>\n",
       "      <td>foo</td>\n",
       "      <td>1.181820</td>\n",
       "      <td>1.242073</td>\n",
       "    </tr>\n",
       "    <tr>\n",
       "      <th>8</th>\n",
       "      <td>one</td>\n",
       "      <td>C</td>\n",
       "      <td>foo</td>\n",
       "      <td>0.132795</td>\n",
       "      <td>-0.193988</td>\n",
       "    </tr>\n",
       "    <tr>\n",
       "      <th>9</th>\n",
       "      <td>one</td>\n",
       "      <td>A</td>\n",
       "      <td>bar</td>\n",
       "      <td>-1.005737</td>\n",
       "      <td>-1.248332</td>\n",
       "    </tr>\n",
       "    <tr>\n",
       "      <th>10</th>\n",
       "      <td>two</td>\n",
       "      <td>B</td>\n",
       "      <td>bar</td>\n",
       "      <td>-0.256160</td>\n",
       "      <td>-0.244993</td>\n",
       "    </tr>\n",
       "    <tr>\n",
       "      <th>11</th>\n",
       "      <td>three</td>\n",
       "      <td>C</td>\n",
       "      <td>bar</td>\n",
       "      <td>-1.044313</td>\n",
       "      <td>2.312316</td>\n",
       "    </tr>\n",
       "  </tbody>\n",
       "</table>\n",
       "</div>"
      ],
      "text/plain": [
       "        A  B    C         D         E\n",
       "0     one  A  foo -0.271614  0.599036\n",
       "1     one  B  foo -1.516375  0.670546\n",
       "2     two  C  foo -0.519275 -0.813023\n",
       "3   three  A  bar -0.479906  0.122251\n",
       "4     one  B  bar  1.295928  1.246468\n",
       "5     one  C  bar -1.463996 -0.525006\n",
       "6     two  A  foo -0.224096  1.893988\n",
       "7   three  B  foo  1.181820  1.242073\n",
       "8     one  C  foo  0.132795 -0.193988\n",
       "9     one  A  bar -1.005737 -1.248332\n",
       "10    two  B  bar -0.256160 -0.244993\n",
       "11  three  C  bar -1.044313  2.312316"
      ]
     },
     "execution_count": 299,
     "metadata": {},
     "output_type": "execute_result"
    }
   ],
   "source": [
    "df = pd.DataFrame({'A' : ['one', 'one', 'two', 'three'] * 3,\n",
    "                    'B' : ['A', 'B', 'C'] * 4,\n",
    "                    'C' : ['foo', 'foo', 'foo', 'bar', 'bar', 'bar'] * 2,\n",
    "                    'D' : np.random.randn(12),\n",
    "                    'E' : np.random.randn(12)})\n",
    "df"
   ]
  },
  {
   "cell_type": "code",
   "execution_count": 300,
   "metadata": {
    "collapsed": false
   },
   "outputs": [
    {
     "data": {
      "text/html": [
       "<div>\n",
       "<table border=\"1\" class=\"dataframe\">\n",
       "  <thead>\n",
       "    <tr style=\"text-align: right;\">\n",
       "      <th></th>\n",
       "      <th>C</th>\n",
       "      <th>bar</th>\n",
       "      <th>foo</th>\n",
       "    </tr>\n",
       "    <tr>\n",
       "      <th>A</th>\n",
       "      <th>B</th>\n",
       "      <th></th>\n",
       "      <th></th>\n",
       "    </tr>\n",
       "  </thead>\n",
       "  <tbody>\n",
       "    <tr>\n",
       "      <th rowspan=\"3\" valign=\"top\">one</th>\n",
       "      <th>A</th>\n",
       "      <td>-1.005737</td>\n",
       "      <td>-0.271614</td>\n",
       "    </tr>\n",
       "    <tr>\n",
       "      <th>B</th>\n",
       "      <td>1.295928</td>\n",
       "      <td>-1.516375</td>\n",
       "    </tr>\n",
       "    <tr>\n",
       "      <th>C</th>\n",
       "      <td>-1.463996</td>\n",
       "      <td>0.132795</td>\n",
       "    </tr>\n",
       "    <tr>\n",
       "      <th rowspan=\"3\" valign=\"top\">three</th>\n",
       "      <th>A</th>\n",
       "      <td>-0.479906</td>\n",
       "      <td>NaN</td>\n",
       "    </tr>\n",
       "    <tr>\n",
       "      <th>B</th>\n",
       "      <td>NaN</td>\n",
       "      <td>1.181820</td>\n",
       "    </tr>\n",
       "    <tr>\n",
       "      <th>C</th>\n",
       "      <td>-1.044313</td>\n",
       "      <td>NaN</td>\n",
       "    </tr>\n",
       "    <tr>\n",
       "      <th rowspan=\"3\" valign=\"top\">two</th>\n",
       "      <th>A</th>\n",
       "      <td>NaN</td>\n",
       "      <td>-0.224096</td>\n",
       "    </tr>\n",
       "    <tr>\n",
       "      <th>B</th>\n",
       "      <td>-0.256160</td>\n",
       "      <td>NaN</td>\n",
       "    </tr>\n",
       "    <tr>\n",
       "      <th>C</th>\n",
       "      <td>NaN</td>\n",
       "      <td>-0.519275</td>\n",
       "    </tr>\n",
       "  </tbody>\n",
       "</table>\n",
       "</div>"
      ],
      "text/plain": [
       "C             bar       foo\n",
       "A     B                    \n",
       "one   A -1.005737 -0.271614\n",
       "      B  1.295928 -1.516375\n",
       "      C -1.463996  0.132795\n",
       "three A -0.479906       NaN\n",
       "      B       NaN  1.181820\n",
       "      C -1.044313       NaN\n",
       "two   A       NaN -0.224096\n",
       "      B -0.256160       NaN\n",
       "      C       NaN -0.519275"
      ]
     },
     "execution_count": 300,
     "metadata": {},
     "output_type": "execute_result"
    }
   ],
   "source": [
    "# 인덱스는 A,B열의 값, key는 C열의 값\n",
    "pd.pivot_table(df, values='D', index=['A', 'B'], columns=['C']) #스프레드 쉬트의 피번 테이블 생성, "
   ]
  },
  {
   "cell_type": "code",
   "execution_count": 302,
   "metadata": {
    "collapsed": false
   },
   "outputs": [],
   "source": [
    "rng = pd.date_range('1/1/2012', periods=100, freq='S') #2012-01-01 0초를 기준으로 100개의 날짜를 생성"
   ]
  },
  {
   "cell_type": "code",
   "execution_count": 303,
   "metadata": {
    "collapsed": true
   },
   "outputs": [],
   "source": [
    "ts = pd.Series(np.random.randint(0, 500, len(rng)), index=rng) #100개의 0에서 500사이의 정수를 갖는 Series 생성, 인덱스는 위에서 생성한 날짜"
   ]
  },
  {
   "cell_type": "code",
   "execution_count": 312,
   "metadata": {
    "collapsed": false
   },
   "outputs": [
    {
     "data": {
      "text/plain": [
       "2012-01-01 00:00:00    13368\n",
       "2012-01-01 00:01:00     9842\n",
       "Freq: T, dtype: int32"
      ]
     },
     "execution_count": 312,
     "metadata": {},
     "output_type": "execute_result"
    }
   ],
   "source": [
    "ts.resample('1Min', how='sum') #초 단위로 생성한 ts를 1분 단위로 수정하고, 누락된 값들은 합한다."
   ]
  },
  {
   "cell_type": "code",
   "execution_count": 313,
   "metadata": {
    "collapsed": true
   },
   "outputs": [],
   "source": [
    "rng = pd.date_range('3/6/2012 00:00', periods=5, freq='D') #시간 간격이 day"
   ]
  },
  {
   "cell_type": "code",
   "execution_count": 314,
   "metadata": {
    "collapsed": true
   },
   "outputs": [],
   "source": [
    "ts = pd.Series(np.random.randn(len(rng)), rng)"
   ]
  },
  {
   "cell_type": "code",
   "execution_count": 315,
   "metadata": {
    "collapsed": false
   },
   "outputs": [
    {
     "data": {
      "text/plain": [
       "2012-03-06   -2.447320\n",
       "2012-03-07    1.116438\n",
       "2012-03-08    0.045486\n",
       "2012-03-09    0.484208\n",
       "2012-03-10    1.420781\n",
       "Freq: D, dtype: float64"
      ]
     },
     "execution_count": 315,
     "metadata": {},
     "output_type": "execute_result"
    }
   ],
   "source": [
    "ts"
   ]
  },
  {
   "cell_type": "code",
   "execution_count": 316,
   "metadata": {
    "collapsed": false
   },
   "outputs": [
    {
     "data": {
      "text/plain": [
       "2012-03-06 00:00:00+00:00   -2.447320\n",
       "2012-03-07 00:00:00+00:00    1.116438\n",
       "2012-03-08 00:00:00+00:00    0.045486\n",
       "2012-03-09 00:00:00+00:00    0.484208\n",
       "2012-03-10 00:00:00+00:00    1.420781\n",
       "Freq: D, dtype: float64"
      ]
     },
     "execution_count": 316,
     "metadata": {},
     "output_type": "execute_result"
    }
   ],
   "source": [
    "ts_utc = ts.tz_localize('UTC') #타임존이 UTC\n",
    "ts_utc"
   ]
  },
  {
   "cell_type": "code",
   "execution_count": 317,
   "metadata": {
    "collapsed": false
   },
   "outputs": [
    {
     "data": {
      "text/plain": [
       "2012-03-05 19:00:00-05:00   -2.447320\n",
       "2012-03-06 19:00:00-05:00    1.116438\n",
       "2012-03-07 19:00:00-05:00    0.045486\n",
       "2012-03-08 19:00:00-05:00    0.484208\n",
       "2012-03-09 19:00:00-05:00    1.420781\n",
       "Freq: D, dtype: float64"
      ]
     },
     "execution_count": 317,
     "metadata": {},
     "output_type": "execute_result"
    }
   ],
   "source": [
    "ts_utc.tz_convert('US/Eastern') #타임존이 US/Eastern"
   ]
  },
  {
   "cell_type": "code",
   "execution_count": 318,
   "metadata": {
    "collapsed": false
   },
   "outputs": [
    {
     "data": {
      "text/plain": [
       "2012-01-31   -0.066919\n",
       "2012-02-29   -0.867478\n",
       "2012-03-31    0.211919\n",
       "2012-04-30   -0.230757\n",
       "2012-05-31   -0.548950\n",
       "Freq: M, dtype: float64"
      ]
     },
     "execution_count": 318,
     "metadata": {},
     "output_type": "execute_result"
    }
   ],
   "source": [
    "rng = pd.date_range('1/1/2012', periods=5, freq='M')\n",
    "ts = pd.Series(np.random.randn(len(rng)), index=rng)\n",
    "ts"
   ]
  },
  {
   "cell_type": "code",
   "execution_count": 322,
   "metadata": {
    "collapsed": false
   },
   "outputs": [
    {
     "data": {
      "text/plain": [
       "2012-01   -0.066919\n",
       "2012-02   -0.867478\n",
       "2012-03    0.211919\n",
       "2012-04   -0.230757\n",
       "2012-05   -0.548950\n",
       "Freq: M, dtype: float64"
      ]
     },
     "execution_count": 322,
     "metadata": {},
     "output_type": "execute_result"
    }
   ],
   "source": [
    "ps = ts.to_period() #freq 이하는 삭제, freq가 Month이므로 day이하는 삭제\n",
    "ps"
   ]
  },
  {
   "cell_type": "code",
   "execution_count": 323,
   "metadata": {
    "collapsed": false
   },
   "outputs": [
    {
     "data": {
      "text/plain": [
       "2012-01-01   -0.066919\n",
       "2012-02-01   -0.867478\n",
       "2012-03-01    0.211919\n",
       "2012-04-01   -0.230757\n",
       "2012-05-01   -0.548950\n",
       "Freq: MS, dtype: float64"
      ]
     },
     "execution_count": 323,
     "metadata": {},
     "output_type": "execute_result"
    }
   ],
   "source": [
    "ps.to_timestamp() #기간의 시작일을 출력"
   ]
  },
  {
   "cell_type": "code",
   "execution_count": 329,
   "metadata": {
    "collapsed": false
   },
   "outputs": [],
   "source": [
    "prng = pd.period_range('1990Q1', '2000Q4', freq='Q-NOV')"
   ]
  },
  {
   "cell_type": "code",
   "execution_count": 330,
   "metadata": {
    "collapsed": true
   },
   "outputs": [],
   "source": [
    "ts = pd.Series(np.random.randn(len(prng)), prng)"
   ]
  },
  {
   "cell_type": "code",
   "execution_count": 331,
   "metadata": {
    "collapsed": true
   },
   "outputs": [],
   "source": [
    "ts.index = (prng.asfreq('M', 'e') + 1).asfreq('H', 's') + 9 \n",
    "#1990Q1를 1990-03-00으로 바꾸고 +1를 하여 1990-03-01로 수정\n",
    "#1990-03-01에서 09:00를 추가"
   ]
  },
  {
   "cell_type": "code",
   "execution_count": 333,
   "metadata": {
    "collapsed": false
   },
   "outputs": [
    {
     "data": {
      "text/plain": [
       "1990-03-01 09:00   -0.114659\n",
       "1990-06-01 09:00   -0.803400\n",
       "1990-09-01 09:00   -1.049711\n",
       "1990-12-01 09:00    0.650776\n",
       "1991-03-01 09:00   -1.287859\n",
       "Freq: H, dtype: float64"
      ]
     },
     "execution_count": 333,
     "metadata": {},
     "output_type": "execute_result"
    }
   ],
   "source": [
    "ts.head() #처음부터 n개 행을 출력(기본 5개)"
   ]
  },
  {
   "cell_type": "code",
   "execution_count": 338,
   "metadata": {
    "collapsed": false
   },
   "outputs": [
    {
     "data": {
      "text/html": [
       "<div>\n",
       "<table border=\"1\" class=\"dataframe\">\n",
       "  <thead>\n",
       "    <tr style=\"text-align: right;\">\n",
       "      <th></th>\n",
       "      <th>id</th>\n",
       "      <th>raw_grade</th>\n",
       "    </tr>\n",
       "  </thead>\n",
       "  <tbody>\n",
       "    <tr>\n",
       "      <th>0</th>\n",
       "      <td>1</td>\n",
       "      <td>a</td>\n",
       "    </tr>\n",
       "    <tr>\n",
       "      <th>1</th>\n",
       "      <td>2</td>\n",
       "      <td>b</td>\n",
       "    </tr>\n",
       "    <tr>\n",
       "      <th>2</th>\n",
       "      <td>3</td>\n",
       "      <td>b</td>\n",
       "    </tr>\n",
       "    <tr>\n",
       "      <th>3</th>\n",
       "      <td>4</td>\n",
       "      <td>a</td>\n",
       "    </tr>\n",
       "    <tr>\n",
       "      <th>4</th>\n",
       "      <td>5</td>\n",
       "      <td>a</td>\n",
       "    </tr>\n",
       "    <tr>\n",
       "      <th>5</th>\n",
       "      <td>6</td>\n",
       "      <td>e</td>\n",
       "    </tr>\n",
       "  </tbody>\n",
       "</table>\n",
       "</div>"
      ],
      "text/plain": [
       "   id raw_grade\n",
       "0   1         a\n",
       "1   2         b\n",
       "2   3         b\n",
       "3   4         a\n",
       "4   5         a\n",
       "5   6         e"
      ]
     },
     "execution_count": 338,
     "metadata": {},
     "output_type": "execute_result"
    }
   ],
   "source": [
    "df = pd.DataFrame({\"id\":[1,2,3,4,5,6], \"raw_grade\":['a', 'b', 'b', 'a', 'a', 'e']})\n",
    "df"
   ]
  },
  {
   "cell_type": "code",
   "execution_count": 342,
   "metadata": {
    "collapsed": true
   },
   "outputs": [],
   "source": [
    "df[\"grade\"] = df[\"raw_grade\"].astype(\"category\") #grade를 생성하는데 그 값으로 raw_grade의 값을 넣어준다."
   ]
  },
  {
   "cell_type": "code",
   "execution_count": 343,
   "metadata": {
    "collapsed": false
   },
   "outputs": [
    {
     "data": {
      "text/html": [
       "<div>\n",
       "<table border=\"1\" class=\"dataframe\">\n",
       "  <thead>\n",
       "    <tr style=\"text-align: right;\">\n",
       "      <th></th>\n",
       "      <th>id</th>\n",
       "      <th>raw_grade</th>\n",
       "      <th>grade</th>\n",
       "    </tr>\n",
       "  </thead>\n",
       "  <tbody>\n",
       "    <tr>\n",
       "      <th>0</th>\n",
       "      <td>1</td>\n",
       "      <td>a</td>\n",
       "      <td>a</td>\n",
       "    </tr>\n",
       "    <tr>\n",
       "      <th>1</th>\n",
       "      <td>2</td>\n",
       "      <td>b</td>\n",
       "      <td>b</td>\n",
       "    </tr>\n",
       "    <tr>\n",
       "      <th>2</th>\n",
       "      <td>3</td>\n",
       "      <td>b</td>\n",
       "      <td>b</td>\n",
       "    </tr>\n",
       "    <tr>\n",
       "      <th>3</th>\n",
       "      <td>4</td>\n",
       "      <td>a</td>\n",
       "      <td>a</td>\n",
       "    </tr>\n",
       "    <tr>\n",
       "      <th>4</th>\n",
       "      <td>5</td>\n",
       "      <td>a</td>\n",
       "      <td>a</td>\n",
       "    </tr>\n",
       "    <tr>\n",
       "      <th>5</th>\n",
       "      <td>6</td>\n",
       "      <td>e</td>\n",
       "      <td>e</td>\n",
       "    </tr>\n",
       "  </tbody>\n",
       "</table>\n",
       "</div>"
      ],
      "text/plain": [
       "   id raw_grade grade\n",
       "0   1         a     a\n",
       "1   2         b     b\n",
       "2   3         b     b\n",
       "3   4         a     a\n",
       "4   5         a     a\n",
       "5   6         e     e"
      ]
     },
     "execution_count": 343,
     "metadata": {},
     "output_type": "execute_result"
    }
   ],
   "source": [
    "df"
   ]
  },
  {
   "cell_type": "code",
   "execution_count": 344,
   "metadata": {
    "collapsed": false
   },
   "outputs": [
    {
     "data": {
      "text/plain": [
       "0    a\n",
       "1    b\n",
       "2    b\n",
       "3    a\n",
       "4    a\n",
       "5    e\n",
       "Name: grade, dtype: category\n",
       "Categories (3, object): [a, b, e]"
      ]
     },
     "execution_count": 344,
     "metadata": {},
     "output_type": "execute_result"
    }
   ],
   "source": [
    "df[\"grade\"]"
   ]
  },
  {
   "cell_type": "code",
   "execution_count": 347,
   "metadata": {
    "collapsed": false
   },
   "outputs": [
    {
     "data": {
      "text/plain": [
       "0    very good\n",
       "1         good\n",
       "2         good\n",
       "3    very good\n",
       "4    very good\n",
       "5     very bad\n",
       "Name: grade, dtype: category\n",
       "Categories (3, object): [very good, good, very bad]"
      ]
     },
     "execution_count": 347,
     "metadata": {},
     "output_type": "execute_result"
    }
   ],
   "source": [
    "df[\"grade\"].cat.categories = [\"very good\", \"good\", \"very bad\"] #a,b,e -> very good, good, very bad로 수정\n",
    "df[\"grade\"]"
   ]
  },
  {
   "cell_type": "code",
   "execution_count": 349,
   "metadata": {
    "collapsed": false
   },
   "outputs": [
    {
     "data": {
      "text/html": [
       "<div>\n",
       "<table border=\"1\" class=\"dataframe\">\n",
       "  <thead>\n",
       "    <tr style=\"text-align: right;\">\n",
       "      <th></th>\n",
       "      <th>id</th>\n",
       "      <th>raw_grade</th>\n",
       "      <th>grade</th>\n",
       "    </tr>\n",
       "  </thead>\n",
       "  <tbody>\n",
       "    <tr>\n",
       "      <th>5</th>\n",
       "      <td>6</td>\n",
       "      <td>e</td>\n",
       "      <td>very bad</td>\n",
       "    </tr>\n",
       "    <tr>\n",
       "      <th>1</th>\n",
       "      <td>2</td>\n",
       "      <td>b</td>\n",
       "      <td>good</td>\n",
       "    </tr>\n",
       "    <tr>\n",
       "      <th>2</th>\n",
       "      <td>3</td>\n",
       "      <td>b</td>\n",
       "      <td>good</td>\n",
       "    </tr>\n",
       "    <tr>\n",
       "      <th>0</th>\n",
       "      <td>1</td>\n",
       "      <td>a</td>\n",
       "      <td>very good</td>\n",
       "    </tr>\n",
       "    <tr>\n",
       "      <th>3</th>\n",
       "      <td>4</td>\n",
       "      <td>a</td>\n",
       "      <td>very good</td>\n",
       "    </tr>\n",
       "    <tr>\n",
       "      <th>4</th>\n",
       "      <td>5</td>\n",
       "      <td>a</td>\n",
       "      <td>very good</td>\n",
       "    </tr>\n",
       "  </tbody>\n",
       "</table>\n",
       "</div>"
      ],
      "text/plain": [
       "   id raw_grade      grade\n",
       "5   6         e   very bad\n",
       "1   2         b       good\n",
       "2   3         b       good\n",
       "0   1         a  very good\n",
       "3   4         a  very good\n",
       "4   5         a  very good"
      ]
     },
     "execution_count": 349,
     "metadata": {},
     "output_type": "execute_result"
    }
   ],
   "source": [
    "df[\"grade\"] = df[\"grade\"].cat.set_categories([\"very bad\", \"bad\", \"medium\", \"good\", \"very good\"]) #카테 고리를 설정\n",
    "df.sort(\"grade\") #grade를 기준으로 정렬"
   ]
  },
  {
   "cell_type": "code",
   "execution_count": 350,
   "metadata": {
    "collapsed": false
   },
   "outputs": [
    {
     "data": {
      "text/plain": [
       "grade\n",
       "very bad      1\n",
       "bad         NaN\n",
       "medium      NaN\n",
       "good          2\n",
       "very good     3\n",
       "dtype: float64"
      ]
     },
     "execution_count": 350,
     "metadata": {},
     "output_type": "execute_result"
    }
   ],
   "source": [
    "df.groupby(\"grade\").size() #grade의 카테고리의 값의 수를 출력 "
   ]
  },
  {
   "cell_type": "code",
   "execution_count": 356,
   "metadata": {
    "collapsed": false
   },
   "outputs": [],
   "source": [
    "ts = pd.Series(np.random.randn(1000), index=pd.date_range('1/1/2000', periods=1000))"
   ]
  },
  {
   "cell_type": "code",
   "execution_count": 357,
   "metadata": {
    "collapsed": false
   },
   "outputs": [],
   "source": [
    "ts = ts.cumsum()"
   ]
  },
  {
   "cell_type": "code",
   "execution_count": 364,
   "metadata": {
    "collapsed": false
   },
   "outputs": [
    {
     "data": {
      "text/plain": [
       "<matplotlib.axes._subplots.AxesSubplot at 0xb5934a8>"
      ]
     },
     "execution_count": 364,
     "metadata": {},
     "output_type": "execute_result"
    }
   ],
   "source": [
    "ts.plot()"
   ]
  },
  {
   "cell_type": "code",
   "execution_count": 367,
   "metadata": {
    "collapsed": false
   },
   "outputs": [],
   "source": [
    "df = pd.DataFrame(np.random.randn(1000, 4), index=ts.index,\n",
    "                  columns=['A', 'B', 'C', 'D'])"
   ]
  },
  {
   "cell_type": "code",
   "execution_count": 368,
   "metadata": {
    "collapsed": true
   },
   "outputs": [],
   "source": [
    "df = df.cumsum()"
   ]
  },
  {
   "cell_type": "code",
   "execution_count": 369,
   "metadata": {
    "collapsed": false
   },
   "outputs": [
    {
     "data": {
      "text/plain": [
       "<matplotlib.legend.Legend at 0xb80e780>"
      ]
     },
     "execution_count": 369,
     "metadata": {},
     "output_type": "execute_result"
    }
   ],
   "source": [
    "plt.figure(); \n",
    "df.plot(); \n",
    "plt.legend(loc='best')"
   ]
  },
  {
   "cell_type": "code",
   "execution_count": 370,
   "metadata": {
    "collapsed": true
   },
   "outputs": [],
   "source": [
    "df.to_csv('foo.csv') #df를 csv 파일로 저장"
   ]
  },
  {
   "cell_type": "code",
   "execution_count": 374,
   "metadata": {
    "collapsed": false
   },
   "outputs": [
    {
     "data": {
      "text/html": [
       "<div>\n",
       "<table border=\"1\" class=\"dataframe\">\n",
       "  <thead>\n",
       "    <tr style=\"text-align: right;\">\n",
       "      <th></th>\n",
       "      <th>Unnamed: 0</th>\n",
       "      <th>A</th>\n",
       "      <th>B</th>\n",
       "      <th>C</th>\n",
       "      <th>D</th>\n",
       "    </tr>\n",
       "  </thead>\n",
       "  <tbody>\n",
       "    <tr>\n",
       "      <th>0</th>\n",
       "      <td>2000-01-01</td>\n",
       "      <td>0.447089</td>\n",
       "      <td>0.285858</td>\n",
       "      <td>-1.171786</td>\n",
       "      <td>0.941615</td>\n",
       "    </tr>\n",
       "    <tr>\n",
       "      <th>1</th>\n",
       "      <td>2000-01-02</td>\n",
       "      <td>0.314488</td>\n",
       "      <td>-1.394131</td>\n",
       "      <td>-0.116341</td>\n",
       "      <td>-0.697985</td>\n",
       "    </tr>\n",
       "    <tr>\n",
       "      <th>2</th>\n",
       "      <td>2000-01-03</td>\n",
       "      <td>0.737863</td>\n",
       "      <td>-1.381138</td>\n",
       "      <td>-0.247248</td>\n",
       "      <td>0.413440</td>\n",
       "    </tr>\n",
       "    <tr>\n",
       "      <th>3</th>\n",
       "      <td>2000-01-04</td>\n",
       "      <td>2.070552</td>\n",
       "      <td>-1.469996</td>\n",
       "      <td>0.214854</td>\n",
       "      <td>-0.064814</td>\n",
       "    </tr>\n",
       "    <tr>\n",
       "      <th>4</th>\n",
       "      <td>2000-01-05</td>\n",
       "      <td>2.633587</td>\n",
       "      <td>-2.882045</td>\n",
       "      <td>1.895987</td>\n",
       "      <td>1.975438</td>\n",
       "    </tr>\n",
       "    <tr>\n",
       "      <th>5</th>\n",
       "      <td>2000-01-06</td>\n",
       "      <td>3.702833</td>\n",
       "      <td>-1.762472</td>\n",
       "      <td>3.148137</td>\n",
       "      <td>2.074140</td>\n",
       "    </tr>\n",
       "    <tr>\n",
       "      <th>6</th>\n",
       "      <td>2000-01-07</td>\n",
       "      <td>6.302227</td>\n",
       "      <td>-0.581905</td>\n",
       "      <td>1.854637</td>\n",
       "      <td>2.587870</td>\n",
       "    </tr>\n",
       "    <tr>\n",
       "      <th>7</th>\n",
       "      <td>2000-01-08</td>\n",
       "      <td>5.720022</td>\n",
       "      <td>-1.745504</td>\n",
       "      <td>3.394013</td>\n",
       "      <td>3.155494</td>\n",
       "    </tr>\n",
       "    <tr>\n",
       "      <th>8</th>\n",
       "      <td>2000-01-09</td>\n",
       "      <td>5.129286</td>\n",
       "      <td>-0.895158</td>\n",
       "      <td>4.868722</td>\n",
       "      <td>3.173305</td>\n",
       "    </tr>\n",
       "    <tr>\n",
       "      <th>9</th>\n",
       "      <td>2000-01-10</td>\n",
       "      <td>5.242493</td>\n",
       "      <td>0.006332</td>\n",
       "      <td>4.586620</td>\n",
       "      <td>1.290259</td>\n",
       "    </tr>\n",
       "    <tr>\n",
       "      <th>10</th>\n",
       "      <td>2000-01-11</td>\n",
       "      <td>4.388252</td>\n",
       "      <td>-0.637626</td>\n",
       "      <td>3.112450</td>\n",
       "      <td>-0.560724</td>\n",
       "    </tr>\n",
       "    <tr>\n",
       "      <th>11</th>\n",
       "      <td>2000-01-12</td>\n",
       "      <td>4.141638</td>\n",
       "      <td>-0.556491</td>\n",
       "      <td>3.831374</td>\n",
       "      <td>-1.863118</td>\n",
       "    </tr>\n",
       "    <tr>\n",
       "      <th>12</th>\n",
       "      <td>2000-01-13</td>\n",
       "      <td>4.966941</td>\n",
       "      <td>-0.578397</td>\n",
       "      <td>3.571572</td>\n",
       "      <td>-0.493173</td>\n",
       "    </tr>\n",
       "    <tr>\n",
       "      <th>13</th>\n",
       "      <td>2000-01-14</td>\n",
       "      <td>6.116760</td>\n",
       "      <td>-0.029307</td>\n",
       "      <td>3.514619</td>\n",
       "      <td>-0.494530</td>\n",
       "    </tr>\n",
       "    <tr>\n",
       "      <th>14</th>\n",
       "      <td>2000-01-15</td>\n",
       "      <td>5.338049</td>\n",
       "      <td>-1.412198</td>\n",
       "      <td>4.012855</td>\n",
       "      <td>-0.693139</td>\n",
       "    </tr>\n",
       "    <tr>\n",
       "      <th>15</th>\n",
       "      <td>2000-01-16</td>\n",
       "      <td>6.230910</td>\n",
       "      <td>-1.382897</td>\n",
       "      <td>4.648010</td>\n",
       "      <td>-0.756710</td>\n",
       "    </tr>\n",
       "    <tr>\n",
       "      <th>16</th>\n",
       "      <td>2000-01-17</td>\n",
       "      <td>5.578335</td>\n",
       "      <td>-2.549541</td>\n",
       "      <td>3.964644</td>\n",
       "      <td>-1.003535</td>\n",
       "    </tr>\n",
       "    <tr>\n",
       "      <th>17</th>\n",
       "      <td>2000-01-18</td>\n",
       "      <td>5.340738</td>\n",
       "      <td>-3.523163</td>\n",
       "      <td>3.898083</td>\n",
       "      <td>-1.277909</td>\n",
       "    </tr>\n",
       "    <tr>\n",
       "      <th>18</th>\n",
       "      <td>2000-01-19</td>\n",
       "      <td>7.145029</td>\n",
       "      <td>-3.417869</td>\n",
       "      <td>3.012497</td>\n",
       "      <td>-0.831458</td>\n",
       "    </tr>\n",
       "    <tr>\n",
       "      <th>19</th>\n",
       "      <td>2000-01-20</td>\n",
       "      <td>6.166079</td>\n",
       "      <td>-3.960132</td>\n",
       "      <td>1.669948</td>\n",
       "      <td>-0.800765</td>\n",
       "    </tr>\n",
       "    <tr>\n",
       "      <th>20</th>\n",
       "      <td>2000-01-21</td>\n",
       "      <td>6.727804</td>\n",
       "      <td>-5.487706</td>\n",
       "      <td>2.534853</td>\n",
       "      <td>-0.941656</td>\n",
       "    </tr>\n",
       "    <tr>\n",
       "      <th>21</th>\n",
       "      <td>2000-01-22</td>\n",
       "      <td>4.978130</td>\n",
       "      <td>-4.049615</td>\n",
       "      <td>1.710763</td>\n",
       "      <td>-0.913651</td>\n",
       "    </tr>\n",
       "    <tr>\n",
       "      <th>22</th>\n",
       "      <td>2000-01-23</td>\n",
       "      <td>4.706233</td>\n",
       "      <td>-5.278976</td>\n",
       "      <td>-0.933052</td>\n",
       "      <td>0.464182</td>\n",
       "    </tr>\n",
       "    <tr>\n",
       "      <th>23</th>\n",
       "      <td>2000-01-24</td>\n",
       "      <td>5.931528</td>\n",
       "      <td>-7.069576</td>\n",
       "      <td>-0.909746</td>\n",
       "      <td>1.338625</td>\n",
       "    </tr>\n",
       "    <tr>\n",
       "      <th>24</th>\n",
       "      <td>2000-01-25</td>\n",
       "      <td>4.709982</td>\n",
       "      <td>-8.812731</td>\n",
       "      <td>-0.887957</td>\n",
       "      <td>2.423196</td>\n",
       "    </tr>\n",
       "    <tr>\n",
       "      <th>25</th>\n",
       "      <td>2000-01-26</td>\n",
       "      <td>5.805053</td>\n",
       "      <td>-7.426573</td>\n",
       "      <td>-1.060426</td>\n",
       "      <td>1.344238</td>\n",
       "    </tr>\n",
       "    <tr>\n",
       "      <th>26</th>\n",
       "      <td>2000-01-27</td>\n",
       "      <td>6.286606</td>\n",
       "      <td>-8.330138</td>\n",
       "      <td>-2.062515</td>\n",
       "      <td>-0.472303</td>\n",
       "    </tr>\n",
       "    <tr>\n",
       "      <th>27</th>\n",
       "      <td>2000-01-28</td>\n",
       "      <td>7.158546</td>\n",
       "      <td>-9.930097</td>\n",
       "      <td>-1.390967</td>\n",
       "      <td>0.014263</td>\n",
       "    </tr>\n",
       "    <tr>\n",
       "      <th>28</th>\n",
       "      <td>2000-01-29</td>\n",
       "      <td>8.690384</td>\n",
       "      <td>-9.912813</td>\n",
       "      <td>-0.903772</td>\n",
       "      <td>0.108499</td>\n",
       "    </tr>\n",
       "    <tr>\n",
       "      <th>29</th>\n",
       "      <td>2000-01-30</td>\n",
       "      <td>8.627902</td>\n",
       "      <td>-8.996593</td>\n",
       "      <td>-1.447826</td>\n",
       "      <td>-1.584048</td>\n",
       "    </tr>\n",
       "    <tr>\n",
       "      <th>...</th>\n",
       "      <td>...</td>\n",
       "      <td>...</td>\n",
       "      <td>...</td>\n",
       "      <td>...</td>\n",
       "      <td>...</td>\n",
       "    </tr>\n",
       "    <tr>\n",
       "      <th>970</th>\n",
       "      <td>2002-08-28</td>\n",
       "      <td>20.192388</td>\n",
       "      <td>-50.741498</td>\n",
       "      <td>24.767963</td>\n",
       "      <td>3.495698</td>\n",
       "    </tr>\n",
       "    <tr>\n",
       "      <th>971</th>\n",
       "      <td>2002-08-29</td>\n",
       "      <td>19.661373</td>\n",
       "      <td>-51.814655</td>\n",
       "      <td>26.126077</td>\n",
       "      <td>3.258355</td>\n",
       "    </tr>\n",
       "    <tr>\n",
       "      <th>972</th>\n",
       "      <td>2002-08-30</td>\n",
       "      <td>20.804062</td>\n",
       "      <td>-53.341244</td>\n",
       "      <td>26.752666</td>\n",
       "      <td>3.715633</td>\n",
       "    </tr>\n",
       "    <tr>\n",
       "      <th>973</th>\n",
       "      <td>2002-08-31</td>\n",
       "      <td>20.169308</td>\n",
       "      <td>-54.426674</td>\n",
       "      <td>26.349431</td>\n",
       "      <td>5.274960</td>\n",
       "    </tr>\n",
       "    <tr>\n",
       "      <th>974</th>\n",
       "      <td>2002-09-01</td>\n",
       "      <td>18.672835</td>\n",
       "      <td>-53.825156</td>\n",
       "      <td>26.459316</td>\n",
       "      <td>6.174852</td>\n",
       "    </tr>\n",
       "    <tr>\n",
       "      <th>975</th>\n",
       "      <td>2002-09-02</td>\n",
       "      <td>19.673797</td>\n",
       "      <td>-54.380768</td>\n",
       "      <td>27.143951</td>\n",
       "      <td>5.964886</td>\n",
       "    </tr>\n",
       "    <tr>\n",
       "      <th>976</th>\n",
       "      <td>2002-09-03</td>\n",
       "      <td>19.483579</td>\n",
       "      <td>-52.924545</td>\n",
       "      <td>26.435586</td>\n",
       "      <td>7.101420</td>\n",
       "    </tr>\n",
       "    <tr>\n",
       "      <th>977</th>\n",
       "      <td>2002-09-04</td>\n",
       "      <td>19.579785</td>\n",
       "      <td>-52.884867</td>\n",
       "      <td>26.598365</td>\n",
       "      <td>6.320535</td>\n",
       "    </tr>\n",
       "    <tr>\n",
       "      <th>978</th>\n",
       "      <td>2002-09-05</td>\n",
       "      <td>18.668792</td>\n",
       "      <td>-51.770703</td>\n",
       "      <td>27.355257</td>\n",
       "      <td>5.672363</td>\n",
       "    </tr>\n",
       "    <tr>\n",
       "      <th>979</th>\n",
       "      <td>2002-09-06</td>\n",
       "      <td>18.422903</td>\n",
       "      <td>-51.785583</td>\n",
       "      <td>28.105573</td>\n",
       "      <td>4.661753</td>\n",
       "    </tr>\n",
       "    <tr>\n",
       "      <th>980</th>\n",
       "      <td>2002-09-07</td>\n",
       "      <td>20.061515</td>\n",
       "      <td>-52.383116</td>\n",
       "      <td>29.571828</td>\n",
       "      <td>4.123646</td>\n",
       "    </tr>\n",
       "    <tr>\n",
       "      <th>981</th>\n",
       "      <td>2002-09-08</td>\n",
       "      <td>19.747621</td>\n",
       "      <td>-52.633614</td>\n",
       "      <td>30.573960</td>\n",
       "      <td>3.142126</td>\n",
       "    </tr>\n",
       "    <tr>\n",
       "      <th>982</th>\n",
       "      <td>2002-09-09</td>\n",
       "      <td>19.703509</td>\n",
       "      <td>-50.080823</td>\n",
       "      <td>31.680422</td>\n",
       "      <td>3.666273</td>\n",
       "    </tr>\n",
       "    <tr>\n",
       "      <th>983</th>\n",
       "      <td>2002-09-10</td>\n",
       "      <td>19.556864</td>\n",
       "      <td>-51.043502</td>\n",
       "      <td>32.299978</td>\n",
       "      <td>3.703339</td>\n",
       "    </tr>\n",
       "    <tr>\n",
       "      <th>984</th>\n",
       "      <td>2002-09-11</td>\n",
       "      <td>20.696303</td>\n",
       "      <td>-50.860516</td>\n",
       "      <td>32.143988</td>\n",
       "      <td>5.288226</td>\n",
       "    </tr>\n",
       "    <tr>\n",
       "      <th>985</th>\n",
       "      <td>2002-09-12</td>\n",
       "      <td>19.891154</td>\n",
       "      <td>-51.764167</td>\n",
       "      <td>31.481004</td>\n",
       "      <td>5.743583</td>\n",
       "    </tr>\n",
       "    <tr>\n",
       "      <th>986</th>\n",
       "      <td>2002-09-13</td>\n",
       "      <td>18.341554</td>\n",
       "      <td>-51.869538</td>\n",
       "      <td>32.055400</td>\n",
       "      <td>5.099564</td>\n",
       "    </tr>\n",
       "    <tr>\n",
       "      <th>987</th>\n",
       "      <td>2002-09-14</td>\n",
       "      <td>16.939542</td>\n",
       "      <td>-52.288906</td>\n",
       "      <td>32.775229</td>\n",
       "      <td>4.485089</td>\n",
       "    </tr>\n",
       "    <tr>\n",
       "      <th>988</th>\n",
       "      <td>2002-09-15</td>\n",
       "      <td>17.419492</td>\n",
       "      <td>-52.334411</td>\n",
       "      <td>34.245490</td>\n",
       "      <td>5.691778</td>\n",
       "    </tr>\n",
       "    <tr>\n",
       "      <th>989</th>\n",
       "      <td>2002-09-16</td>\n",
       "      <td>17.484277</td>\n",
       "      <td>-54.685923</td>\n",
       "      <td>34.958475</td>\n",
       "      <td>6.531997</td>\n",
       "    </tr>\n",
       "    <tr>\n",
       "      <th>990</th>\n",
       "      <td>2002-09-17</td>\n",
       "      <td>14.391416</td>\n",
       "      <td>-55.657610</td>\n",
       "      <td>35.896745</td>\n",
       "      <td>6.599511</td>\n",
       "    </tr>\n",
       "    <tr>\n",
       "      <th>991</th>\n",
       "      <td>2002-09-18</td>\n",
       "      <td>14.313095</td>\n",
       "      <td>-55.679451</td>\n",
       "      <td>36.231059</td>\n",
       "      <td>6.210611</td>\n",
       "    </tr>\n",
       "    <tr>\n",
       "      <th>992</th>\n",
       "      <td>2002-09-19</td>\n",
       "      <td>12.604613</td>\n",
       "      <td>-56.596247</td>\n",
       "      <td>35.918327</td>\n",
       "      <td>6.799488</td>\n",
       "    </tr>\n",
       "    <tr>\n",
       "      <th>993</th>\n",
       "      <td>2002-09-20</td>\n",
       "      <td>12.029845</td>\n",
       "      <td>-55.212064</td>\n",
       "      <td>36.245659</td>\n",
       "      <td>5.835118</td>\n",
       "    </tr>\n",
       "    <tr>\n",
       "      <th>994</th>\n",
       "      <td>2002-09-21</td>\n",
       "      <td>13.663996</td>\n",
       "      <td>-56.213242</td>\n",
       "      <td>35.051920</td>\n",
       "      <td>6.087890</td>\n",
       "    </tr>\n",
       "    <tr>\n",
       "      <th>995</th>\n",
       "      <td>2002-09-22</td>\n",
       "      <td>13.466857</td>\n",
       "      <td>-56.001938</td>\n",
       "      <td>35.635111</td>\n",
       "      <td>6.770146</td>\n",
       "    </tr>\n",
       "    <tr>\n",
       "      <th>996</th>\n",
       "      <td>2002-09-23</td>\n",
       "      <td>12.882151</td>\n",
       "      <td>-54.632885</td>\n",
       "      <td>35.895589</td>\n",
       "      <td>8.226364</td>\n",
       "    </tr>\n",
       "    <tr>\n",
       "      <th>997</th>\n",
       "      <td>2002-09-24</td>\n",
       "      <td>11.432314</td>\n",
       "      <td>-54.404167</td>\n",
       "      <td>35.985037</td>\n",
       "      <td>8.588822</td>\n",
       "    </tr>\n",
       "    <tr>\n",
       "      <th>998</th>\n",
       "      <td>2002-09-25</td>\n",
       "      <td>12.536015</td>\n",
       "      <td>-52.676758</td>\n",
       "      <td>36.568811</td>\n",
       "      <td>8.554950</td>\n",
       "    </tr>\n",
       "    <tr>\n",
       "      <th>999</th>\n",
       "      <td>2002-09-26</td>\n",
       "      <td>11.949705</td>\n",
       "      <td>-53.593150</td>\n",
       "      <td>36.157738</td>\n",
       "      <td>8.177058</td>\n",
       "    </tr>\n",
       "  </tbody>\n",
       "</table>\n",
       "<p>1000 rows × 5 columns</p>\n",
       "</div>"
      ],
      "text/plain": [
       "     Unnamed: 0          A          B          C         D\n",
       "0    2000-01-01   0.447089   0.285858  -1.171786  0.941615\n",
       "1    2000-01-02   0.314488  -1.394131  -0.116341 -0.697985\n",
       "2    2000-01-03   0.737863  -1.381138  -0.247248  0.413440\n",
       "3    2000-01-04   2.070552  -1.469996   0.214854 -0.064814\n",
       "4    2000-01-05   2.633587  -2.882045   1.895987  1.975438\n",
       "5    2000-01-06   3.702833  -1.762472   3.148137  2.074140\n",
       "6    2000-01-07   6.302227  -0.581905   1.854637  2.587870\n",
       "7    2000-01-08   5.720022  -1.745504   3.394013  3.155494\n",
       "8    2000-01-09   5.129286  -0.895158   4.868722  3.173305\n",
       "9    2000-01-10   5.242493   0.006332   4.586620  1.290259\n",
       "10   2000-01-11   4.388252  -0.637626   3.112450 -0.560724\n",
       "11   2000-01-12   4.141638  -0.556491   3.831374 -1.863118\n",
       "12   2000-01-13   4.966941  -0.578397   3.571572 -0.493173\n",
       "13   2000-01-14   6.116760  -0.029307   3.514619 -0.494530\n",
       "14   2000-01-15   5.338049  -1.412198   4.012855 -0.693139\n",
       "15   2000-01-16   6.230910  -1.382897   4.648010 -0.756710\n",
       "16   2000-01-17   5.578335  -2.549541   3.964644 -1.003535\n",
       "17   2000-01-18   5.340738  -3.523163   3.898083 -1.277909\n",
       "18   2000-01-19   7.145029  -3.417869   3.012497 -0.831458\n",
       "19   2000-01-20   6.166079  -3.960132   1.669948 -0.800765\n",
       "20   2000-01-21   6.727804  -5.487706   2.534853 -0.941656\n",
       "21   2000-01-22   4.978130  -4.049615   1.710763 -0.913651\n",
       "22   2000-01-23   4.706233  -5.278976  -0.933052  0.464182\n",
       "23   2000-01-24   5.931528  -7.069576  -0.909746  1.338625\n",
       "24   2000-01-25   4.709982  -8.812731  -0.887957  2.423196\n",
       "25   2000-01-26   5.805053  -7.426573  -1.060426  1.344238\n",
       "26   2000-01-27   6.286606  -8.330138  -2.062515 -0.472303\n",
       "27   2000-01-28   7.158546  -9.930097  -1.390967  0.014263\n",
       "28   2000-01-29   8.690384  -9.912813  -0.903772  0.108499\n",
       "29   2000-01-30   8.627902  -8.996593  -1.447826 -1.584048\n",
       "..          ...        ...        ...        ...       ...\n",
       "970  2002-08-28  20.192388 -50.741498  24.767963  3.495698\n",
       "971  2002-08-29  19.661373 -51.814655  26.126077  3.258355\n",
       "972  2002-08-30  20.804062 -53.341244  26.752666  3.715633\n",
       "973  2002-08-31  20.169308 -54.426674  26.349431  5.274960\n",
       "974  2002-09-01  18.672835 -53.825156  26.459316  6.174852\n",
       "975  2002-09-02  19.673797 -54.380768  27.143951  5.964886\n",
       "976  2002-09-03  19.483579 -52.924545  26.435586  7.101420\n",
       "977  2002-09-04  19.579785 -52.884867  26.598365  6.320535\n",
       "978  2002-09-05  18.668792 -51.770703  27.355257  5.672363\n",
       "979  2002-09-06  18.422903 -51.785583  28.105573  4.661753\n",
       "980  2002-09-07  20.061515 -52.383116  29.571828  4.123646\n",
       "981  2002-09-08  19.747621 -52.633614  30.573960  3.142126\n",
       "982  2002-09-09  19.703509 -50.080823  31.680422  3.666273\n",
       "983  2002-09-10  19.556864 -51.043502  32.299978  3.703339\n",
       "984  2002-09-11  20.696303 -50.860516  32.143988  5.288226\n",
       "985  2002-09-12  19.891154 -51.764167  31.481004  5.743583\n",
       "986  2002-09-13  18.341554 -51.869538  32.055400  5.099564\n",
       "987  2002-09-14  16.939542 -52.288906  32.775229  4.485089\n",
       "988  2002-09-15  17.419492 -52.334411  34.245490  5.691778\n",
       "989  2002-09-16  17.484277 -54.685923  34.958475  6.531997\n",
       "990  2002-09-17  14.391416 -55.657610  35.896745  6.599511\n",
       "991  2002-09-18  14.313095 -55.679451  36.231059  6.210611\n",
       "992  2002-09-19  12.604613 -56.596247  35.918327  6.799488\n",
       "993  2002-09-20  12.029845 -55.212064  36.245659  5.835118\n",
       "994  2002-09-21  13.663996 -56.213242  35.051920  6.087890\n",
       "995  2002-09-22  13.466857 -56.001938  35.635111  6.770146\n",
       "996  2002-09-23  12.882151 -54.632885  35.895589  8.226364\n",
       "997  2002-09-24  11.432314 -54.404167  35.985037  8.588822\n",
       "998  2002-09-25  12.536015 -52.676758  36.568811  8.554950\n",
       "999  2002-09-26  11.949705 -53.593150  36.157738  8.177058\n",
       "\n",
       "[1000 rows x 5 columns]"
      ]
     },
     "execution_count": 374,
     "metadata": {},
     "output_type": "execute_result"
    }
   ],
   "source": [
    "pd.read_csv('foo.csv') #csv 파일 읽기"
   ]
  },
  {
   "cell_type": "code",
   "execution_count": null,
   "metadata": {
    "collapsed": false
   },
   "outputs": [],
   "source": []
  }
 ],
 "metadata": {
  "kernelspec": {
   "display_name": "Python 2",
   "language": "python",
   "name": "python2"
  },
  "language_info": {
   "codemirror_mode": {
    "name": "ipython",
    "version": 2
   },
   "file_extension": ".py",
   "mimetype": "text/x-python",
   "name": "python",
   "nbconvert_exporter": "python",
   "pygments_lexer": "ipython2",
   "version": "2.7.9"
  }
 },
 "nbformat": 4,
 "nbformat_minor": 0
}
